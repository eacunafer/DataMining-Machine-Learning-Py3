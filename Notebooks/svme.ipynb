{
 "cells": [
  {
   "cell_type": "markdown",
   "metadata": {},
   "source": [
    "### Data Mining and Machine Learning\n",
    "### Classification using Support Vector Machine\n",
    "#### Edgar Acuna \n",
    "#### April 2019"
   ]
  },
  {
   "cell_type": "code",
   "execution_count": 1,
   "metadata": {},
   "outputs": [],
   "source": [
    "import warnings\n",
    "warnings.filterwarnings(\"ignore\")\n",
    "import numpy as np\n",
    "import pandas as pd\n",
    "from sklearn.preprocessing import LabelEncoder\n",
    "from sklearn.model_selection import train_test_split\n",
    "from sklearn import svm\n",
    "from sklearn.metrics import classification_report, confusion_matrix\n",
    "from sklearn.preprocessing import StandardScaler\n",
    "import matplotlib.pyplot as plt\n",
    "%matplotlib inline"
   ]
  },
  {
   "cell_type": "markdown",
   "metadata": {},
   "source": [
    "#### Example 1. SVM applied to the prediction of  final grade in a class bases on examens E1 and E2"
   ]
  },
  {
   "cell_type": "code",
   "execution_count": 2,
   "metadata": {},
   "outputs": [],
   "source": [
    "#df=pd.read_csv(\"http://academic.uprm.edu/eacuna/eje1dis.csv\")\n",
    "df=pd.read_csv(\"c://PW-PR/eje1dis.csv\")"
   ]
  },
  {
   "cell_type": "code",
   "execution_count": 3,
   "metadata": {},
   "outputs": [],
   "source": [
    "#Normalizibg the predictor matrix\n",
    "y=df['Nota']\n",
    "X=df.iloc[:,0:2]\n",
    "lb_make = LabelEncoder()\n",
    "df[\"pass\"] = lb_make.fit_transform(df[\"Nota\"])\n",
    "y2=df['pass']\n",
    "y1=y2.as_matrix()\n",
    "X1=X.as_matrix()\n",
    "scaler = StandardScaler()\n",
    "scaler.fit(X1)\n",
    "X1= scaler.transform(X1)"
   ]
  },
  {
   "cell_type": "code",
   "execution_count": 4,
   "metadata": {},
   "outputs": [],
   "source": [
    "#print y1"
   ]
  },
  {
   "cell_type": "code",
   "execution_count": 5,
   "metadata": {
    "scrolled": true
   },
   "outputs": [],
   "source": [
    "#print X1"
   ]
  },
  {
   "cell_type": "markdown",
   "metadata": {},
   "source": [
    "### Applying a linear SVM classifier and calculating the percentage of accuracy"
   ]
  },
  {
   "cell_type": "code",
   "execution_count": 6,
   "metadata": {},
   "outputs": [
    {
     "data": {
      "text/plain": [
       "LinearSVC(C=1.0, class_weight=None, dual=True, fit_intercept=True,\n",
       "     intercept_scaling=1, loss='squared_hinge', max_iter=1000,\n",
       "     multi_class='ovr', penalty='l2', random_state=None, tol=0.0001,\n",
       "     verbose=0)"
      ]
     },
     "execution_count": 6,
     "metadata": {},
     "output_type": "execute_result"
    }
   ],
   "source": [
    "#Applying a linear SVM classifier and calculating the percentage of accuracy\n",
    "lin_clf = svm.LinearSVC()\n",
    "lin_clf.fit(X1, y) "
   ]
  },
  {
   "cell_type": "code",
   "execution_count": 7,
   "metadata": {},
   "outputs": [],
   "source": [
    "#lin_clf.support_vectors_"
   ]
  },
  {
   "cell_type": "code",
   "execution_count": 8,
   "metadata": {},
   "outputs": [],
   "source": [
    "#lin_clf.n_support_"
   ]
  },
  {
   "cell_type": "code",
   "execution_count": 9,
   "metadata": {
    "scrolled": true
   },
   "outputs": [
    {
     "name": "stdout",
     "output_type": "stream",
     "text": [
      "[[ 8  0]\n",
      " [ 0 24]]\n"
     ]
    }
   ],
   "source": [
    "#The confusion matrix\n",
    "pred=lin_clf.predict(X1)\n",
    "print(confusion_matrix(y,pred))"
   ]
  },
  {
   "cell_type": "code",
   "execution_count": 38,
   "metadata": {},
   "outputs": [
    {
     "ename": "ValueError",
     "evalue": "Lengths must match to compare",
     "output_type": "error",
     "traceback": [
      "\u001b[1;31m---------------------------------------------------------------------------\u001b[0m",
      "\u001b[1;31mValueError\u001b[0m                                Traceback (most recent call last)",
      "\u001b[1;32m<ipython-input-38-084f7f1baa94>\u001b[0m in \u001b[0;36m<module>\u001b[1;34m\u001b[0m\n\u001b[0;32m      1\u001b[0m \u001b[1;31m#Calculating the number of errors\u001b[0m\u001b[1;33m\u001b[0m\u001b[1;33m\u001b[0m\u001b[0m\n\u001b[1;32m----> 2\u001b[1;33m \u001b[0merror\u001b[0m\u001b[1;33m=\u001b[0m\u001b[1;33m(\u001b[0m\u001b[0my\u001b[0m\u001b[1;33m!=\u001b[0m\u001b[0mpred\u001b[0m\u001b[1;33m)\u001b[0m\u001b[1;33m.\u001b[0m\u001b[0msum\u001b[0m\u001b[1;33m(\u001b[0m\u001b[1;33m)\u001b[0m\u001b[1;33m\u001b[0m\u001b[0m\n\u001b[0m\u001b[0;32m      3\u001b[0m \u001b[0mprint\u001b[0m \u001b[1;33m(\u001b[0m\u001b[1;34m\"This is the number  of errors=\"\u001b[0m\u001b[1;33m,\u001b[0m \u001b[0merror\u001b[0m\u001b[1;33m)\u001b[0m\u001b[1;33m\u001b[0m\u001b[0m\n",
      "\u001b[1;32m~\\Anaconda2\\envs\\ipykernel_py3\\lib\\site-packages\\pandas\\core\\ops.py\u001b[0m in \u001b[0;36mwrapper\u001b[1;34m(self, other, axis)\u001b[0m\n\u001b[0;32m   1251\u001b[0m             \u001b[1;31m# as it will broadcast\u001b[0m\u001b[1;33m\u001b[0m\u001b[1;33m\u001b[0m\u001b[0m\n\u001b[0;32m   1252\u001b[0m             \u001b[1;32mif\u001b[0m \u001b[0mother\u001b[0m\u001b[1;33m.\u001b[0m\u001b[0mndim\u001b[0m \u001b[1;33m!=\u001b[0m \u001b[1;36m0\u001b[0m \u001b[1;32mand\u001b[0m \u001b[0mlen\u001b[0m\u001b[1;33m(\u001b[0m\u001b[0mself\u001b[0m\u001b[1;33m)\u001b[0m \u001b[1;33m!=\u001b[0m \u001b[0mlen\u001b[0m\u001b[1;33m(\u001b[0m\u001b[0mother\u001b[0m\u001b[1;33m)\u001b[0m\u001b[1;33m:\u001b[0m\u001b[1;33m\u001b[0m\u001b[0m\n\u001b[1;32m-> 1253\u001b[1;33m                 \u001b[1;32mraise\u001b[0m \u001b[0mValueError\u001b[0m\u001b[1;33m(\u001b[0m\u001b[1;34m'Lengths must match to compare'\u001b[0m\u001b[1;33m)\u001b[0m\u001b[1;33m\u001b[0m\u001b[0m\n\u001b[0m\u001b[0;32m   1254\u001b[0m \u001b[1;33m\u001b[0m\u001b[0m\n\u001b[0;32m   1255\u001b[0m             \u001b[0mres_values\u001b[0m \u001b[1;33m=\u001b[0m \u001b[0mna_op\u001b[0m\u001b[1;33m(\u001b[0m\u001b[0mself\u001b[0m\u001b[1;33m.\u001b[0m\u001b[0mvalues\u001b[0m\u001b[1;33m,\u001b[0m \u001b[0mnp\u001b[0m\u001b[1;33m.\u001b[0m\u001b[0masarray\u001b[0m\u001b[1;33m(\u001b[0m\u001b[0mother\u001b[0m\u001b[1;33m)\u001b[0m\u001b[1;33m)\u001b[0m\u001b[1;33m\u001b[0m\u001b[0m\n",
      "\u001b[1;31mValueError\u001b[0m: Lengths must match to compare"
     ]
    }
   ],
   "source": [
    "#Calculating the number of errors\n",
    "error=(y!=pred).sum()\n",
    "print (\"This is the number  of errors=\", error)"
   ]
  },
  {
   "cell_type": "code",
   "execution_count": 11,
   "metadata": {
    "scrolled": true
   },
   "outputs": [
    {
     "name": "stdout",
     "output_type": "stream",
     "text": [
      "              precision    recall  f1-score   support\n",
      "\n",
      "           f       1.00      1.00      1.00         8\n",
      "           p       1.00      1.00      1.00        24\n",
      "\n",
      "   micro avg       1.00      1.00      1.00        32\n",
      "   macro avg       1.00      1.00      1.00        32\n",
      "weighted avg       1.00      1.00      1.00        32\n",
      "\n"
     ]
    }
   ],
   "source": [
    "print(classification_report(y,pred))"
   ]
  },
  {
   "cell_type": "code",
   "execution_count": 12,
   "metadata": {},
   "outputs": [
    {
     "data": {
      "image/png": "[encoded data removed]",
      "text/plain": [
       "<Figure size 720x720 with 1 Axes>"
      ]
     },
     "metadata": {},
     "output_type": "display_data"
    }
   ],
   "source": [
    "#Visualizing the decision Boundary\n",
    "from matplotlib.colors import ListedColormap\n",
    "#creando una columna \"pass\" numerica para representar las clases\n",
    "#lb_make = LabelEncoder()\n",
    "#df[\"pass\"] = lb_make.fit_transform(df[\"Nota\"])\n",
    "#y2=df['pass']\n",
    "#y1=y2.as_matrix()\n",
    "#X1=X.as_matrix()\n",
    "#scaler = StandardScaler()\n",
    "#scaler.fit(X1)\n",
    "#StandardScaler(copy=True, with_mean=True, with_std=True)\n",
    "#X1= scaler.transform(X1)\n",
    "lin_clf = svm.LinearSVC()\n",
    "lin_clf.fit(X1, y1) \n",
    "eje1=np.arange(start = X1[:, 0].min()-1, stop = X1[:, 0].max() + 1, step = 0.01)\n",
    "eje2=np.arange(start = X1[:, 1].min()-1, stop = X1[:, 1].max() + 1, step = 0.01)\n",
    "Y1, Y2 = np.meshgrid(eje1,eje2)\n",
    "pred2=lin_clf.predict(np.c_[Y1.ravel(), Y2.ravel()]).reshape(Y1.shape)\n",
    "plt.figure(figsize=(10, 10))\n",
    "plt.pcolormesh(Y1, Y2, pred2,cmap=plt.cm.Paired)\n",
    "# Plot also the training points#\n",
    "plt.scatter(X1[:, 0], X1[:, 1], c=y1, edgecolors='k')\n",
    "plt.xlabel('Ex1')\n",
    "plt.ylabel('Ex2')\n",
    "plt.xlim(Y1.min(), Y1.max())\n",
    "plt.ylim(Y2.min(), Y2.max())\n",
    "plt.xticks(())\n",
    "plt.yticks(())\n",
    "\n",
    "plt.show()"
   ]
  },
  {
   "cell_type": "markdown",
   "metadata": {},
   "source": [
    "### Applying a nonlinear SVM to the same dataset"
   ]
  },
  {
   "cell_type": "code",
   "execution_count": 13,
   "metadata": {},
   "outputs": [
    {
     "data": {
      "text/plain": [
       "SVC(C=1.0, cache_size=200, class_weight=None, coef0=0.0,\n",
       "  decision_function_shape='ovr', degree=3, gamma='auto_deprecated',\n",
       "  kernel='rbf', max_iter=-1, probability=False, random_state=None,\n",
       "  shrinking=True, tol=0.001, verbose=False)"
      ]
     },
     "execution_count": 13,
     "metadata": {},
     "output_type": "execute_result"
    }
   ],
   "source": [
    "clf = svm.SVC()\n",
    "clf.fit(X1, y) "
   ]
  },
  {
   "cell_type": "code",
   "execution_count": 14,
   "metadata": {},
   "outputs": [
    {
     "data": {
      "text/plain": [
       "array([[-1.37429956, -0.56638465],\n",
       "       [-2.31141707, -0.87228016],\n",
       "       [-0.30330812, -0.94875403],\n",
       "       [ 0.2321876 , -1.52230811],\n",
       "       [-0.63799295, -0.98699097],\n",
       "       [-0.97267777, -1.44583423],\n",
       "       [ 0.36606153, -1.75172974],\n",
       "       [ 1.63786386,  1.38369921],\n",
       "       [ 1.90561172,  1.03956676],\n",
       "       [ 0.2321876 ,  1.34546227],\n",
       "       [-1.84285831,  0.96309288],\n",
       "       [-0.63799295, -0.03106751],\n",
       "       [ 0.29912456, -1.29288648],\n",
       "       [ 0.90155725, -1.48407117],\n",
       "       [-0.50411902, -0.60462159],\n",
       "       [-0.37024509, -0.48991077],\n",
       "       [ 0.49993546, -0.68109546]])"
      ]
     },
     "execution_count": 14,
     "metadata": {},
     "output_type": "execute_result"
    }
   ],
   "source": [
    "clf.support_vectors_"
   ]
  },
  {
   "cell_type": "code",
   "execution_count": 15,
   "metadata": {},
   "outputs": [
    {
     "data": {
      "text/plain": [
       "array([ 7, 10])"
      ]
     },
     "execution_count": 15,
     "metadata": {},
     "output_type": "execute_result"
    }
   ],
   "source": [
    "clf.n_support_"
   ]
  },
  {
   "cell_type": "code",
   "execution_count": 16,
   "metadata": {},
   "outputs": [
    {
     "name": "stdout",
     "output_type": "stream",
     "text": [
      "['p' 'p' 'p' 'p' 'p' 'p' 'p' 'p' 'p' 'p' 'p' 'p' 'p' 'p' 'p' 'p' 'p' 'p'\n",
      " 'p' 'p' 'p' 'p' 'p' 'p' 'f' 'f' 'p' 'f' 'f' 'f' 'f' 'f']\n"
     ]
    }
   ],
   "source": [
    "#Calculando las predicciones\n",
    "pred=clf.predict(X1)\n",
    "print(pred)\n",
    "#print(confusion_matrix(y,pred))"
   ]
  },
  {
   "cell_type": "code",
   "execution_count": 17,
   "metadata": {},
   "outputs": [
    {
     "data": {
      "image/png": "[encoded data removed]",
      "text/plain": [
       "<Figure size 720x720 with 1 Axes>"
      ]
     },
     "metadata": {},
     "output_type": "display_data"
    }
   ],
   "source": [
    "#Visualizing the decision Boundary\n",
    "from matplotlib.colors import ListedColormap\n",
    "#creando una columna \"pass\" numerica para representar las clases\n",
    "lb_make = LabelEncoder()\n",
    "df[\"pass\"] = lb_make.fit_transform(df[\"Nota\"])\n",
    "y2=df['pass']\n",
    "y1=y2.as_matrix()\n",
    "X1=X.as_matrix()\n",
    "scaler = StandardScaler()\n",
    "scaler.fit(X1)\n",
    "StandardScaler(copy=True, with_mean=True, with_std=True)\n",
    "X1= scaler.transform(X1)\n",
    "clf = svm.SVC()\n",
    "clf.fit(X1, y1) \n",
    "eje1=np.arange(start = X1[:, 0].min()-1, stop = X1[:, 0].max() + 1, step = 0.001)\n",
    "eje2=np.arange(start = X1[:, 1].min()-1, stop = X1[:, 1].max() + 1, step = 0.001)\n",
    "Y1, Y2 = np.meshgrid(eje1,eje2)\n",
    "pred2=clf.predict(np.c_[Y1.ravel(), Y2.ravel()]).reshape(Y1.shape)\n",
    "plt.figure(figsize=(10, 10))\n",
    "plt.pcolormesh(Y1, Y2, pred2,cmap=plt.cm.Paired)\n",
    "# Plot also the training points#\n",
    "plt.scatter(X1[:, 0], X1[:, 1], c=y1, edgecolors='k')\n",
    "plt.xlabel('Ex1')\n",
    "plt.ylabel('Ex2')\n",
    "plt.xlim(Y1.min(), Y1.max())\n",
    "plt.ylim(Y2.min(), Y2.max())\n",
    "plt.xticks(())\n",
    "plt.yticks(())\n",
    "\n",
    "plt.show()"
   ]
  },
  {
   "cell_type": "markdown",
   "metadata": {},
   "source": [
    "#### Example 2. Nonlinear  SVM applied to Diabetes"
   ]
  },
  {
   "cell_type": "code",
   "execution_count": 18,
   "metadata": {},
   "outputs": [
    {
     "name": "stdout",
     "output_type": "stream",
     "text": [
      "(768, 9)\n"
     ]
    },
    {
     "data": {
      "text/html": [
       "<div>\n",
       "<style scoped>\n",
       "    .dataframe tbody tr th:only-of-type {\n",
       "        vertical-align: middle;\n",
       "    }\n",
       "\n",
       "    .dataframe tbody tr th {\n",
       "        vertical-align: top;\n",
       "    }\n",
       "\n",
       "    .dataframe thead th {\n",
       "        text-align: right;\n",
       "    }\n",
       "</style>\n",
       "<table border=\"1\" class=\"dataframe\">\n",
       "  <thead>\n",
       "    <tr style=\"text-align: right;\">\n",
       "      <th></th>\n",
       "      <th>preg</th>\n",
       "      <th>plas</th>\n",
       "      <th>pres</th>\n",
       "      <th>skin</th>\n",
       "      <th>test</th>\n",
       "      <th>mass</th>\n",
       "      <th>pedi</th>\n",
       "      <th>age</th>\n",
       "      <th>class</th>\n",
       "    </tr>\n",
       "  </thead>\n",
       "  <tbody>\n",
       "    <tr>\n",
       "      <th>0</th>\n",
       "      <td>6</td>\n",
       "      <td>148</td>\n",
       "      <td>72</td>\n",
       "      <td>35</td>\n",
       "      <td>0</td>\n",
       "      <td>33.6</td>\n",
       "      <td>0.627</td>\n",
       "      <td>50</td>\n",
       "      <td>2</td>\n",
       "    </tr>\n",
       "    <tr>\n",
       "      <th>1</th>\n",
       "      <td>1</td>\n",
       "      <td>85</td>\n",
       "      <td>66</td>\n",
       "      <td>29</td>\n",
       "      <td>0</td>\n",
       "      <td>26.6</td>\n",
       "      <td>0.351</td>\n",
       "      <td>31</td>\n",
       "      <td>1</td>\n",
       "    </tr>\n",
       "    <tr>\n",
       "      <th>2</th>\n",
       "      <td>8</td>\n",
       "      <td>183</td>\n",
       "      <td>64</td>\n",
       "      <td>0</td>\n",
       "      <td>0</td>\n",
       "      <td>23.3</td>\n",
       "      <td>0.672</td>\n",
       "      <td>32</td>\n",
       "      <td>2</td>\n",
       "    </tr>\n",
       "    <tr>\n",
       "      <th>3</th>\n",
       "      <td>1</td>\n",
       "      <td>89</td>\n",
       "      <td>66</td>\n",
       "      <td>23</td>\n",
       "      <td>94</td>\n",
       "      <td>28.1</td>\n",
       "      <td>0.167</td>\n",
       "      <td>21</td>\n",
       "      <td>1</td>\n",
       "    </tr>\n",
       "    <tr>\n",
       "      <th>4</th>\n",
       "      <td>0</td>\n",
       "      <td>137</td>\n",
       "      <td>40</td>\n",
       "      <td>35</td>\n",
       "      <td>168</td>\n",
       "      <td>43.1</td>\n",
       "      <td>2.288</td>\n",
       "      <td>33</td>\n",
       "      <td>2</td>\n",
       "    </tr>\n",
       "  </tbody>\n",
       "</table>\n",
       "</div>"
      ],
      "text/plain": [
       "   preg  plas  pres  skin  test  mass   pedi  age  class\n",
       "0     6   148    72    35     0  33.6  0.627   50      2\n",
       "1     1    85    66    29     0  26.6  0.351   31      1\n",
       "2     8   183    64     0     0  23.3  0.672   32      2\n",
       "3     1    89    66    23    94  28.1  0.167   21      1\n",
       "4     0   137    40    35   168  43.1  2.288   33      2"
      ]
     },
     "execution_count": 18,
     "metadata": {},
     "output_type": "execute_result"
    }
   ],
   "source": [
    "url= \"http://academic.uprm.edu/eacuna/diabetes.dat\"\n",
    "names = ['preg', 'plas', 'pres', 'skin', 'test', 'mass', 'pedi', 'age', 'class']\n",
    "data = pd.read_table(url, names=names)\n",
    "print(data.shape)\n",
    "data.head()"
   ]
  },
  {
   "cell_type": "code",
   "execution_count": 19,
   "metadata": {},
   "outputs": [],
   "source": [
    "y=data['class']\n",
    "X=data.iloc[:,0:8]\n",
    "lb_make = LabelEncoder()\n",
    "data[\"class\"] = lb_make.fit_transform(data[\"class\"])\n",
    "y2=data['class']\n",
    "X_train, X_test, y_train, y_test = train_test_split(X, y)\n",
    "y1=y.as_matrix()\n",
    "X1=X.as_matrix()\n",
    "scaler = StandardScaler()\n",
    "scaler.fit(X_train)\n",
    "X_train= scaler.transform(X_train)\n",
    "X_test = scaler.transform(X_test)"
   ]
  },
  {
   "cell_type": "code",
   "execution_count": 20,
   "metadata": {},
   "outputs": [
    {
     "data": {
      "text/plain": [
       "SVC(C=1.0, cache_size=200, class_weight=None, coef0=0.0,\n",
       "  decision_function_shape='ovr', degree=3, gamma='auto_deprecated',\n",
       "  kernel='rbf', max_iter=-1, probability=False, random_state=None,\n",
       "  shrinking=True, tol=0.001, verbose=False)"
      ]
     },
     "execution_count": 20,
     "metadata": {},
     "output_type": "execute_result"
    }
   ],
   "source": [
    "clf=svm.SVC()\n",
    "clf.fit(X, y2) "
   ]
  },
  {
   "cell_type": "code",
   "execution_count": 21,
   "metadata": {},
   "outputs": [
    {
     "data": {
      "text/plain": [
       "array([[1.00e+00, 8.50e+01, 6.60e+01, ..., 2.66e+01, 3.51e-01, 3.10e+01],\n",
       "       [1.00e+00, 8.90e+01, 6.60e+01, ..., 2.81e+01, 1.67e-01, 2.10e+01],\n",
       "       [5.00e+00, 1.16e+02, 7.40e+01, ..., 2.56e+01, 2.01e-01, 3.00e+01],\n",
       "       ...,\n",
       "       [6.00e+00, 1.90e+02, 9.20e+01, ..., 3.55e+01, 2.78e-01, 6.60e+01],\n",
       "       [9.00e+00, 1.70e+02, 7.40e+01, ..., 4.40e+01, 4.03e-01, 4.30e+01],\n",
       "       [1.00e+00, 1.26e+02, 6.00e+01, ..., 3.01e+01, 3.49e-01, 4.70e+01]])"
      ]
     },
     "execution_count": 21,
     "metadata": {},
     "output_type": "execute_result"
    }
   ],
   "source": [
    "clf.support_vectors_"
   ]
  },
  {
   "cell_type": "code",
   "execution_count": 22,
   "metadata": {},
   "outputs": [
    {
     "data": {
      "text/plain": [
       "array([500, 268])"
      ]
     },
     "execution_count": 22,
     "metadata": {},
     "output_type": "execute_result"
    }
   ],
   "source": [
    "clf.n_support_"
   ]
  },
  {
   "cell_type": "markdown",
   "metadata": {},
   "source": [
    "#### Accuracy using resubstitution"
   ]
  },
  {
   "cell_type": "code",
   "execution_count": 23,
   "metadata": {},
   "outputs": [
    {
     "data": {
      "text/plain": [
       "1.0"
      ]
     },
     "execution_count": 23,
     "metadata": {},
     "output_type": "execute_result"
    }
   ],
   "source": [
    "#Accuracy using resubstitution\n",
    "clf.score(X,y2)"
   ]
  },
  {
   "cell_type": "markdown",
   "metadata": {},
   "source": [
    "#### Accuracy using cross validation"
   ]
  },
  {
   "cell_type": "code",
   "execution_count": 24,
   "metadata": {},
   "outputs": [
    {
     "name": "stdout",
     "output_type": "stream",
     "text": [
      "The accuracy estimated by CV is: 0.7616883116883117\n"
     ]
    }
   ],
   "source": [
    "#Accuracy using cross validation\n",
    "#y1=y.as_matrix()\n",
    "X1=X.as_matrix()\n",
    "scaler = StandardScaler()\n",
    "scaler.fit(X1)\n",
    "#StandardScaler(copy=True, with_mean=True, with_std=True)\n",
    "X1= scaler.transform(X1)\n",
    "clf=svm.SVC()\n",
    "clf.fit(X1, y2) \n",
    "from sklearn.model_selection import cross_val_score\n",
    "scores = cross_val_score(clf, X1, y2, cv=10)\n",
    "print ('The accuracy estimated by CV is:', scores.mean())    "
   ]
  },
  {
   "cell_type": "code",
   "execution_count": 25,
   "metadata": {},
   "outputs": [],
   "source": [
    "#accuracy using train and test datasets\n",
    "X_train, X_test, y_train, y_test = train_test_split(X, y)\n",
    "scaler = StandardScaler()\n",
    "scaler.fit(X_train)\n",
    "#StandardScaler(copy=True, with_mean=True, with_std=True)\n",
    "X_train= scaler.transform(X_train)\n",
    "X_test = scaler.transform(X_test)\n",
    "clf=svm.SVC()\n",
    "clf.fit(X_train, y_train) \n",
    "pred=clf.predict(X_test)"
   ]
  },
  {
   "cell_type": "code",
   "execution_count": 26,
   "metadata": {},
   "outputs": [
    {
     "name": "stdout",
     "output_type": "stream",
     "text": [
      "              precision    recall  f1-score   support\n",
      "\n",
      "           0       0.79      0.88      0.83       125\n",
      "           1       0.72      0.57      0.63        67\n",
      "\n",
      "   micro avg       0.77      0.77      0.77       192\n",
      "   macro avg       0.75      0.72      0.73       192\n",
      "weighted avg       0.77      0.77      0.76       192\n",
      "\n"
     ]
    }
   ],
   "source": [
    "print (classification_report(y_test,pred))"
   ]
  },
  {
   "cell_type": "markdown",
   "metadata": {},
   "source": [
    "### Example 3. Linear SVM applied to Landsat "
   ]
  },
  {
   "cell_type": "code",
   "execution_count": 27,
   "metadata": {},
   "outputs": [],
   "source": [
    "#Loading the Landsat dataset\n",
    "url='http://academic.uprm.edu/eacuna/landsat.txt'\n",
    "data = pd.read_table(url, header=None,delim_whitespace=True)\n",
    "y=data.iloc[:,36]\n",
    "X=data.iloc[:,0:36]\n",
    "#y1=y.as_matrix()\n",
    "#X1=X.as_matrix()\n",
    "X_train, X_test, y_train, y_test = train_test_split(X, y)\n",
    "scaler = StandardScaler()\n",
    "scaler.fit(X_train)\n",
    "X_train= scaler.transform(X_train)\n",
    "X_test = scaler.transform(X_test)"
   ]
  },
  {
   "cell_type": "code",
   "execution_count": 28,
   "metadata": {},
   "outputs": [
    {
     "data": {
      "text/plain": [
       "LinearSVC(C=1.0, class_weight=None, dual=True, fit_intercept=True,\n",
       "     intercept_scaling=1, loss='squared_hinge', max_iter=1000,\n",
       "     multi_class='ovr', penalty='l2', random_state=None, tol=0.0001,\n",
       "     verbose=0)"
      ]
     },
     "execution_count": 28,
     "metadata": {},
     "output_type": "execute_result"
    }
   ],
   "source": [
    "#Accuracy estimation using the \"holdout\" method \n",
    "X_train, X_test, y_train, y_test = train_test_split(X, y)\n",
    "lin_clf = svm.LinearSVC()\n",
    "lin_clf.fit(X_train, y_train) "
   ]
  },
  {
   "cell_type": "code",
   "execution_count": 29,
   "metadata": {},
   "outputs": [
    {
     "name": "stdout",
     "output_type": "stream",
     "text": [
      "0.7177637511271415\n",
      "[[268   0   4   0   4   0]\n",
      " [  3  63   0   0  45   0]\n",
      " [  1   0 175   0  31  27]\n",
      " [  0   0  46   0  25  40]\n",
      " [  1   0   0   0 103  10]\n",
      " [  0   0  29   0  47 187]]\n"
     ]
    }
   ],
   "source": [
    "pred=lin_clf.predict(X_test)\n",
    "print ((pred==y_test).mean())\n",
    "print(confusion_matrix(y_test, pred))"
   ]
  },
  {
   "cell_type": "code",
   "execution_count": 30,
   "metadata": {},
   "outputs": [
    {
     "name": "stdout",
     "output_type": "stream",
     "text": [
      "              precision    recall  f1-score   support\n",
      "\n",
      "           1       0.98      0.97      0.98       276\n",
      "           2       1.00      0.57      0.72       111\n",
      "           3       0.69      0.75      0.72       234\n",
      "           4       0.00      0.00      0.00       111\n",
      "           5       0.40      0.90      0.56       114\n",
      "           6       0.71      0.71      0.71       263\n",
      "\n",
      "   micro avg       0.72      0.72      0.72      1109\n",
      "   macro avg       0.63      0.65      0.61      1109\n",
      "weighted avg       0.70      0.72      0.69      1109\n",
      "\n"
     ]
    }
   ],
   "source": [
    "print(classification_report(y_test, pred))"
   ]
  },
  {
   "cell_type": "markdown",
   "metadata": {
    "collapsed": true
   },
   "source": [
    "### V. Linear SVM applied to Shuttle"
   ]
  },
  {
   "cell_type": "code",
   "execution_count": 31,
   "metadata": {},
   "outputs": [],
   "source": [
    "url = \"https://academic.uprm.edu/eacuna/shuttle.trn\"\n",
    "data = pd.read_table(url, header=None,delim_whitespace=True)"
   ]
  },
  {
   "cell_type": "code",
   "execution_count": 32,
   "metadata": {},
   "outputs": [],
   "source": [
    "y=data.iloc[:,9]\n",
    "X=data.iloc[:,0:9]\n",
    "#y1=y.as_matrix()\n",
    "#X1=X.as_matrix()\n",
    "scaler = StandardScaler()\n",
    "scaler.fit(X_train)\n",
    "StandardScaler(copy=True, with_mean=True, with_std=True)\n",
    "X_train= scaler.transform(X_train)\n",
    "X_test = scaler.transform(X_test)"
   ]
  },
  {
   "cell_type": "code",
   "execution_count": 33,
   "metadata": {},
   "outputs": [
    {
     "data": {
      "text/plain": [
       "LinearSVC(C=1.0, class_weight=None, dual=True, fit_intercept=True,\n",
       "     intercept_scaling=1, loss='squared_hinge', max_iter=1000,\n",
       "     multi_class='ovr', penalty='l2', random_state=None, tol=0.0001,\n",
       "     verbose=0)"
      ]
     },
     "execution_count": 33,
     "metadata": {},
     "output_type": "execute_result"
    }
   ],
   "source": [
    "#Accuracy estimacion using the  \"holdout\" method \n",
    "X_train, X_test, y_train, y_test = train_test_split(X, y)\n",
    "lin_clf = svm.LinearSVC()\n",
    "lin_clf.fit(X_train, y_train) "
   ]
  },
  {
   "cell_type": "code",
   "execution_count": 34,
   "metadata": {},
   "outputs": [
    {
     "name": "stdout",
     "output_type": "stream",
     "text": [
      "[[8416    0  102    2    0    0    1]\n",
      " [   6    7    0    3    0    0    0]\n",
      " [  12    0   23    0    0    0    0]\n",
      " [ 568   35 1087    0    0    0    1]\n",
      " [   1    0    0    0  607    0    0]\n",
      " [   1    1    0    0    1    0    0]\n",
      " [   0    0    1    0    0    0    0]]\n"
     ]
    }
   ],
   "source": [
    "pred=lin_clf.predict(X_test)\n",
    "print(confusion_matrix(y_test, pred))"
   ]
  },
  {
   "cell_type": "code",
   "execution_count": 35,
   "metadata": {},
   "outputs": [
    {
     "name": "stdout",
     "output_type": "stream",
     "text": [
      "              precision    recall  f1-score   support\n",
      "\n",
      "           1       0.93      0.99      0.96      8521\n",
      "           2       0.16      0.44      0.24        16\n",
      "           3       0.02      0.66      0.04        35\n",
      "           4       0.00      0.00      0.00      1691\n",
      "           5       1.00      1.00      1.00       608\n",
      "           6       0.00      0.00      0.00         3\n",
      "           7       0.00      0.00      0.00         1\n",
      "\n",
      "   micro avg       0.83      0.83      0.83     10875\n",
      "   macro avg       0.30      0.44      0.32     10875\n",
      "weighted avg       0.79      0.83      0.81     10875\n",
      "\n"
     ]
    }
   ],
   "source": [
    "print(classification_report(y_test, pred))"
   ]
  },
  {
   "cell_type": "code",
   "execution_count": 36,
   "metadata": {},
   "outputs": [
    {
     "data": {
      "text/plain": [
       "SVC(C=1.0, cache_size=200, class_weight=None, coef0=0.0,\n",
       "  decision_function_shape='ovo', degree=3, gamma='auto_deprecated',\n",
       "  kernel='rbf', max_iter=-1, probability=False, random_state=None,\n",
       "  shrinking=True, tol=0.001, verbose=False)"
      ]
     },
     "execution_count": 36,
     "metadata": {},
     "output_type": "execute_result"
    }
   ],
   "source": [
    "clf1 = svm.SVC(decision_function_shape='ovo')\n",
    "clf1.fit(X_train, y_train) "
   ]
  },
  {
   "cell_type": "code",
   "execution_count": 37,
   "metadata": {},
   "outputs": [
    {
     "name": "stdout",
     "output_type": "stream",
     "text": [
      "[[8416    0  102    2    0    0    1]\n",
      " [   6    7    0    3    0    0    0]\n",
      " [  12    0   23    0    0    0    0]\n",
      " [ 568   35 1087    0    0    0    1]\n",
      " [   1    0    0    0  607    0    0]\n",
      " [   1    1    0    0    1    0    0]\n",
      " [   0    0    1    0    0    0    0]]\n"
     ]
    }
   ],
   "source": [
    "pred=lin_clf.predict(X_test)\n",
    "print(confusion_matrix(y_test, pred))"
   ]
  },
  {
   "cell_type": "code",
   "execution_count": null,
   "metadata": {},
   "outputs": [],
   "source": []
  }
 ],
 "metadata": {
  "kernelspec": {
   "display_name": "Python 3",
   "language": "python",
   "name": "python3"
  },
  "language_info": {
   "codemirror_mode": {
    "name": "ipython",
    "version": 3
   },
   "file_extension": ".py",
   "mimetype": "text/x-python",
   "name": "python",
   "nbconvert_exporter": "python",
   "pygments_lexer": "ipython3",
   "version": "3.5.5"
  }
 },
 "nbformat": 4,
 "nbformat_minor": 2
}
