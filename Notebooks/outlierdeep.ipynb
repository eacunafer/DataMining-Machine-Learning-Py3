{
 "cells": [
  {
   "cell_type": "markdown",
   "metadata": {},
   "source": [
    "### Outlier Detection using autoencoders-First version\n",
    "#### Edgar Acuna\n",
    "#### February 2019"
   ]
  },
  {
   "cell_type": "code",
   "execution_count": 37,
   "metadata": {},
   "outputs": [],
   "source": [
    "import warnings\n",
    "warnings.filterwarnings('ignore')\n",
    "import tensorflow as tf\n",
    "import keras\n",
    "from keras.models import Model, load_model\n",
    "from keras.layers import Input, Dense\n",
    "from keras.callbacks import ModelCheckpoint, TensorBoard\n",
    "from keras import regularizers\n",
    "from sklearn.preprocessing import  StandardScaler, MinMaxScaler\n",
    "from sklearn.model_selection import train_test_split\n",
    "import pandas as pd\n",
    "import numpy as np\n",
    "import matplotlib.pyplot as plt\n",
    "%matplotlib inline"
   ]
  },
  {
   "cell_type": "code",
   "execution_count": 38,
   "metadata": {},
   "outputs": [],
   "source": [
    "url= \"c://PW-PR/diabetes.dat\"\n",
    "names = ['preg', 'plas', 'pres', 'skin', 'test', 'mass', 'pedi', 'age', 'class']\n",
    "data = pd.read_table(url, names=names)\n",
    "yd=data['class']\n",
    "Xd=data.iloc[:,0:8]"
   ]
  },
  {
   "cell_type": "code",
   "execution_count": 39,
   "metadata": {},
   "outputs": [
    {
     "data": {
      "text/plain": [
       "(768, 9)"
      ]
     },
     "execution_count": 39,
     "metadata": {},
     "output_type": "execute_result"
    }
   ],
   "source": [
    "from sklearn.preprocessing import  StandardScaler\n",
    "cols_to_norm = ['preg', 'plas', 'pres', 'skin', 'test', 'mass', 'pedi', 'age']\n",
    "scaler = MinMaxScaler()\n",
    "data[cols_to_norm] = scaler.fit_transform(data[cols_to_norm])\n",
    "data.shape"
   ]
  },
  {
   "cell_type": "code",
   "execution_count": 40,
   "metadata": {},
   "outputs": [
    {
     "name": "stdout",
     "output_type": "stream",
     "text": [
      "<class 'pandas.core.frame.DataFrame'>\n",
      "RangeIndex: 768 entries, 0 to 767\n",
      "Data columns (total 8 columns):\n",
      "preg    768 non-null float64\n",
      "plas    768 non-null float64\n",
      "pres    768 non-null float64\n",
      "skin    768 non-null float64\n",
      "test    768 non-null float64\n",
      "mass    768 non-null float64\n",
      "pedi    768 non-null float64\n",
      "age     768 non-null float64\n",
      "dtypes: float64(8)\n",
      "memory usage: 48.1 KB\n"
     ]
    }
   ],
   "source": [
    "train_x = data.drop(['class'], axis=1) #drop the class column\n",
    "train_x.info()\n",
    "train_x = train_x.values #transform to ndarray\n",
    "#train_x.shape"
   ]
  },
  {
   "cell_type": "code",
   "execution_count": 41,
   "metadata": {},
   "outputs": [
    {
     "name": "stdout",
     "output_type": "stream",
     "text": [
      "_________________________________________________________________\n",
      "Layer (type)                 Output Shape              Param #   \n",
      "=================================================================\n",
      "input_3 (InputLayer)         (None, 8)                 0         \n",
      "_________________________________________________________________\n",
      "dense_9 (Dense)              (None, 4)                 36        \n",
      "_________________________________________________________________\n",
      "dense_10 (Dense)             (None, 2)                 10        \n",
      "_________________________________________________________________\n",
      "dense_11 (Dense)             (None, 2)                 6         \n",
      "_________________________________________________________________\n",
      "dense_12 (Dense)             (None, 8)                 24        \n",
      "=================================================================\n",
      "Total params: 76\n",
      "Trainable params: 76\n",
      "Non-trainable params: 0\n",
      "_________________________________________________________________\n"
     ]
    }
   ],
   "source": [
    "# No of Neurons in each Layer \n",
    "nb_epoch = 20\n",
    "batch_size = 50\n",
    "input_dim = train_x.shape[1] #num of columns, 8\n",
    "encoding_dim = 4\n",
    "hidden_dim = int(encoding_dim / 2) #i.e. 7\n",
    "learning_rate = 1e-7\n",
    "\n",
    "input_layer = Input(shape=(input_dim, ))\n",
    "encoder = Dense(encoding_dim, activation=\"tanh\", activity_regularizer=regularizers.l1(learning_rate))(input_layer)\n",
    "encoder = Dense(hidden_dim, activation=\"relu\")(encoder)\n",
    "decoder = Dense(hidden_dim, activation='tanh')(encoder)\n",
    "decoder = Dense(input_dim, activation='relu')(decoder)\n",
    "autoencoder = Model(inputs=input_layer, outputs=decoder)\n",
    "autoencoder.summary()"
   ]
  },
  {
   "cell_type": "code",
   "execution_count": 42,
   "metadata": {},
   "outputs": [
    {
     "name": "stdout",
     "output_type": "stream",
     "text": [
      "Time to run the model: 1.321427 Sec.\n"
     ]
    }
   ],
   "source": [
    "import datetime\n",
    "autoencoder.compile(optimizer='adam', loss='mse' )\n",
    "\n",
    "t_ini = datetime.datetime.now()\n",
    "history = autoencoder.fit(train_x, train_x,\n",
    "                        epochs=nb_epoch,\n",
    "                        batch_size=batch_size,\n",
    "                        shuffle=True,\n",
    "                        validation_split=0.1,\n",
    "                        verbose=0\n",
    "                        )\n",
    "\n",
    "t_fin = datetime.datetime.now()\n",
    "print('Time to run the model: {} Sec.'.format((t_fin - \n",
    "t_ini).total_seconds()))\n",
    "\n",
    "\n",
    "\n",
    "df_history = pd.DataFrame(history.history) "
   ]
  },
  {
   "cell_type": "code",
   "execution_count": 43,
   "metadata": {},
   "outputs": [
    {
     "name": "stdout",
     "output_type": "stream",
     "text": [
      "[[0.2583545  0.6442502  0.         ... 0.49658906 0.18492362 0.        ]\n",
      " [0.17630816 0.5039822  0.         ... 0.40098175 0.13110375 0.        ]\n",
      " [0.29253596 0.7041126  0.         ... 0.53647596 0.2068003  0.        ]\n",
      " ...\n",
      " [0.26036867 0.64774996 0.         ... 0.49893835 0.18622328 0.        ]\n",
      " [0.21290872 0.56605697 0.         ... 0.44361228 0.15530322 0.        ]\n",
      " [0.16948196 0.49247807 0.         ... 0.3930338  0.12656242 0.        ]]\n"
     ]
    },
    {
     "data": {
      "text/plain": [
       "(768, 8)"
      ]
     },
     "execution_count": 43,
     "metadata": {},
     "output_type": "execute_result"
    }
   ],
   "source": [
    "predictions = autoencoder.predict(train_x)\n",
    "print(predictions)\n",
    "train_x.shape"
   ]
  },
  {
   "cell_type": "code",
   "execution_count": 44,
   "metadata": {
    "scrolled": true
   },
   "outputs": [
    {
     "data": {
      "text/html": [
       "<div>\n",
       "<style scoped>\n",
       "    .dataframe tbody tr th:only-of-type {\n",
       "        vertical-align: middle;\n",
       "    }\n",
       "\n",
       "    .dataframe tbody tr th {\n",
       "        vertical-align: top;\n",
       "    }\n",
       "\n",
       "    .dataframe thead th {\n",
       "        text-align: right;\n",
       "    }\n",
       "</style>\n",
       "<table border=\"1\" class=\"dataframe\">\n",
       "  <thead>\n",
       "    <tr style=\"text-align: right;\">\n",
       "      <th></th>\n",
       "      <th>Label</th>\n",
       "      <th>reconstruction_error</th>\n",
       "    </tr>\n",
       "  </thead>\n",
       "  <tbody>\n",
       "    <tr>\n",
       "      <th>count</th>\n",
       "      <td>768.000000</td>\n",
       "      <td>768.000000</td>\n",
       "    </tr>\n",
       "    <tr>\n",
       "      <th>mean</th>\n",
       "      <td>1.348958</td>\n",
       "      <td>0.076002</td>\n",
       "    </tr>\n",
       "    <tr>\n",
       "      <th>std</th>\n",
       "      <td>0.476951</td>\n",
       "      <td>0.035176</td>\n",
       "    </tr>\n",
       "    <tr>\n",
       "      <th>min</th>\n",
       "      <td>1.000000</td>\n",
       "      <td>0.002206</td>\n",
       "    </tr>\n",
       "    <tr>\n",
       "      <th>25%</th>\n",
       "      <td>1.000000</td>\n",
       "      <td>0.051983</td>\n",
       "    </tr>\n",
       "    <tr>\n",
       "      <th>50%</th>\n",
       "      <td>1.000000</td>\n",
       "      <td>0.069243</td>\n",
       "    </tr>\n",
       "    <tr>\n",
       "      <th>75%</th>\n",
       "      <td>2.000000</td>\n",
       "      <td>0.095652</td>\n",
       "    </tr>\n",
       "    <tr>\n",
       "      <th>max</th>\n",
       "      <td>2.000000</td>\n",
       "      <td>0.256393</td>\n",
       "    </tr>\n",
       "  </tbody>\n",
       "</table>\n",
       "</div>"
      ],
      "text/plain": [
       "            Label  reconstruction_error\n",
       "count  768.000000            768.000000\n",
       "mean     1.348958              0.076002\n",
       "std      0.476951              0.035176\n",
       "min      1.000000              0.002206\n",
       "25%      1.000000              0.051983\n",
       "50%      1.000000              0.069243\n",
       "75%      2.000000              0.095652\n",
       "max      2.000000              0.256393"
      ]
     },
     "execution_count": 44,
     "metadata": {},
     "output_type": "execute_result"
    }
   ],
   "source": [
    "mse = np.mean(np.power(train_x- predictions, 2), axis=1)\n",
    "df_error = pd.DataFrame({'reconstruction_error': mse, 'Label': yd}, index=yd.index)\n",
    "df_error.describe()"
   ]
  },
  {
   "cell_type": "code",
   "execution_count": 45,
   "metadata": {},
   "outputs": [
    {
     "data": {
      "text/plain": [
       "26"
      ]
     },
     "execution_count": 45,
     "metadata": {},
     "output_type": "execute_result"
    }
   ],
   "source": [
    "dfOutliers = df_error.index[df_error.reconstruction_error > .15].tolist()\n",
    "len(dfOutliers)"
   ]
  },
  {
   "cell_type": "code",
   "execution_count": 46,
   "metadata": {
    "scrolled": true
   },
   "outputs": [
    {
     "name": "stdout",
     "output_type": "stream",
     "text": [
      "[8, 9, 13, 43, 53, 177, 186, 212, 228, 247, 362, 370, 375, 445, 459, 487, 519, 579, 584, 662, 672, 684, 691, 753, 759, 763]\n"
     ]
    }
   ],
   "source": [
    "print(dfOutliers)"
   ]
  },
  {
   "cell_type": "code",
   "execution_count": 47,
   "metadata": {},
   "outputs": [],
   "source": [
    "y=df_error['reconstruction_error'].tolist()\n",
    "x = df_error.index.tolist()"
   ]
  },
  {
   "cell_type": "code",
   "execution_count": 48,
   "metadata": {},
   "outputs": [
    {
     "data": {
      "text/plain": [
       "[<matplotlib.lines.Line2D at 0x1b478e00cf8>]"
      ]
     },
     "execution_count": 48,
     "metadata": {},
     "output_type": "execute_result"
    },
    {
     "data": {
      "image/png": "[encoded data removed]",
      "text/plain": [
       "<Figure size 432x288 with 1 Axes>"
      ]
     },
     "metadata": {
      "needs_background": "light"
     },
     "output_type": "display_data"
    }
   ],
   "source": [
    "thresh=0.15\n",
    "plt.plot(x, y, 'ro')\n",
    "plt.ylabel('reconstruction_error')\n",
    "plt.xlabel('Index')\n",
    "plt.title(' Threshold  = ' +str(thresh))\n",
    "plt.plot([0,2000],[thresh,thresh],\"g--\")"
   ]
  },
  {
   "cell_type": "code",
   "execution_count": 49,
   "metadata": {},
   "outputs": [],
   "source": [
    "#cleaning the data from outliers\n",
    "data3=data.drop(dfOutliers,axis=0)"
   ]
  },
  {
   "cell_type": "markdown",
   "metadata": {},
   "source": [
    "### Outlier effect on the LDA Classifier"
   ]
  },
  {
   "cell_type": "code",
   "execution_count": 50,
   "metadata": {},
   "outputs": [
    {
     "name": "stdout",
     "output_type": "stream",
     "text": [
      "Accuracy using LDA: 0.77 (+/- 0.07)\n"
     ]
    }
   ],
   "source": [
    "from sklearn.discriminant_analysis import LinearDiscriminantAnalysis\n",
    "from sklearn.model_selection import cross_val_score\n",
    "ldadis = LinearDiscriminantAnalysis().fit(Xd,yd)\n",
    "scores = cross_val_score(ldadis, Xd, yd, cv=10)\n",
    "print(\"Accuracy using LDA: %0.2f (+/- %0.2f)\" % (scores.mean(), scores.std() * 2))"
   ]
  },
  {
   "cell_type": "code",
   "execution_count": 51,
   "metadata": {},
   "outputs": [
    {
     "name": "stdout",
     "output_type": "stream",
     "text": [
      "Accuracy using LDA after outlier removal: 0.77 (+/- 0.10)\n"
     ]
    }
   ],
   "source": [
    "y=data3['class']\n",
    "X=data3.iloc[:,0:8]\n",
    "#Haciendo el analisis discriminante y calculando el porcentaje de precision\n",
    "ldadis = LinearDiscriminantAnalysis().fit(X,y)\n",
    "scores = cross_val_score(ldadis, X, y, cv=10)\n",
    "scores\n",
    "print(\"Accuracy using LDA after outlier removal: %0.2f (+/- %0.2f)\" % (scores.mean(), scores.std() * 2))"
   ]
  },
  {
   "cell_type": "markdown",
   "metadata": {},
   "source": [
    "#### Outlier effect on the KNN classifier"
   ]
  },
  {
   "cell_type": "code",
   "execution_count": 52,
   "metadata": {},
   "outputs": [
    {
     "name": "stdout",
     "output_type": "stream",
     "text": [
      "Accuracy using k=5 neighbors: 0.72 (+/- 0.09)\n"
     ]
    }
   ],
   "source": [
    "from sklearn.neighbors import KNeighborsClassifier\n",
    "from sklearn.model_selection import cross_val_score\n",
    "neigh = KNeighborsClassifier(n_neighbors=5)\n",
    "scores = cross_val_score(neigh, Xd, yd, cv=10)\n",
    "scores\n",
    "print(\"Accuracy using k=5 neighbors: %0.2f (+/- %0.2f)\" % (scores.mean(), scores.std() * 2))"
   ]
  },
  {
   "cell_type": "code",
   "execution_count": 53,
   "metadata": {},
   "outputs": [
    {
     "name": "stdout",
     "output_type": "stream",
     "text": [
      "Accuracy using k=5 neighbors after outlier removal: 0.75 (+/- 0.12)\n"
     ]
    }
   ],
   "source": [
    "y=data3['class']\n",
    "X=data3.iloc[:,0:8]\n",
    "y1=y.as_matrix()\n",
    "X1=X.as_matrix()\n",
    "neigh = KNeighborsClassifier(n_neighbors=5)\n",
    "scores = cross_val_score(neigh, X1, y1, cv=10)\n",
    "scores\n",
    "print(\"Accuracy using k=5 neighbors after outlier removal: %0.2f (+/- %0.2f)\" % (scores.mean(), scores.std() * 2))"
   ]
  },
  {
   "cell_type": "code",
   "execution_count": null,
   "metadata": {},
   "outputs": [],
   "source": []
  }
 ],
 "metadata": {
  "kernelspec": {
   "display_name": "Python 3",
   "language": "python",
   "name": "python3"
  },
  "language_info": {
   "codemirror_mode": {
    "name": "ipython",
    "version": 3
   },
   "file_extension": ".py",
   "mimetype": "text/x-python",
   "name": "python",
   "nbconvert_exporter": "python",
   "pygments_lexer": "ipython3",
   "version": "3.5.5"
  }
 },
 "nbformat": 4,
 "nbformat_minor": 2
}
