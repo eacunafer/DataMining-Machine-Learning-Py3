{
 "cells": [
  {
   "cell_type": "markdown",
   "metadata": {},
   "source": [
    "## Data Mining and Machine Learning\n",
    "### Logistic Regression: The  ROC curve\n",
    "### Libraries:scikit-learn and h2o\n",
    "#### Edgar Acuna"
   ]
  },
  {
   "cell_type": "code",
   "execution_count": 1,
   "metadata": {
    "scrolled": true
   },
   "outputs": [
    {
     "name": "stdout",
     "output_type": "stream",
     "text": [
      "Checking whether there is an H2O instance running at http://localhost:54323. connected.\n"
     ]
    },
    {
     "data": {
      "text/html": [
       "<div style=\"overflow:auto\"><table style=\"width:50%\"><tr><td>H2O cluster uptime:</td>\n",
       "<td>1 day 5 hours 56 mins</td></tr>\n",
       "<tr><td>H2O cluster timezone:</td>\n",
       "<td>America/La_Paz</td></tr>\n",
       "<tr><td>H2O data parsing timezone:</td>\n",
       "<td>UTC</td></tr>\n",
       "<tr><td>H2O cluster version:</td>\n",
       "<td>3.22.1.2</td></tr>\n",
       "<tr><td>H2O cluster version age:</td>\n",
       "<td>2 months and 1 day </td></tr>\n",
       "<tr><td>H2O cluster name:</td>\n",
       "<td>H2O_from_python_edgar2017_ivtlb5</td></tr>\n",
       "<tr><td>H2O cluster total nodes:</td>\n",
       "<td>1</td></tr>\n",
       "<tr><td>H2O cluster free memory:</td>\n",
       "<td>1.624 Gb</td></tr>\n",
       "<tr><td>H2O cluster total cores:</td>\n",
       "<td>4</td></tr>\n",
       "<tr><td>H2O cluster allowed cores:</td>\n",
       "<td>4</td></tr>\n",
       "<tr><td>H2O cluster status:</td>\n",
       "<td>locked, healthy</td></tr>\n",
       "<tr><td>H2O connection url:</td>\n",
       "<td>http://localhost:54323</td></tr>\n",
       "<tr><td>H2O connection proxy:</td>\n",
       "<td>None</td></tr>\n",
       "<tr><td>H2O internal security:</td>\n",
       "<td>False</td></tr>\n",
       "<tr><td>H2O API Extensions:</td>\n",
       "<td>Algos, AutoML, Core V3, Core V4</td></tr>\n",
       "<tr><td>Python version:</td>\n",
       "<td>3.5.5 final</td></tr></table></div>"
      ],
      "text/plain": [
       "--------------------------  --------------------------------\n",
       "H2O cluster uptime:         1 day 5 hours 56 mins\n",
       "H2O cluster timezone:       America/La_Paz\n",
       "H2O data parsing timezone:  UTC\n",
       "H2O cluster version:        3.22.1.2\n",
       "H2O cluster version age:    2 months and 1 day\n",
       "H2O cluster name:           H2O_from_python_edgar2017_ivtlb5\n",
       "H2O cluster total nodes:    1\n",
       "H2O cluster free memory:    1.624 Gb\n",
       "H2O cluster total cores:    4\n",
       "H2O cluster allowed cores:  4\n",
       "H2O cluster status:         locked, healthy\n",
       "H2O connection url:         http://localhost:54323\n",
       "H2O connection proxy:\n",
       "H2O internal security:      False\n",
       "H2O API Extensions:         Algos, AutoML, Core V3, Core V4\n",
       "Python version:             3.5.5 final\n",
       "--------------------------  --------------------------------"
      ]
     },
     "metadata": {},
     "output_type": "display_data"
    }
   ],
   "source": [
    "import numpy as np\n",
    "import pandas as pd\n",
    "from sklearn.linear_model import LogisticRegression\n",
    "from sklearn.model_selection import train_test_split\n",
    "from sklearn.preprocessing import StandardScaler\n",
    "from sklearn.preprocessing import LabelEncoder\n",
    "from sklearn.preprocessing import OneHotEncoder\n",
    "from sklearn.metrics import roc_auc_score\n",
    "from sklearn.tree import DecisionTreeClassifier\n",
    "from sklearn.metrics import classification_report\n",
    "from sklearn.metrics import roc_curve, auc\n",
    "import matplotlib.pyplot as plt\n",
    "import h2o\n",
    "from h2o.estimators.glm  import H2OGeneralizedLinearEstimator\n",
    "\n",
    "#h2o.connect()\n",
    "#h2o.no_progress()\n",
    "h2o.init(ip=\"localhost\", port=54323)"
   ]
  },
  {
   "cell_type": "markdown",
   "metadata": {},
   "source": [
    "### I Regresion Logistica para Diabetes usando scikit learn"
   ]
  },
  {
   "cell_type": "code",
   "execution_count": 3,
   "metadata": {},
   "outputs": [
    {
     "name": "stderr",
     "output_type": "stream",
     "text": [
      "C:\\Users\\edgar2017\\Anaconda2\\envs\\ipykernel_py3\\lib\\site-packages\\sklearn\\linear_model\\logistic.py:432: FutureWarning: Default solver will be changed to 'lbfgs' in 0.22. Specify a solver to silence this warning.\n",
      "  FutureWarning)\n"
     ]
    },
    {
     "name": "stdout",
     "output_type": "stream",
     "text": [
      "[[ 1.17052230e-01  2.83873955e-02 -1.68897224e-02  7.55274087e-04\n",
      "  -6.42755924e-04  5.97603789e-02  6.77671880e-01  7.23947807e-03]]\n"
     ]
    }
   ],
   "source": [
    "url= \"http://academic.uprm.edu/eacuna/diabetes.dat\"\n",
    "names = ['preg', 'plas', 'pres', 'skin', 'test', 'mass', 'pedi', 'age', 'class']\n",
    "data = pd.read_table(url, names=names,header=None)\n",
    "#La variable de respuesta y debe ser binaria (0,1)\n",
    "y=data['class']-1\n",
    "X=data.iloc[:,0:8]\n",
    "#Haciendo la regresion logistica ya calculando su precision\n",
    "model = LogisticRegression()\n",
    "model = model.fit(X, y)\n",
    "print(model.coef_)"
   ]
  },
  {
   "cell_type": "code",
   "execution_count": 4,
   "metadata": {},
   "outputs": [
    {
     "name": "stdout",
     "output_type": "stream",
     "text": [
      "              precision    recall  f1-score   support\n",
      "\n",
      "           0       0.79      0.90      0.84       500\n",
      "           1       0.74      0.55      0.63       268\n",
      "\n",
      "   micro avg       0.77      0.77      0.77       768\n",
      "   macro avg       0.76      0.72      0.73       768\n",
      "weighted avg       0.77      0.77      0.77       768\n",
      "\n"
     ]
    }
   ],
   "source": [
    "# Tasa de precision\n",
    "model.score(X, y)\n",
    "predictions = model.predict(X)\n",
    "print(classification_report(y, predictions))"
   ]
  },
  {
   "cell_type": "markdown",
   "metadata": {},
   "source": [
    "### II. ROC curve using scikit-learn"
   ]
  },
  {
   "cell_type": "code",
   "execution_count": 5,
   "metadata": {},
   "outputs": [],
   "source": [
    "#Hallando las probabilidades posteriores\n",
    "probs = model.predict_proba(X)\n",
    "preds = probs[:,1]\n",
    "false_positive_rate, true_positive_rate, thresholds = roc_curve(y, preds)\n",
    "roc_auc = auc(false_positive_rate, true_positive_rate)"
   ]
  },
  {
   "cell_type": "code",
   "execution_count": 7,
   "metadata": {},
   "outputs": [
    {
     "data": {
      "image/png": "[encoded data removed]",
      "text/plain": [
       "<Figure size 432x288 with 1 Axes>"
      ]
     },
     "metadata": {
      "needs_background": "light"
     },
     "output_type": "display_data"
    }
   ],
   "source": [
    "plt.title('The ROC curve')\n",
    "plt.plot(false_positive_rate, true_positive_rate, 'b',\n",
    "label='AUC = %0.2f'% roc_auc)\n",
    "plt.legend(loc='lower right')\n",
    "plt.plot([0,1],[0,1],'r--')\n",
    "plt.xlim([0,1.0])\n",
    "plt.ylim([0,1.0])\n",
    "plt.ylabel('True Positive Rate')\n",
    "plt.xlabel('False Positive Rate')\n",
    "plt.show()"
   ]
  },
  {
   "cell_type": "markdown",
   "metadata": {},
   "source": [
    "The AUC value represents the area under the curve ROC (azul). Ia classifier has an  AUC between .9 and 1 then its predictions are very good, if the AUC lies between  .8 y .89 its prediction are good. A poor classifier is one with an  AUC less than de .60 de AUC.\n"
   ]
  },
  {
   "cell_type": "markdown",
   "metadata": {},
   "source": [
    "### III Intersection of the sensitivity and  specifity curves to choose the threshold"
   ]
  },
  {
   "cell_type": "code",
   "execution_count": 8,
   "metadata": {},
   "outputs": [
    {
     "data": {
      "image/png": "[encoded data removed]",
      "text/plain": [
       "<Figure size 432x288 with 1 Axes>"
      ]
     },
     "metadata": {
      "needs_background": "light"
     },
     "output_type": "display_data"
    }
   ],
   "source": [
    "plt.title('Choice of the optimal Threshold')\n",
    "plt.plot(thresholds, true_positive_rate, 'b',label='Sensitivity')\n",
    "plt.legend(loc='lower right')\n",
    "plt.plot(thresholds, 1-false_positive_rate,'r--')\n",
    "plt.xlim([0,1.0])\n",
    "plt.ylim([0,1.0])\n",
    "plt.ylabel('Sensitivity ')\n",
    "plt.xlabel('Probability')\n",
    "plt.show()"
   ]
  },
  {
   "cell_type": "markdown",
   "metadata": {},
   "source": [
    "El threshold que deberia ser usado en lugar de p=.5 para hacer la clasificacion sera aprox .35"
   ]
  },
  {
   "cell_type": "markdown",
   "metadata": {},
   "source": [
    "### IV.  ROC curve using H20"
   ]
  },
  {
   "cell_type": "code",
   "execution_count": 9,
   "metadata": {},
   "outputs": [
    {
     "name": "stdout",
     "output_type": "stream",
     "text": [
      "Parse progress: |█████████████████████████████████████████████████████████| 100%\n",
      "glm Model Build progress: |███████████████████████████████████████████████| 100%\n",
      "Coefficients: glm coefficients\n",
      "\n"
     ]
    },
    {
     "data": {
      "text/html": [
       "<div style=\"overflow:auto\"><table style=\"width:50%\"><tr><td><b>names</b></td>\n",
       "<td><b>coefficients</b></td>\n",
       "<td><b>std_error</b></td>\n",
       "<td><b>z_value</b></td>\n",
       "<td><b>p_value</b></td>\n",
       "<td><b>standardized_coefficients</b></td></tr>\n",
       "<tr><td>Intercept</td>\n",
       "<td>-8.4046964</td>\n",
       "<td>0.7166361</td>\n",
       "<td>-11.7279840</td>\n",
       "<td>0.0</td>\n",
       "<td>-0.8711017</td></tr>\n",
       "<tr><td>C1</td>\n",
       "<td>0.1231823</td>\n",
       "<td>0.0320776</td>\n",
       "<td>3.8401399</td>\n",
       "<td>0.0001230</td>\n",
       "<td>0.4150724</td></tr>\n",
       "<tr><td>C2</td>\n",
       "<td>0.0351637</td>\n",
       "<td>0.0037087</td>\n",
       "<td>9.4813920</td>\n",
       "<td>0.0</td>\n",
       "<td>1.1242760</td></tr>\n",
       "<tr><td>C3</td>\n",
       "<td>-0.0132955</td>\n",
       "<td>0.0052336</td>\n",
       "<td>-2.5404157</td>\n",
       "<td>0.0110721</td>\n",
       "<td>-0.2573460</td></tr>\n",
       "<tr><td>C4</td>\n",
       "<td>0.0006190</td>\n",
       "<td>0.0068994</td>\n",
       "<td>0.0897131</td>\n",
       "<td>0.9285152</td>\n",
       "<td>0.0098739</td></tr>\n",
       "<tr><td>C5</td>\n",
       "<td>-0.0011917</td>\n",
       "<td>0.0009012</td>\n",
       "<td>-1.3223092</td>\n",
       "<td>0.1860652</td>\n",
       "<td>-0.1373362</td></tr>\n",
       "<tr><td>C6</td>\n",
       "<td>0.0897010</td>\n",
       "<td>0.0150876</td>\n",
       "<td>5.9453328</td>\n",
       "<td>0.0000000</td>\n",
       "<td>0.7072168</td></tr>\n",
       "<tr><td>C7</td>\n",
       "<td>0.9451797</td>\n",
       "<td>0.2991475</td>\n",
       "<td>3.1595776</td>\n",
       "<td>0.0015800</td>\n",
       "<td>0.3131651</td></tr>\n",
       "<tr><td>C8</td>\n",
       "<td>0.0148690</td>\n",
       "<td>0.0093348</td>\n",
       "<td>1.5928583</td>\n",
       "<td>0.1111920</td>\n",
       "<td>0.1748629</td></tr></table></div>"
      ],
      "text/plain": [
       "names      coefficients    std_error    z_value    p_value      standardized_coefficients\n",
       "---------  --------------  -----------  ---------  -----------  ---------------------------\n",
       "Intercept  -8.4047         0.716636     -11.728    0            -0.871102\n",
       "C1         0.123182        0.0320776    3.84014    0.000122964  0.415072\n",
       "C2         0.0351637       0.00370871   9.48139    0            1.12428\n",
       "C3         -0.0132955      0.00523361   -2.54042   0.0110721    -0.257346\n",
       "C4         0.000618964     0.00689938   0.0897131  0.928515     0.00987385\n",
       "C5         -0.0011917      0.000901226  -1.32231   0.186065     -0.137336\n",
       "C6         0.089701        0.0150876    5.94533    2.75896e-09  0.707217\n",
       "C7         0.94518         0.299148     3.15958    0.00157998   0.313165\n",
       "C8         0.014869        0.00933479   1.59286    0.111192     0.174863"
      ]
     },
     "metadata": {},
     "output_type": "display_data"
    },
    {
     "data": {
      "text/plain": []
     },
     "execution_count": 9,
     "metadata": {},
     "output_type": "execute_result"
    }
   ],
   "source": [
    "diabetes = h2o.import_file(\"https://academic.uprm.edu/eacuna/diabetes.dat\")\n",
    "myx=['C1','C2','C3','C4','C5','C6','C7','C8']\n",
    "diabetes['C9']=diabetes['C9'].asfactor()\n",
    "myy='C9'\n",
    "glm_model = H2OGeneralizedLinearEstimator(family= \"binomial\", lambda_ = 0, compute_p_values = True)\n",
    "glm_model.train(myx, myy, training_frame= diabetes)\n",
    "glm_model\n",
    "glm_model._model_json['output']['coefficients_table']"
   ]
  },
  {
   "cell_type": "code",
   "execution_count": 10,
   "metadata": {},
   "outputs": [
    {
     "data": {
      "image/png": "[encoded data removed]",
      "text/plain": [
       "<Figure size 432x288 with 1 Axes>"
      ]
     },
     "metadata": {
      "needs_background": "light"
     },
     "output_type": "display_data"
    }
   ],
   "source": [
    "perf = glm_model.model_performance()  #train=True is the default, so it's not needed\n",
    "perf.plot()"
   ]
  },
  {
   "cell_type": "code",
   "execution_count": 11,
   "metadata": {},
   "outputs": [
    {
     "data": {
      "text/plain": [
       "2    147\n",
       "1     52\n",
       "Name: class, dtype: int64"
      ]
     },
     "execution_count": 11,
     "metadata": {},
     "output_type": "execute_result"
    }
   ],
   "source": [
    "#Effect after using the threshokd\n",
    "#Number of instances assigned to class 1 using p=.5\n",
    "dp=data[preds>.5]\n",
    "dp['class'].value_counts()"
   ]
  },
  {
   "cell_type": "code",
   "execution_count": 12,
   "metadata": {},
   "outputs": [
    {
     "data": {
      "text/plain": [
       "77.47395833333333"
      ]
     },
     "execution_count": 12,
     "metadata": {},
     "output_type": "execute_result"
    }
   ],
   "source": [
    "#Accuracy with p=.5\n",
    "595*100/768.0"
   ]
  },
  {
   "cell_type": "code",
   "execution_count": 13,
   "metadata": {},
   "outputs": [
    {
     "data": {
      "text/plain": [
       "2    205\n",
       "1    114\n",
       "Name: class, dtype: int64"
      ]
     },
     "execution_count": 13,
     "metadata": {},
     "output_type": "execute_result"
    }
   ],
   "source": [
    "#Number of instances assigned to class 1 using p=.35\n",
    "dp1=data[preds>.35]\n",
    "dp1['class'].value_counts()"
   ]
  },
  {
   "cell_type": "code",
   "execution_count": 14,
   "metadata": {},
   "outputs": [
    {
     "data": {
      "text/plain": [
       "76.953125"
      ]
     },
     "execution_count": 14,
     "metadata": {},
     "output_type": "execute_result"
    }
   ],
   "source": [
    "#New accuracy\n",
    "591*100/768.0"
   ]
  },
  {
   "cell_type": "code",
   "execution_count": null,
   "metadata": {},
   "outputs": [],
   "source": []
  }
 ],
 "metadata": {
  "kernelspec": {
   "display_name": "Python 3",
   "language": "python",
   "name": "python3"
  },
  "language_info": {
   "codemirror_mode": {
    "name": "ipython",
    "version": 3
   },
   "file_extension": ".py",
   "mimetype": "text/x-python",
   "name": "python",
   "nbconvert_exporter": "python",
   "pygments_lexer": "ipython3",
   "version": "3.5.5"
  }
 },
 "nbformat": 4,
 "nbformat_minor": 2
}
