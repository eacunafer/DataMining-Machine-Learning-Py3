{
 "cells": [
  {
   "cell_type": "markdown",
   "metadata": {},
   "source": [
    "## Data Mining and Machine Learning \n",
    "### Logistic Regression for mixed type datasets\n",
    "###  Libraries: scikit-learn and h2o\n",
    "#### Edgar Acuna\n",
    "#### March 2019"
   ]
  },
  {
   "cell_type": "code",
   "execution_count": 17,
   "metadata": {
    "scrolled": true
   },
   "outputs": [
    {
     "name": "stdout",
     "output_type": "stream",
     "text": [
      "Checking whether there is an H2O instance running at http://localhost:54323. connected.\n"
     ]
    },
    {
     "data": {
      "text/html": [
       "<div style=\"overflow:auto\"><table style=\"width:50%\"><tr><td>H2O cluster uptime:</td>\n",
       "<td>1 day 6 hours 15 mins</td></tr>\n",
       "<tr><td>H2O cluster timezone:</td>\n",
       "<td>America/La_Paz</td></tr>\n",
       "<tr><td>H2O data parsing timezone:</td>\n",
       "<td>UTC</td></tr>\n",
       "<tr><td>H2O cluster version:</td>\n",
       "<td>3.22.1.2</td></tr>\n",
       "<tr><td>H2O cluster version age:</td>\n",
       "<td>2 months and 1 day </td></tr>\n",
       "<tr><td>H2O cluster name:</td>\n",
       "<td>H2O_from_python_edgar2017_ivtlb5</td></tr>\n",
       "<tr><td>H2O cluster total nodes:</td>\n",
       "<td>1</td></tr>\n",
       "<tr><td>H2O cluster free memory:</td>\n",
       "<td>1.622 Gb</td></tr>\n",
       "<tr><td>H2O cluster total cores:</td>\n",
       "<td>4</td></tr>\n",
       "<tr><td>H2O cluster allowed cores:</td>\n",
       "<td>4</td></tr>\n",
       "<tr><td>H2O cluster status:</td>\n",
       "<td>locked, healthy</td></tr>\n",
       "<tr><td>H2O connection url:</td>\n",
       "<td>http://localhost:54323</td></tr>\n",
       "<tr><td>H2O connection proxy:</td>\n",
       "<td>None</td></tr>\n",
       "<tr><td>H2O internal security:</td>\n",
       "<td>False</td></tr>\n",
       "<tr><td>H2O API Extensions:</td>\n",
       "<td>Algos, AutoML, Core V3, Core V4</td></tr>\n",
       "<tr><td>Python version:</td>\n",
       "<td>3.5.5 final</td></tr></table></div>"
      ],
      "text/plain": [
       "--------------------------  --------------------------------\n",
       "H2O cluster uptime:         1 day 6 hours 15 mins\n",
       "H2O cluster timezone:       America/La_Paz\n",
       "H2O data parsing timezone:  UTC\n",
       "H2O cluster version:        3.22.1.2\n",
       "H2O cluster version age:    2 months and 1 day\n",
       "H2O cluster name:           H2O_from_python_edgar2017_ivtlb5\n",
       "H2O cluster total nodes:    1\n",
       "H2O cluster free memory:    1.622 Gb\n",
       "H2O cluster total cores:    4\n",
       "H2O cluster allowed cores:  4\n",
       "H2O cluster status:         locked, healthy\n",
       "H2O connection url:         http://localhost:54323\n",
       "H2O connection proxy:\n",
       "H2O internal security:      False\n",
       "H2O API Extensions:         Algos, AutoML, Core V3, Core V4\n",
       "Python version:             3.5.5 final\n",
       "--------------------------  --------------------------------"
      ]
     },
     "metadata": {},
     "output_type": "display_data"
    }
   ],
   "source": [
    "import numpy as np\n",
    "import pandas as pd\n",
    "from sklearn.linear_model import LogisticRegression\n",
    "from sklearn.model_selection import train_test_split\n",
    "from sklearn.preprocessing import StandardScaler\n",
    "from sklearn.preprocessing import LabelEncoder\n",
    "from sklearn.preprocessing import OneHotEncoder\n",
    "from sklearn.metrics import roc_auc_score\n",
    "from sklearn.tree import DecisionTreeClassifier\n",
    "from sklearn.metrics import classification_report\n",
    "import matplotlib.pyplot as plt\n",
    "%matplotlib inline\n",
    "import h2o\n",
    "from h2o.estimators.random_forest import H2ORandomForestEstimator\n",
    "from h2o.estimators.naive_bayes import H2ONaiveBayesEstimator\n",
    "from h2o.estimators.glm   import H2OGeneralizedLinearEstimator\n",
    "#h2o.connect()\n",
    "#h2o.no_progress()\n",
    "h2o.init(ip=\"localhost\", port=54323)"
   ]
  },
  {
   "cell_type": "markdown",
   "metadata": {},
   "source": [
    "### I-Applying Naive Bayes to dataset  Loan using H20"
   ]
  },
  {
   "cell_type": "code",
   "execution_count": 18,
   "metadata": {},
   "outputs": [
    {
     "name": "stdout",
     "output_type": "stream",
     "text": [
      "Parse progress: |█████████████████████████████████████████████████████████| 100%\n"
     ]
    },
    {
     "data": {
      "text/html": [
       "<table>\n",
       "<thead>\n",
       "<tr><th>Sexo  </th><th style=\"text-align: right;\">  Familia</th><th>CasPropia  </th><th style=\"text-align: right;\">  AnosEmpleo</th><th style=\"text-align: right;\">  Sueldo</th><th>StatustMarital  </th><th>Prestamo  </th></tr>\n",
       "</thead>\n",
       "<tbody>\n",
       "<tr><td>Hombre</td><td style=\"text-align: right;\">        3</td><td>No         </td><td style=\"text-align: right;\">          17</td><td style=\"text-align: right;\">    2500</td><td>Soltero         </td><td>No        </td></tr>\n",
       "<tr><td>Mujer </td><td style=\"text-align: right;\">        5</td><td>Si         </td><td style=\"text-align: right;\">          10</td><td style=\"text-align: right;\">    3000</td><td>Casado          </td><td>Si        </td></tr>\n",
       "<tr><td>Mujer </td><td style=\"text-align: right;\">        4</td><td>No         </td><td style=\"text-align: right;\">          15</td><td style=\"text-align: right;\">    2000</td><td>Viudo           </td><td>No        </td></tr>\n",
       "<tr><td>Hombre</td><td style=\"text-align: right;\">        3</td><td>Si         </td><td style=\"text-align: right;\">          16</td><td style=\"text-align: right;\">    2800</td><td>Soltero         </td><td>Si        </td></tr>\n",
       "<tr><td>Hombre</td><td style=\"text-align: right;\">        6</td><td>Si         </td><td style=\"text-align: right;\">          11</td><td style=\"text-align: right;\">    4000</td><td>Viudo           </td><td>Si        </td></tr>\n",
       "<tr><td>Mujer </td><td style=\"text-align: right;\">        4</td><td>Si         </td><td style=\"text-align: right;\">          26</td><td style=\"text-align: right;\">    3200</td><td>Soltero         </td><td>Si        </td></tr>\n",
       "<tr><td>Mujer </td><td style=\"text-align: right;\">        2</td><td>Si         </td><td style=\"text-align: right;\">          14</td><td style=\"text-align: right;\">    1800</td><td>Soltero         </td><td>No        </td></tr>\n",
       "<tr><td>Hombre</td><td style=\"text-align: right;\">        5</td><td>Si         </td><td style=\"text-align: right;\">          10</td><td style=\"text-align: right;\">    3750</td><td>Casado          </td><td>Si        </td></tr>\n",
       "<tr><td>Hombre</td><td style=\"text-align: right;\">        6</td><td>No         </td><td style=\"text-align: right;\">          18</td><td style=\"text-align: right;\">    2970</td><td>Divorciado      </td><td>No        </td></tr>\n",
       "<tr><td>Hombre</td><td style=\"text-align: right;\">        4</td><td>Si         </td><td style=\"text-align: right;\">          12</td><td style=\"text-align: right;\">    3350</td><td>Divorciado      </td><td>No        </td></tr>\n",
       "</tbody>\n",
       "</table>"
      ]
     },
     "metadata": {},
     "output_type": "display_data"
    },
    {
     "data": {
      "text/plain": []
     },
     "execution_count": 18,
     "metadata": {},
     "output_type": "execute_result"
    }
   ],
   "source": [
    "loan = h2o.import_file(\"c://datamining/loan.csv\")\n",
    "loan"
   ]
  },
  {
   "cell_type": "code",
   "execution_count": 19,
   "metadata": {},
   "outputs": [
    {
     "name": "stdout",
     "output_type": "stream",
     "text": [
      "naivebayes Model Build progress: |████████████████████████████████████████| 100%\n",
      "naivebayes prediction progress: |█████████████████████████████████████████| 100%\n",
      "0.88\n",
      "\n",
      "ModelMetricsBinomial: naivebayes\n",
      "** Reported on test data. **\n",
      "\n",
      "MSE: 0.08549467282789719\n",
      "RMSE: 0.29239472093028146\n",
      "LogLoss: 0.2778253908660602\n",
      "Mean Per-Class Error: 0.09999999999999998\n",
      "AUC: 0.96\n",
      "pr_auc: 0.9083392587804353\n",
      "Gini: 0.9199999999999999\n",
      "Confusion Matrix (Act/Pred) for max f1 @ threshold = 0.45824144848381426: \n"
     ]
    },
    {
     "data": {
      "text/html": [
       "<div style=\"overflow:auto\"><table style=\"width:50%\"><tr><td><b></b></td>\n",
       "<td><b>No</b></td>\n",
       "<td><b>Si</b></td>\n",
       "<td><b>Error</b></td>\n",
       "<td><b>Rate</b></td></tr>\n",
       "<tr><td>No</td>\n",
       "<td>7.0</td>\n",
       "<td>3.0</td>\n",
       "<td>0.3</td>\n",
       "<td> (3.0/10.0)</td></tr>\n",
       "<tr><td>Si</td>\n",
       "<td>0.0</td>\n",
       "<td>15.0</td>\n",
       "<td>0.0</td>\n",
       "<td> (0.0/15.0)</td></tr>\n",
       "<tr><td>Total</td>\n",
       "<td>7.0</td>\n",
       "<td>18.0</td>\n",
       "<td>0.12</td>\n",
       "<td> (3.0/25.0)</td></tr></table></div>"
      ],
      "text/plain": [
       "       No    Si    Error    Rate\n",
       "-----  ----  ----  -------  ----------\n",
       "No     7     3     0.3      (3.0/10.0)\n",
       "Si     0     15    0        (0.0/15.0)\n",
       "Total  7     18    0.12     (3.0/25.0)"
      ]
     },
     "metadata": {},
     "output_type": "display_data"
    },
    {
     "name": "stdout",
     "output_type": "stream",
     "text": [
      "Maximum Metrics: Maximum metrics at their respective thresholds\n",
      "\n"
     ]
    },
    {
     "data": {
      "text/html": [
       "<div style=\"overflow:auto\"><table style=\"width:50%\"><tr><td><b>metric</b></td>\n",
       "<td><b>threshold</b></td>\n",
       "<td><b>value</b></td>\n",
       "<td><b>idx</b></td></tr>\n",
       "<tr><td>max f1</td>\n",
       "<td>0.4582414</td>\n",
       "<td>0.9090909</td>\n",
       "<td>17.0</td></tr>\n",
       "<tr><td>max f2</td>\n",
       "<td>0.4582414</td>\n",
       "<td>0.9615385</td>\n",
       "<td>17.0</td></tr>\n",
       "<tr><td>max f0point5</td>\n",
       "<td>0.6756497</td>\n",
       "<td>0.9523810</td>\n",
       "<td>11.0</td></tr>\n",
       "<tr><td>max accuracy</td>\n",
       "<td>0.6756497</td>\n",
       "<td>0.88</td>\n",
       "<td>11.0</td></tr>\n",
       "<tr><td>max precision</td>\n",
       "<td>0.9996507</td>\n",
       "<td>1.0</td>\n",
       "<td>0.0</td></tr>\n",
       "<tr><td>max recall</td>\n",
       "<td>0.4582414</td>\n",
       "<td>1.0</td>\n",
       "<td>17.0</td></tr>\n",
       "<tr><td>max specificity</td>\n",
       "<td>0.9996507</td>\n",
       "<td>1.0</td>\n",
       "<td>0.0</td></tr>\n",
       "<tr><td>max absolute_mcc</td>\n",
       "<td>0.6756497</td>\n",
       "<td>0.7844645</td>\n",
       "<td>11.0</td></tr>\n",
       "<tr><td>max min_per_class_accuracy</td>\n",
       "<td>0.5195887</td>\n",
       "<td>0.8666667</td>\n",
       "<td>13.0</td></tr>\n",
       "<tr><td>max mean_per_class_accuracy</td>\n",
       "<td>0.6756497</td>\n",
       "<td>0.9</td>\n",
       "<td>11.0</td></tr></table></div>"
      ],
      "text/plain": [
       "metric                       threshold    value     idx\n",
       "---------------------------  -----------  --------  -----\n",
       "max f1                       0.458241     0.909091  17\n",
       "max f2                       0.458241     0.961538  17\n",
       "max f0point5                 0.67565      0.952381  11\n",
       "max accuracy                 0.67565      0.88      11\n",
       "max precision                0.999651     1         0\n",
       "max recall                   0.458241     1         17\n",
       "max specificity              0.999651     1         0\n",
       "max absolute_mcc             0.67565      0.784465  11\n",
       "max min_per_class_accuracy   0.519589     0.866667  13\n",
       "max mean_per_class_accuracy  0.67565      0.9       11"
      ]
     },
     "metadata": {},
     "output_type": "display_data"
    },
    {
     "name": "stdout",
     "output_type": "stream",
     "text": [
      "Gains/Lift Table: Avg response rate: 60.00 %, avg score: 57.88 %\n",
      "\n"
     ]
    },
    {
     "data": {
      "text/html": [
       "<div style=\"overflow:auto\"><table style=\"width:50%\"><tr><td><b></b></td>\n",
       "<td><b>group</b></td>\n",
       "<td><b>cumulative_data_fraction</b></td>\n",
       "<td><b>lower_threshold</b></td>\n",
       "<td><b>lift</b></td>\n",
       "<td><b>cumulative_lift</b></td>\n",
       "<td><b>response_rate</b></td>\n",
       "<td><b>score</b></td>\n",
       "<td><b>cumulative_response_rate</b></td>\n",
       "<td><b>cumulative_score</b></td>\n",
       "<td><b>capture_rate</b></td>\n",
       "<td><b>cumulative_capture_rate</b></td>\n",
       "<td><b>gain</b></td>\n",
       "<td><b>cumulative_gain</b></td></tr>\n",
       "<tr><td></td>\n",
       "<td>1</td>\n",
       "<td>0.04</td>\n",
       "<td>0.9995576</td>\n",
       "<td>1.6666667</td>\n",
       "<td>1.6666667</td>\n",
       "<td>1.0</td>\n",
       "<td>0.9996507</td>\n",
       "<td>1.0</td>\n",
       "<td>0.9996507</td>\n",
       "<td>0.0666667</td>\n",
       "<td>0.0666667</td>\n",
       "<td>66.6666667</td>\n",
       "<td>66.6666667</td></tr>\n",
       "<tr><td></td>\n",
       "<td>2</td>\n",
       "<td>0.04</td>\n",
       "<td>0.9994645</td>\n",
       "<td>0.0</td>\n",
       "<td>1.6666667</td>\n",
       "<td>0.0</td>\n",
       "<td>0.0</td>\n",
       "<td>1.0</td>\n",
       "<td>0.9996507</td>\n",
       "<td>0.0</td>\n",
       "<td>0.0666667</td>\n",
       "<td>-100.0</td>\n",
       "<td>66.6666667</td></tr>\n",
       "<tr><td></td>\n",
       "<td>3</td>\n",
       "<td>0.04</td>\n",
       "<td>0.9993714</td>\n",
       "<td>0.0</td>\n",
       "<td>1.6666667</td>\n",
       "<td>0.0</td>\n",
       "<td>0.0</td>\n",
       "<td>1.0</td>\n",
       "<td>0.9996507</td>\n",
       "<td>0.0</td>\n",
       "<td>0.0666667</td>\n",
       "<td>-100.0</td>\n",
       "<td>66.6666667</td></tr>\n",
       "<tr><td></td>\n",
       "<td>4</td>\n",
       "<td>0.04</td>\n",
       "<td>0.9992784</td>\n",
       "<td>0.0</td>\n",
       "<td>1.6666667</td>\n",
       "<td>0.0</td>\n",
       "<td>0.0</td>\n",
       "<td>1.0</td>\n",
       "<td>0.9996507</td>\n",
       "<td>0.0</td>\n",
       "<td>0.0666667</td>\n",
       "<td>-100.0</td>\n",
       "<td>66.6666667</td></tr>\n",
       "<tr><td></td>\n",
       "<td>5</td>\n",
       "<td>0.08</td>\n",
       "<td>0.9992516</td>\n",
       "<td>1.6666667</td>\n",
       "<td>1.6666667</td>\n",
       "<td>1.0</td>\n",
       "<td>0.9992628</td>\n",
       "<td>1.0</td>\n",
       "<td>0.9994568</td>\n",
       "<td>0.0666667</td>\n",
       "<td>0.1333333</td>\n",
       "<td>66.6666667</td>\n",
       "<td>66.6666667</td></tr>\n",
       "<tr><td></td>\n",
       "<td>6</td>\n",
       "<td>0.12</td>\n",
       "<td>0.9990432</td>\n",
       "<td>1.6666667</td>\n",
       "<td>1.6666667</td>\n",
       "<td>1.0</td>\n",
       "<td>0.9992065</td>\n",
       "<td>1.0</td>\n",
       "<td>0.9993733</td>\n",
       "<td>0.0666667</td>\n",
       "<td>0.2</td>\n",
       "<td>66.6666667</td>\n",
       "<td>66.6666667</td></tr>\n",
       "<tr><td></td>\n",
       "<td>7</td>\n",
       "<td>0.16</td>\n",
       "<td>0.9980499</td>\n",
       "<td>1.6666667</td>\n",
       "<td>1.6666667</td>\n",
       "<td>1.0</td>\n",
       "<td>0.9987983</td>\n",
       "<td>1.0</td>\n",
       "<td>0.9992296</td>\n",
       "<td>0.0666667</td>\n",
       "<td>0.2666667</td>\n",
       "<td>66.6666667</td>\n",
       "<td>66.6666667</td></tr>\n",
       "<tr><td></td>\n",
       "<td>8</td>\n",
       "<td>0.2</td>\n",
       "<td>0.9644366</td>\n",
       "<td>1.6666667</td>\n",
       "<td>1.6666667</td>\n",
       "<td>1.0</td>\n",
       "<td>0.9975509</td>\n",
       "<td>1.0</td>\n",
       "<td>0.9988939</td>\n",
       "<td>0.0666667</td>\n",
       "<td>0.3333333</td>\n",
       "<td>66.6666667</td>\n",
       "<td>66.6666667</td></tr>\n",
       "<tr><td></td>\n",
       "<td>9</td>\n",
       "<td>0.32</td>\n",
       "<td>0.8380636</td>\n",
       "<td>1.6666667</td>\n",
       "<td>1.6666667</td>\n",
       "<td>1.0</td>\n",
       "<td>0.9110427</td>\n",
       "<td>1.0</td>\n",
       "<td>0.9659497</td>\n",
       "<td>0.2</td>\n",
       "<td>0.5333333</td>\n",
       "<td>66.6666667</td>\n",
       "<td>66.6666667</td></tr>\n",
       "<tr><td></td>\n",
       "<td>10</td>\n",
       "<td>0.4</td>\n",
       "<td>0.7071564</td>\n",
       "<td>1.6666667</td>\n",
       "<td>1.6666667</td>\n",
       "<td>1.0</td>\n",
       "<td>0.7544842</td>\n",
       "<td>1.0</td>\n",
       "<td>0.9236566</td>\n",
       "<td>0.1333333</td>\n",
       "<td>0.6666667</td>\n",
       "<td>66.6666667</td>\n",
       "<td>66.6666667</td></tr>\n",
       "<tr><td></td>\n",
       "<td>11</td>\n",
       "<td>0.52</td>\n",
       "<td>0.6045712</td>\n",
       "<td>1.1111111</td>\n",
       "<td>1.5384615</td>\n",
       "<td>0.6666667</td>\n",
       "<td>0.6622633</td>\n",
       "<td>0.9230769</td>\n",
       "<td>0.8633350</td>\n",
       "<td>0.1333333</td>\n",
       "<td>0.8</td>\n",
       "<td>11.1111111</td>\n",
       "<td>53.8461538</td></tr>\n",
       "<tr><td></td>\n",
       "<td>12</td>\n",
       "<td>0.6</td>\n",
       "<td>0.4742733</td>\n",
       "<td>0.8333333</td>\n",
       "<td>1.4444444</td>\n",
       "<td>0.5</td>\n",
       "<td>0.4970567</td>\n",
       "<td>0.8666667</td>\n",
       "<td>0.8144979</td>\n",
       "<td>0.0666667</td>\n",
       "<td>0.8666667</td>\n",
       "<td>-16.6666667</td>\n",
       "<td>44.4444444</td></tr>\n",
       "<tr><td></td>\n",
       "<td>13</td>\n",
       "<td>0.68</td>\n",
       "<td>0.4597614</td>\n",
       "<td>0.8333333</td>\n",
       "<td>1.3725490</td>\n",
       "<td>0.5</td>\n",
       "<td>0.4698687</td>\n",
       "<td>0.8235294</td>\n",
       "<td>0.7739533</td>\n",
       "<td>0.0666667</td>\n",
       "<td>0.9333333</td>\n",
       "<td>-16.6666667</td>\n",
       "<td>37.2549020</td></tr>\n",
       "<tr><td></td>\n",
       "<td>14</td>\n",
       "<td>0.8</td>\n",
       "<td>0.1353080</td>\n",
       "<td>0.5555556</td>\n",
       "<td>1.25</td>\n",
       "<td>0.3333333</td>\n",
       "<td>0.3216945</td>\n",
       "<td>0.75</td>\n",
       "<td>0.7061145</td>\n",
       "<td>0.0666667</td>\n",
       "<td>1.0</td>\n",
       "<td>-44.4444444</td>\n",
       "<td>25.0</td></tr>\n",
       "<tr><td></td>\n",
       "<td>15</td>\n",
       "<td>0.88</td>\n",
       "<td>0.0693495</td>\n",
       "<td>0.0</td>\n",
       "<td>1.1363636</td>\n",
       "<td>0.0</td>\n",
       "<td>0.0960576</td>\n",
       "<td>0.6818182</td>\n",
       "<td>0.6506548</td>\n",
       "<td>0.0</td>\n",
       "<td>1.0</td>\n",
       "<td>-100.0</td>\n",
       "<td>13.6363636</td></tr>\n",
       "<tr><td></td>\n",
       "<td>16</td>\n",
       "<td>1.0</td>\n",
       "<td>0.0271382</td>\n",
       "<td>0.0</td>\n",
       "<td>1.0</td>\n",
       "<td>0.0</td>\n",
       "<td>0.0516556</td>\n",
       "<td>0.6</td>\n",
       "<td>0.5787749</td>\n",
       "<td>0.0</td>\n",
       "<td>1.0</td>\n",
       "<td>-100.0</td>\n",
       "<td>0.0</td></tr></table></div>"
      ],
      "text/plain": [
       "    group    cumulative_data_fraction    lower_threshold    lift      cumulative_lift    response_rate    score      cumulative_response_rate    cumulative_score    capture_rate    cumulative_capture_rate    gain      cumulative_gain\n",
       "--  -------  --------------------------  -----------------  --------  -----------------  ---------------  ---------  --------------------------  ------------------  --------------  -------------------------  --------  -----------------\n",
       "    1        0.04                        0.999558           1.66667   1.66667            1                0.999651   1                           0.999651            0.0666667       0.0666667                  66.6667   66.6667\n",
       "    2        0.04                        0.999465           0         1.66667            0                0          1                           0.999651            0               0.0666667                  -100      66.6667\n",
       "    3        0.04                        0.999371           0         1.66667            0                0          1                           0.999651            0               0.0666667                  -100      66.6667\n",
       "    4        0.04                        0.999278           0         1.66667            0                0          1                           0.999651            0               0.0666667                  -100      66.6667\n",
       "    5        0.08                        0.999252           1.66667   1.66667            1                0.999263   1                           0.999457            0.0666667       0.133333                   66.6667   66.6667\n",
       "    6        0.12                        0.999043           1.66667   1.66667            1                0.999207   1                           0.999373            0.0666667       0.2                        66.6667   66.6667\n",
       "    7        0.16                        0.99805            1.66667   1.66667            1                0.998798   1                           0.99923             0.0666667       0.266667                   66.6667   66.6667\n",
       "    8        0.2                         0.964437           1.66667   1.66667            1                0.997551   1                           0.998894            0.0666667       0.333333                   66.6667   66.6667\n",
       "    9        0.32                        0.838064           1.66667   1.66667            1                0.911043   1                           0.96595             0.2             0.533333                   66.6667   66.6667\n",
       "    10       0.4                         0.707156           1.66667   1.66667            1                0.754484   1                           0.923657            0.133333        0.666667                   66.6667   66.6667\n",
       "    11       0.52                        0.604571           1.11111   1.53846            0.666667         0.662263   0.923077                    0.863335            0.133333        0.8                        11.1111   53.8462\n",
       "    12       0.6                         0.474273           0.833333  1.44444            0.5              0.497057   0.866667                    0.814498            0.0666667       0.866667                   -16.6667  44.4444\n",
       "    13       0.68                        0.459761           0.833333  1.37255            0.5              0.469869   0.823529                    0.773953            0.0666667       0.933333                   -16.6667  37.2549\n",
       "    14       0.8                         0.135308           0.555556  1.25               0.333333         0.321694   0.75                        0.706114            0.0666667       1                          -44.4444  25\n",
       "    15       0.88                        0.0693495          0         1.13636            0                0.0960576  0.681818                    0.650655            0               1                          -100      13.6364\n",
       "    16       1                           0.0271382          0         1                  0                0.0516556  0.6                         0.578775            0               1                          -100      0"
      ]
     },
     "metadata": {},
     "output_type": "display_data"
    },
    {
     "name": "stdout",
     "output_type": "stream",
     "text": [
      "\n"
     ]
    },
    {
     "data": {
      "text/plain": []
     },
     "execution_count": 19,
     "metadata": {},
     "output_type": "execute_result"
    }
   ],
   "source": [
    "myx=['Sexo','Familia','CasPropia', 'AnosEmpleo','Sueldo','StatustMarital']\n",
    "loan['Prestamo']=loan['Prestamo'].asfactor()\n",
    "myy=\"Prestamo\"\n",
    "# Create test/train split\n",
    "#train, test = vehicle.split_frame(ratios=[0.75], seed=1)\n",
    "model=H2ONaiveBayesEstimator()\n",
    "model.train(myx, myy, training_frame = loan)\n",
    "y_pred=model.predict(loan)\n",
    "print((y_pred['predict']==loan['Prestamo']).sum()/float(len(loan)))\n",
    "model.model_performance(loan)"
   ]
  },
  {
   "cell_type": "markdown",
   "metadata": {},
   "source": [
    "### II. Applying Logistic Regression to dataset loan using h20"
   ]
  },
  {
   "cell_type": "code",
   "execution_count": 20,
   "metadata": {},
   "outputs": [],
   "source": [
    "loan['Sexo'] = loan['Sexo'].asfactor()\n",
    "loan[\"CasPropia\"]=loan['CasPropia'].asfactor()\n",
    "loan['StatustMarital']=loan['StatustMarital'].asfactor()\n",
    "loan['Prestamo']=loan['Prestamo'].asfactor()\n",
    "\n",
    "predictors = [\"Sexo\",\"Familia\", \"CasPropia\",\"AnosEmpleo\", \"Sueldo\",\"StatustMarital\"]\n",
    "response_col = \"Prestamo\""
   ]
  },
  {
   "cell_type": "code",
   "execution_count": 21,
   "metadata": {},
   "outputs": [
    {
     "name": "stdout",
     "output_type": "stream",
     "text": [
      "glm Model Build progress: |███████████████████████████████████████████████| 100%\n"
     ]
    },
    {
     "name": "stderr",
     "output_type": "stream",
     "text": [
      "C:\\Users\\edgar2017\\Anaconda2\\envs\\ipykernel_py3\\lib\\site-packages\\h2o\\job.py:69: UserWarning: Reached maximum number of iterations 50!\n",
      "  warnings.warn(w)\n"
     ]
    },
    {
     "name": "stdout",
     "output_type": "stream",
     "text": [
      "{'Sueldo': 0.09868220640412526, 'Intercept': -269.16800091477114, 'AnosEmpleo': 2.9574452082674885, 'StatustMarital.Viudo': -10.697821309701698, 'CasPropia.Si': -1.4732452885828509, 'StatustMarital.Divorciado': -102.24457434194633, 'Sexo.Mujer': -4.160890209638011, 'StatustMarital.Soltero': -18.717097643950506, 'Familia': -7.283161660798802}\n"
     ]
    }
   ],
   "source": [
    "glm_model = H2OGeneralizedLinearEstimator(family= \"binomial\", lambda_ = 0, compute_p_values = True)\n",
    "glm_model.train(predictors, response_col, training_frame= loan)\n",
    "\n",
    "# Coefficients that can be applied to the non-standardized data.\n",
    "print(glm_model.coef())"
   ]
  },
  {
   "cell_type": "code",
   "execution_count": 22,
   "metadata": {},
   "outputs": [
    {
     "name": "stdout",
     "output_type": "stream",
     "text": [
      "Model Details\n",
      "=============\n",
      "H2OGeneralizedLinearEstimator :  Generalized Linear Modeling\n",
      "Model Key:  GLM_model_python_1553016161431_68\n",
      "\n",
      "\n",
      "ModelMetricsBinomialGLM: glm\n",
      "** Reported on train data. **\n",
      "\n",
      "MSE: 1.9847663384706934e-12\n",
      "RMSE: 1.4088173545462497e-06\n",
      "LogLoss: 5.98743562424881e-07\n",
      "Null degrees of freedom: 24\n",
      "Residual degrees of freedom: 16\n",
      "Null deviance: 33.650583350462824\n",
      "Residual deviance: 2.993717812140991e-05\n",
      "AIC: 18.000029937178123\n",
      "AUC: 1.0\n",
      "pr_auc: 0.4666666666666667\n",
      "Gini: 1.0\n",
      "Confusion Matrix (Act/Pred) for max f1 @ threshold = 0.999995968920957: \n"
     ]
    },
    {
     "data": {
      "text/html": [
       "<div style=\"overflow:auto\"><table style=\"width:50%\"><tr><td><b></b></td>\n",
       "<td><b>No</b></td>\n",
       "<td><b>Si</b></td>\n",
       "<td><b>Error</b></td>\n",
       "<td><b>Rate</b></td></tr>\n",
       "<tr><td>No</td>\n",
       "<td>10.0</td>\n",
       "<td>0.0</td>\n",
       "<td>0.0</td>\n",
       "<td> (0.0/10.0)</td></tr>\n",
       "<tr><td>Si</td>\n",
       "<td>0.0</td>\n",
       "<td>15.0</td>\n",
       "<td>0.0</td>\n",
       "<td> (0.0/15.0)</td></tr>\n",
       "<tr><td>Total</td>\n",
       "<td>10.0</td>\n",
       "<td>15.0</td>\n",
       "<td>0.0</td>\n",
       "<td> (0.0/25.0)</td></tr></table></div>"
      ],
      "text/plain": [
       "       No    Si    Error    Rate\n",
       "-----  ----  ----  -------  ----------\n",
       "No     10    0     0        (0.0/10.0)\n",
       "Si     0     15    0        (0.0/15.0)\n",
       "Total  10    15    0        (0.0/25.0)"
      ]
     },
     "metadata": {},
     "output_type": "display_data"
    },
    {
     "name": "stdout",
     "output_type": "stream",
     "text": [
      "Maximum Metrics: Maximum metrics at their respective thresholds\n",
      "\n"
     ]
    },
    {
     "data": {
      "text/html": [
       "<div style=\"overflow:auto\"><table style=\"width:50%\"><tr><td><b>metric</b></td>\n",
       "<td><b>threshold</b></td>\n",
       "<td><b>value</b></td>\n",
       "<td><b>idx</b></td></tr>\n",
       "<tr><td>max f1</td>\n",
       "<td>0.9999960</td>\n",
       "<td>1.0</td>\n",
       "<td>7.0</td></tr>\n",
       "<tr><td>max f2</td>\n",
       "<td>0.9999960</td>\n",
       "<td>1.0</td>\n",
       "<td>7.0</td></tr>\n",
       "<tr><td>max f0point5</td>\n",
       "<td>0.9999960</td>\n",
       "<td>1.0</td>\n",
       "<td>7.0</td></tr>\n",
       "<tr><td>max accuracy</td>\n",
       "<td>0.9999960</td>\n",
       "<td>1.0</td>\n",
       "<td>7.0</td></tr>\n",
       "<tr><td>max precision</td>\n",
       "<td>1.0</td>\n",
       "<td>1.0</td>\n",
       "<td>0.0</td></tr>\n",
       "<tr><td>max recall</td>\n",
       "<td>0.9999960</td>\n",
       "<td>1.0</td>\n",
       "<td>7.0</td></tr>\n",
       "<tr><td>max specificity</td>\n",
       "<td>1.0</td>\n",
       "<td>1.0</td>\n",
       "<td>0.0</td></tr>\n",
       "<tr><td>max absolute_mcc</td>\n",
       "<td>0.9999960</td>\n",
       "<td>1.0</td>\n",
       "<td>7.0</td></tr>\n",
       "<tr><td>max min_per_class_accuracy</td>\n",
       "<td>0.9999960</td>\n",
       "<td>1.0</td>\n",
       "<td>7.0</td></tr>\n",
       "<tr><td>max mean_per_class_accuracy</td>\n",
       "<td>0.9999960</td>\n",
       "<td>1.0</td>\n",
       "<td>7.0</td></tr></table></div>"
      ],
      "text/plain": [
       "metric                       threshold    value    idx\n",
       "---------------------------  -----------  -------  -----\n",
       "max f1                       0.999996     1        7\n",
       "max f2                       0.999996     1        7\n",
       "max f0point5                 0.999996     1        7\n",
       "max accuracy                 0.999996     1        7\n",
       "max precision                1            1        0\n",
       "max recall                   0.999996     1        7\n",
       "max specificity              1            1        0\n",
       "max absolute_mcc             0.999996     1        7\n",
       "max min_per_class_accuracy   0.999996     1        7\n",
       "max mean_per_class_accuracy  0.999996     1        7"
      ]
     },
     "metadata": {},
     "output_type": "display_data"
    },
    {
     "name": "stdout",
     "output_type": "stream",
     "text": [
      "Gains/Lift Table: Avg response rate: 60.00 %, avg score: 60.00 %\n",
      "\n"
     ]
    },
    {
     "data": {
      "text/html": [
       "<div style=\"overflow:auto\"><table style=\"width:50%\"><tr><td><b></b></td>\n",
       "<td><b>group</b></td>\n",
       "<td><b>cumulative_data_fraction</b></td>\n",
       "<td><b>lower_threshold</b></td>\n",
       "<td><b>lift</b></td>\n",
       "<td><b>cumulative_lift</b></td>\n",
       "<td><b>response_rate</b></td>\n",
       "<td><b>score</b></td>\n",
       "<td><b>cumulative_response_rate</b></td>\n",
       "<td><b>cumulative_score</b></td>\n",
       "<td><b>capture_rate</b></td>\n",
       "<td><b>cumulative_capture_rate</b></td>\n",
       "<td><b>gain</b></td>\n",
       "<td><b>cumulative_gain</b></td></tr>\n",
       "<tr><td></td>\n",
       "<td>1</td>\n",
       "<td>0.32</td>\n",
       "<td>1.0</td>\n",
       "<td>1.6666667</td>\n",
       "<td>1.6666667</td>\n",
       "<td>1.0</td>\n",
       "<td>1.0</td>\n",
       "<td>1.0</td>\n",
       "<td>1.0</td>\n",
       "<td>0.5333333</td>\n",
       "<td>0.5333333</td>\n",
       "<td>66.6666667</td>\n",
       "<td>66.6666667</td></tr>\n",
       "<tr><td></td>\n",
       "<td>2</td>\n",
       "<td>0.4</td>\n",
       "<td>1.0000000</td>\n",
       "<td>1.6666667</td>\n",
       "<td>1.6666667</td>\n",
       "<td>1.0</td>\n",
       "<td>1.0000000</td>\n",
       "<td>1.0</td>\n",
       "<td>1.0000000</td>\n",
       "<td>0.1333333</td>\n",
       "<td>0.6666667</td>\n",
       "<td>66.6666667</td>\n",
       "<td>66.6666667</td></tr>\n",
       "<tr><td></td>\n",
       "<td>3</td>\n",
       "<td>0.52</td>\n",
       "<td>0.9999994</td>\n",
       "<td>1.6666667</td>\n",
       "<td>1.6666667</td>\n",
       "<td>1.0</td>\n",
       "<td>0.9999997</td>\n",
       "<td>1.0</td>\n",
       "<td>0.9999999</td>\n",
       "<td>0.2</td>\n",
       "<td>0.8666667</td>\n",
       "<td>66.6666667</td>\n",
       "<td>66.6666667</td></tr>\n",
       "<tr><td></td>\n",
       "<td>4</td>\n",
       "<td>0.6</td>\n",
       "<td>0.5999992</td>\n",
       "<td>1.6666667</td>\n",
       "<td>1.6666667</td>\n",
       "<td>1.0</td>\n",
       "<td>0.9999965</td>\n",
       "<td>1.0</td>\n",
       "<td>0.9999995</td>\n",
       "<td>0.1333333</td>\n",
       "<td>1.0</td>\n",
       "<td>66.6666667</td>\n",
       "<td>66.6666667</td></tr>\n",
       "<tr><td></td>\n",
       "<td>5</td>\n",
       "<td>0.68</td>\n",
       "<td>0.0000008</td>\n",
       "<td>0.0</td>\n",
       "<td>1.4705882</td>\n",
       "<td>0.0</td>\n",
       "<td>0.0000034</td>\n",
       "<td>0.8823529</td>\n",
       "<td>0.8823529</td>\n",
       "<td>0.0</td>\n",
       "<td>1.0</td>\n",
       "<td>-100.0</td>\n",
       "<td>47.0588235</td></tr>\n",
       "<tr><td></td>\n",
       "<td>6</td>\n",
       "<td>0.8</td>\n",
       "<td>0.0000000</td>\n",
       "<td>0.0</td>\n",
       "<td>1.25</td>\n",
       "<td>0.0</td>\n",
       "<td>0.0000001</td>\n",
       "<td>0.75</td>\n",
       "<td>0.7500000</td>\n",
       "<td>0.0</td>\n",
       "<td>1.0</td>\n",
       "<td>-100.0</td>\n",
       "<td>25.0</td></tr>\n",
       "<tr><td></td>\n",
       "<td>7</td>\n",
       "<td>0.88</td>\n",
       "<td>0.0000000</td>\n",
       "<td>0.0</td>\n",
       "<td>1.1363636</td>\n",
       "<td>0.0</td>\n",
       "<td>0.0000000</td>\n",
       "<td>0.6818182</td>\n",
       "<td>0.6818181</td>\n",
       "<td>0.0</td>\n",
       "<td>1.0</td>\n",
       "<td>-100.0</td>\n",
       "<td>13.6363636</td></tr>\n",
       "<tr><td></td>\n",
       "<td>8</td>\n",
       "<td>1.0</td>\n",
       "<td>0.0000000</td>\n",
       "<td>0.0</td>\n",
       "<td>1.0</td>\n",
       "<td>0.0</td>\n",
       "<td>0.0000000</td>\n",
       "<td>0.6</td>\n",
       "<td>0.6000000</td>\n",
       "<td>0.0</td>\n",
       "<td>1.0</td>\n",
       "<td>-100.0</td>\n",
       "<td>0.0</td></tr></table></div>"
      ],
      "text/plain": [
       "    group    cumulative_data_fraction    lower_threshold    lift     cumulative_lift    response_rate    score        cumulative_response_rate    cumulative_score    capture_rate    cumulative_capture_rate    gain     cumulative_gain\n",
       "--  -------  --------------------------  -----------------  -------  -----------------  ---------------  -----------  --------------------------  ------------------  --------------  -------------------------  -------  -----------------\n",
       "    1        0.32                        1                  1.66667  1.66667            1                1            1                           1                   0.533333        0.533333                   66.6667  66.6667\n",
       "    2        0.4                         1                  1.66667  1.66667            1                1            1                           1                   0.133333        0.666667                   66.6667  66.6667\n",
       "    3        0.52                        0.999999           1.66667  1.66667            1                1            1                           1                   0.2             0.866667                   66.6667  66.6667\n",
       "    4        0.6                         0.599999           1.66667  1.66667            1                0.999996     1                           0.999999            0.133333        1                          66.6667  66.6667\n",
       "    5        0.68                        8.04623e-07        0        1.47059            0                3.42304e-06  0.882353                    0.882353            0               1                          -100     47.0588\n",
       "    6        0.8                         1.96302e-16        0        1.25               0                9.40037e-08  0.75                        0.75                0               1                          -100     25\n",
       "    7        0.88                        2.42073e-29        0        1.13636            0                1.1522e-25   0.681818                    0.681818            0               1                          -100     13.6364\n",
       "    8        1                           2.11164e-39        0        1                  0                4.75383e-31  0.6                         0.6                 0               1                          -100     0"
      ]
     },
     "metadata": {},
     "output_type": "display_data"
    },
    {
     "name": "stdout",
     "output_type": "stream",
     "text": [
      "\n",
      "Scoring History: \n"
     ]
    },
    {
     "data": {
      "text/html": [
       "<div style=\"overflow:auto\"><table style=\"width:50%\"><tr><td><b></b></td>\n",
       "<td><b>timestamp</b></td>\n",
       "<td><b>duration</b></td>\n",
       "<td><b>iterations</b></td>\n",
       "<td><b>negative_log_likelihood</b></td>\n",
       "<td><b>objective</b></td></tr>\n",
       "<tr><td></td>\n",
       "<td>2019-03-20 19:38:25</td>\n",
       "<td> 0.000 sec</td>\n",
       "<td>0</td>\n",
       "<td>16.8252917</td>\n",
       "<td>0.6730117</td></tr>\n",
       "<tr><td></td>\n",
       "<td>2019-03-20 19:38:25</td>\n",
       "<td> 0.000 sec</td>\n",
       "<td>1</td>\n",
       "<td>5.7156605</td>\n",
       "<td>0.2286264</td></tr>\n",
       "<tr><td></td>\n",
       "<td>2019-03-20 19:38:25</td>\n",
       "<td> 0.061 sec</td>\n",
       "<td>2</td>\n",
       "<td>3.2640929</td>\n",
       "<td>0.1305637</td></tr>\n",
       "<tr><td></td>\n",
       "<td>2019-03-20 19:38:25</td>\n",
       "<td> 0.061 sec</td>\n",
       "<td>3</td>\n",
       "<td>1.9230352</td>\n",
       "<td>0.0769214</td></tr>\n",
       "<tr><td></td>\n",
       "<td>2019-03-20 19:38:25</td>\n",
       "<td> 0.061 sec</td>\n",
       "<td>4</td>\n",
       "<td>1.0374345</td>\n",
       "<td>0.0414974</td></tr>\n",
       "<tr><td>---</td>\n",
       "<td>---</td>\n",
       "<td>---</td>\n",
       "<td>---</td>\n",
       "<td>---</td>\n",
       "<td>---</td></tr>\n",
       "<tr><td></td>\n",
       "<td>2019-03-20 19:38:25</td>\n",
       "<td> 0.067 sec</td>\n",
       "<td>46</td>\n",
       "<td>0.0000168</td>\n",
       "<td>0.0000007</td></tr>\n",
       "<tr><td></td>\n",
       "<td>2019-03-20 19:38:25</td>\n",
       "<td> 0.067 sec</td>\n",
       "<td>47</td>\n",
       "<td>0.0000163</td>\n",
       "<td>0.0000007</td></tr>\n",
       "<tr><td></td>\n",
       "<td>2019-03-20 19:38:25</td>\n",
       "<td> 0.067 sec</td>\n",
       "<td>48</td>\n",
       "<td>0.0000158</td>\n",
       "<td>0.0000006</td></tr>\n",
       "<tr><td></td>\n",
       "<td>2019-03-20 19:38:25</td>\n",
       "<td> 0.068 sec</td>\n",
       "<td>49</td>\n",
       "<td>0.0000154</td>\n",
       "<td>0.0000006</td></tr>\n",
       "<tr><td></td>\n",
       "<td>2019-03-20 19:38:25</td>\n",
       "<td> 0.068 sec</td>\n",
       "<td>50</td>\n",
       "<td>0.0000150</td>\n",
       "<td>0.0000006</td></tr></table></div>"
      ],
      "text/plain": [
       "     timestamp            duration    iterations    negative_log_likelihood    objective\n",
       "---  -------------------  ----------  ------------  -------------------------  ---------------------\n",
       "     2019-03-20 19:38:25  0.000 sec   0             16.825291675231412         0.6730116670092565\n",
       "     2019-03-20 19:38:25  0.000 sec   1             5.715660543134367          0.2286264217253747\n",
       "     2019-03-20 19:38:25  0.061 sec   2             3.264092939624011          0.13056371758496044\n",
       "     2019-03-20 19:38:25  0.061 sec   3             1.9230351704316027         0.0769214068172641\n",
       "     2019-03-20 19:38:25  0.061 sec   4             1.0374345304810892         0.04149738121924357\n",
       "---  ---                  ---         ---           ---                        ---\n",
       "     2019-03-20 19:38:25  0.067 sec   46            1.677516150026756e-05      6.710064600107024e-07\n",
       "     2019-03-20 19:38:25  0.067 sec   47            1.628409700821452e-05      6.513638803285808e-07\n",
       "     2019-03-20 19:38:25  0.067 sec   48            1.5820793083892986e-05     6.328317233557194e-07\n",
       "     2019-03-20 19:38:25  0.068 sec   49            1.5382969680921502e-05     6.153187872368601e-07\n",
       "     2019-03-20 19:38:25  0.068 sec   50            1.4968589060704955e-05     5.987435624281982e-07"
      ]
     },
     "metadata": {},
     "output_type": "display_data"
    },
    {
     "name": "stdout",
     "output_type": "stream",
     "text": [
      "\n",
      "See the whole table with table.as_data_frame()\n"
     ]
    },
    {
     "data": {
      "text/plain": []
     },
     "execution_count": 22,
     "metadata": {},
     "output_type": "execute_result"
    }
   ],
   "source": [
    "glm_model"
   ]
  },
  {
   "cell_type": "code",
   "execution_count": 23,
   "metadata": {},
   "outputs": [
    {
     "name": "stdout",
     "output_type": "stream",
     "text": [
      "glm prediction progress: |████████████████████████████████████████████████| 100%\n",
      "1.0\n"
     ]
    }
   ],
   "source": [
    "y_pred=glm_model.predict(loan)\n",
    "print((y_pred['predict']==loan['Prestamo']).sum()/float(len(loan)))"
   ]
  },
  {
   "cell_type": "code",
   "execution_count": 24,
   "metadata": {},
   "outputs": [
    {
     "data": {
      "image/png": "[encoded data removed]",
      "text/plain": [
       "<Figure size 432x288 with 1 Axes>"
      ]
     },
     "metadata": {
      "needs_background": "light"
     },
     "output_type": "display_data"
    }
   ],
   "source": [
    "perf = glm_model.model_performance()  #train=True is the default, so it's not needed\n",
    "perf.plot()"
   ]
  },
  {
   "cell_type": "markdown",
   "metadata": {},
   "source": [
    "### III Regresion Logistica para Loan usando scikit-learn "
   ]
  },
  {
   "cell_type": "markdown",
   "metadata": {},
   "source": [
    "#### A-Using the transformation  OneHot for variable \"Status Marital\".This is the method recommended by scikit-learn"
   ]
  },
  {
   "cell_type": "code",
   "execution_count": 25,
   "metadata": {},
   "outputs": [
    {
     "name": "stdout",
     "output_type": "stream",
     "text": [
      "Coeficientes del modelo [[ 0.029659   -0.30786189  0.12159804  0.14661168  0.00391128  0.92715773\n",
      "  -1.68462938  0.33328037  0.42418707]]\n"
     ]
    }
   ],
   "source": [
    "#A-Usando la codificacion OneHot para la variable Status Marital Esta es la que recomineda scikit-learn\n",
    "df = pd.read_csv(\"https://academic.uprm.edu/eacuna/datosarbol.csv\")\n",
    "y=df['Prestamo']\n",
    "data=df.iloc[:,0:6]\n",
    "#Codificando 0-1 las Variables Sexo y CasPropia\n",
    "lb_make = LabelEncoder()\n",
    "data[\"Sexo\"] = lb_make.fit_transform(data[\"Sexo\"])\n",
    "data['CasPropia']=lb_make.fit_transform(data[\"CasPropia\"])\n",
    "data1=data['StatustMarital']\n",
    "#Aplicando OneHot encoding a la predictora StatustMarital\n",
    "data2=pd.get_dummies(data1,prefix=['StatustMarital'])\n",
    "data3=pd.concat([data.iloc[:,0:5],data2],axis=1)\n",
    "y2=lb_make.fit_transform(y)\n",
    "#Haciendo la regresion logistica ya calculando su precision\n",
    "model = LogisticRegression(solver=\"newton-cg\")\n",
    "model = model.fit(data3, y2)\n",
    "print(\"Coeficientes del modelo\", model.coef_)"
   ]
  },
  {
   "cell_type": "code",
   "execution_count": 26,
   "metadata": {},
   "outputs": [
    {
     "name": "stdout",
     "output_type": "stream",
     "text": [
      "              precision    recall  f1-score   support\n",
      "\n",
      "           0       1.00      0.90      0.95        10\n",
      "           1       0.94      1.00      0.97        15\n",
      "\n",
      "   micro avg       0.96      0.96      0.96        25\n",
      "   macro avg       0.97      0.95      0.96        25\n",
      "weighted avg       0.96      0.96      0.96        25\n",
      "\n"
     ]
    }
   ],
   "source": [
    "# Tasa de precision\n",
    "model.score(data3, y2)\n",
    "predictions = model.predict(data3)\n",
    "print(classification_report(y2, predictions))"
   ]
  },
  {
   "cell_type": "markdown",
   "metadata": {},
   "source": [
    "#### B-Using  codificacion with variables dummies for the categorical variables"
   ]
  },
  {
   "cell_type": "code",
   "execution_count": 27,
   "metadata": {},
   "outputs": [
    {
     "name": "stderr",
     "output_type": "stream",
     "text": [
      "C:\\Users\\edgar2017\\Anaconda2\\envs\\ipykernel_py3\\lib\\site-packages\\sklearn\\linear_model\\logistic.py:432: FutureWarning: Default solver will be changed to 'lbfgs' in 0.22. Specify a solver to silence this warning.\n",
      "  FutureWarning)\n"
     ]
    },
    {
     "name": "stdout",
     "output_type": "stream",
     "text": [
      "coeficientes del modelo [[-6.32085308e-01 -2.47603396e-01  2.14801833e-01 -2.42867178e-02\n",
      "   9.26727855e-04 -1.61010971e+00 -1.86962182e-01  1.95097244e-01]]\n",
      "              precision    recall  f1-score   support\n",
      "\n",
      "           0       1.00      0.60      0.75        10\n",
      "           1       0.79      1.00      0.88        15\n",
      "\n",
      "   micro avg       0.84      0.84      0.84        25\n",
      "   macro avg       0.89      0.80      0.82        25\n",
      "weighted avg       0.87      0.84      0.83        25\n",
      "\n"
     ]
    }
   ],
   "source": [
    "# B-Usando la codificacion con variables dummies\n",
    "data4=pd.get_dummies(data1,prefix=['StatustMarital'], drop_first=True)\n",
    "data5=pd.concat([data.iloc[:,0:5],data4],axis=1)\n",
    "#Haciendo la regresion logistica ya calculando su precision\n",
    "model = LogisticRegression()\n",
    "model = model.fit(data5, y2)\n",
    "model.score(data5, y2)\n",
    "predictions = model.predict(data5)\n",
    "print(\"coeficientes del modelo\", model.coef_)\n",
    "print(classification_report(y2, predictions))"
   ]
  },
  {
   "cell_type": "markdown",
   "metadata": {},
   "source": [
    "#### Using a trivial codification for the variable \"Status Marital\""
   ]
  },
  {
   "cell_type": "code",
   "execution_count": 28,
   "metadata": {
    "scrolled": true
   },
   "outputs": [
    {
     "name": "stderr",
     "output_type": "stream",
     "text": [
      "C:\\Users\\edgar2017\\Anaconda2\\envs\\ipykernel_py3\\lib\\site-packages\\sklearn\\linear_model\\logistic.py:432: FutureWarning: Default solver will be changed to 'lbfgs' in 0.22. Specify a solver to silence this warning.\n",
      "  FutureWarning)\n"
     ]
    },
    {
     "name": "stdout",
     "output_type": "stream",
     "text": [
      "Coeficientes del modelo [[-0.5576086  -0.21702577  0.33309214 -0.00594977  0.00070452 -0.16576325]]\n",
      "              precision    recall  f1-score   support\n",
      "\n",
      "           0       1.00      0.30      0.46        10\n",
      "           1       0.68      1.00      0.81        15\n",
      "\n",
      "   micro avg       0.72      0.72      0.72        25\n",
      "   macro avg       0.84      0.65      0.64        25\n",
      "weighted avg       0.81      0.72      0.67        25\n",
      "\n"
     ]
    }
   ],
   "source": [
    "#Usando una codificacion Trivial de Status Marital\n",
    "data['StatustMarital']=lb_make.fit_transform(data[\"StatustMarital\"])\n",
    "#Haciendo la regresion logistica ya calculando su precision\n",
    "model = LogisticRegression()\n",
    "model = model.fit(data, y2)\n",
    "model.score(data, y2)\n",
    "predictions = model.predict(data)\n",
    "print(\"Coeficientes del modelo\", model.coef_)\n",
    "print(classification_report(y2, predictions))"
   ]
  },
  {
   "cell_type": "code",
   "execution_count": null,
   "metadata": {},
   "outputs": [],
   "source": []
  }
 ],
 "metadata": {
  "kernelspec": {
   "display_name": "Python 3",
   "language": "python",
   "name": "python3"
  },
  "language_info": {
   "codemirror_mode": {
    "name": "ipython",
    "version": 3
   },
   "file_extension": ".py",
   "mimetype": "text/x-python",
   "name": "python",
   "nbconvert_exporter": "python",
   "pygments_lexer": "ipython3",
   "version": "3.5.5"
  }
 },
 "nbformat": 4,
 "nbformat_minor": 2
}
