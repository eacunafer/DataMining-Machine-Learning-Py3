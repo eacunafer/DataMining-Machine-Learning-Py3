{
 "cells": [
  {
   "cell_type": "markdown",
   "metadata": {},
   "source": [
    "# Primer Notebook\n",
    "## ESMA 3016\n",
    "## Edgar Acuna\n",
    "## Enero 14, 2019"
   ]
  },
  {
   "cell_type": "code",
   "execution_count": 1,
   "metadata": {},
   "outputs": [],
   "source": [
    "x=[3,4,5]"
   ]
  },
  {
   "cell_type": "code",
   "execution_count": 2,
   "metadata": {},
   "outputs": [
    {
     "data": {
      "text/plain": [
       "2.75"
      ]
     },
     "execution_count": 2,
     "metadata": {},
     "output_type": "execute_result"
    }
   ],
   "source": [
    "# Una operacion basica elemental\n",
    "(3+5*6)/12"
   ]
  },
  {
   "cell_type": "code",
   "execution_count": 3,
   "metadata": {},
   "outputs": [
    {
     "name": "stdout",
     "output_type": "stream",
     "text": [
      "How old are you? 57\n"
     ]
    }
   ],
   "source": [
    "# Entrando el dato con el teclado\n",
    "age = input(\"How old are you? \")"
   ]
  },
  {
   "cell_type": "code",
   "execution_count": 4,
   "metadata": {},
   "outputs": [
    {
     "name": "stdout",
     "output_type": "stream",
     "text": [
      "Your age is 57\n"
     ]
    }
   ],
   "source": [
    "print(\"Your age is\", age)"
   ]
  },
  {
   "cell_type": "code",
   "execution_count": 5,
   "metadata": {},
   "outputs": [
    {
     "name": "stdout",
     "output_type": "stream",
     "text": [
      "You have 7 years until retirement\n"
     ]
    }
   ],
   "source": [
    "print(\"You have\", 65-int(age), \"years until retirement\")"
   ]
  },
  {
   "cell_type": "code",
   "execution_count": 6,
   "metadata": {},
   "outputs": [],
   "source": [
    "name = \"Edgar Acuna Fernandez\"\n",
    "length = len(name)"
   ]
  },
  {
   "cell_type": "code",
   "execution_count": 7,
   "metadata": {},
   "outputs": [
    {
     "name": "stdout",
     "output_type": "stream",
     "text": [
      "EDGAR ACUNA FERNANDEZ tiene 21 caracteres\n"
     ]
    }
   ],
   "source": [
    "#imprimiendo en Mayuscula e imprimiendo la longitud\n",
    "big_name = str.upper(name)\n",
    "print(big_name, \"tiene\", length, \"caracteres\")"
   ]
  },
  {
   "cell_type": "code",
   "execution_count": 5,
   "metadata": {},
   "outputs": [],
   "source": [
    "names = [\"Ana\", \"Rosa\", \"Julia\"]"
   ]
  },
  {
   "cell_type": "code",
   "execution_count": 6,
   "metadata": {},
   "outputs": [
    {
     "data": {
      "text/plain": [
       "'Ana'"
      ]
     },
     "execution_count": 6,
     "metadata": {},
     "output_type": "execute_result"
    }
   ],
   "source": [
    "names[0]"
   ]
  },
  {
   "cell_type": "code",
   "execution_count": 7,
   "metadata": {},
   "outputs": [
    {
     "data": {
      "text/plain": [
       "'Rosa'"
      ]
     },
     "execution_count": 7,
     "metadata": {},
     "output_type": "execute_result"
    }
   ],
   "source": [
    "names[-2]"
   ]
  },
  {
   "cell_type": "code",
   "execution_count": 10,
   "metadata": {},
   "outputs": [
    {
     "name": "stdout",
     "output_type": "stream",
     "text": [
      "Su solicitud de admision es aceptada.\n"
     ]
    }
   ],
   "source": [
    "#uso del condicional If\n",
    "gpa = 3.4\n",
    "if gpa > 2.0:\n",
    "    print(\"Su solicitud de admision es aceptada.\")"
   ]
  },
  {
   "cell_type": "code",
   "execution_count": 11,
   "metadata": {},
   "outputs": [
    {
     "name": "stdout",
     "output_type": "stream",
     "text": [
      "Su solicitud de admision ha sido denegada.\n"
     ]
    }
   ],
   "source": [
    "# Uso  de if/else\n",
    "gpa = 1.4\n",
    "if gpa >= 2.5:\n",
    "    print(\"Bienvenido al Colegio de Mayaguez!\")\n",
    "else:\n",
    "    print(\"Su solicitud de admision ha sido denegada.\")"
   ]
  },
  {
   "cell_type": "code",
   "execution_count": 12,
   "metadata": {},
   "outputs": [
    {
     "name": "stdout",
     "output_type": "stream",
     "text": [
      "Ana and Rosa\n"
     ]
    }
   ],
   "source": [
    "#Ejemplo con operadores logicos\n",
    "Ana=3\n",
    "Rosa=25\n",
    "if (Ana <= 5 and Rosa >= 10):\n",
    "    print(\"Ana and Rosa\")"
   ]
  },
  {
   "cell_type": "code",
   "execution_count": 33,
   "metadata": {},
   "outputs": [
    {
     "name": "stdout",
     "output_type": "stream",
     "text": [
      "Otra vez Ana y Rosa\n"
     ]
    }
   ],
   "source": [
    "if (Rosa == 500 or Ana != 5):\n",
    "     print(\"Otra vez Ana y Rosa\")"
   ]
  },
  {
   "cell_type": "code",
   "execution_count": 34,
   "metadata": {},
   "outputs": [
    {
     "data": {
      "text/plain": [
       "range(5, 10)"
      ]
     },
     "execution_count": 34,
     "metadata": {},
     "output_type": "execute_result"
    }
   ],
   "source": [
    "range(5,10)"
   ]
  },
  {
   "cell_type": "code",
   "execution_count": 35,
   "metadata": {},
   "outputs": [
    {
     "data": {
      "text/plain": [
       "[5, 6, 7, 8, 9]"
      ]
     },
     "execution_count": 35,
     "metadata": {},
     "output_type": "execute_result"
    }
   ],
   "source": [
    "list(range(5,10))"
   ]
  },
  {
   "cell_type": "code",
   "execution_count": 26,
   "metadata": {},
   "outputs": [
    {
     "name": "stdout",
     "output_type": "stream",
     "text": [
      "1 squared is 1\n",
      "2 squared is 4\n",
      "3 squared is 9\n"
     ]
    }
   ],
   "source": [
    "#Ejemplo de loop\n",
    "for x in range(1, 4):\n",
    "    print(x, \"squared is\", x * x)"
   ]
  },
  {
   "cell_type": "code",
   "execution_count": 16,
   "metadata": {},
   "outputs": [
    {
     "name": "stdout",
     "output_type": "stream",
     "text": [
      "Ana\n",
      "Rosa\n",
      "Julia\n"
     ]
    }
   ],
   "source": [
    "# Otro ejemplo de loop\n",
    "names = [\"Ana\", \"Rosa\", \"Julia\"]\n",
    "for name in names:\n",
    "    print(name)"
   ]
  },
  {
   "cell_type": "code",
   "execution_count": 17,
   "metadata": {
    "scrolled": true
   },
   "outputs": [
    {
     "name": "stdout",
     "output_type": "stream",
     "text": [
      "Checking 3\n",
      "The square is 9\n",
      "Checking 1\n",
      "Ignoring\n",
      "Checking 4\n",
      "The square is 16\n",
      "Checking 1\n",
      "Ignoring\n",
      "Checking 5\n",
      "The square is 25\n",
      "Checking 9\n",
      "Exiting for loop\n"
     ]
    }
   ],
   "source": [
    "# Ejemplo de break y continue\n",
    "for value in [3, 1, 4, 1, 5, 9, 2]:\n",
    "    print(\"Checking\", value)\n",
    "    if value > 8:\n",
    "        print(\"Exiting for loop\")\n",
    "        break\n",
    "    elif value < 3:\n",
    "        print(\"Ignoring\")\n",
    "        continue\n",
    "    print(\"The square is\", value**2)"
   ]
  },
  {
   "cell_type": "code",
   "execution_count": 18,
   "metadata": {},
   "outputs": [
    {
     "name": "stdout",
     "output_type": "stream",
     "text": [
      "1\n",
      "2\n",
      "4\n",
      "8\n",
      "16\n",
      "32\n",
      "64\n",
      "128\n"
     ]
    }
   ],
   "source": [
    "#Ejemplo de while\n",
    "number = 1\n",
    "while number < 200:\n",
    "    print(number), \n",
    "    number = number * 2"
   ]
  },
  {
   "cell_type": "code",
   "execution_count": 19,
   "metadata": {},
   "outputs": [
    {
     "data": {
      "text/plain": [
       "[13, 14, 15]"
      ]
     },
     "execution_count": 19,
     "metadata": {},
     "output_type": "execute_result"
    }
   ],
   "source": [
    "#Sumando una constante 10 a una lista\n",
    "vec1=[3,4,5]\n",
    "[x +10 for x   in vec1]"
   ]
  },
  {
   "cell_type": "code",
   "execution_count": 20,
   "metadata": {},
   "outputs": [
    {
     "name": "stdout",
     "output_type": "stream",
     "text": [
      "12\n",
      "14\n",
      "16\n"
     ]
    }
   ],
   "source": [
    "#summando dos vectores componente a componente\n",
    "vec2=[9,10,11]\n",
    "for a,b in zip(vec1,vec2):\n",
    "    print(a+b)"
   ]
  },
  {
   "cell_type": "code",
   "execution_count": 21,
   "metadata": {},
   "outputs": [
    {
     "data": {
      "text/plain": [
       "3.141592653589793"
      ]
     },
     "execution_count": 21,
     "metadata": {},
     "output_type": "execute_result"
    }
   ],
   "source": [
    "#usando el modulo matematico math\n",
    "import math\n",
    "math.pi"
   ]
  },
  {
   "cell_type": "code",
   "execution_count": 22,
   "metadata": {},
   "outputs": [
    {
     "data": {
      "text/plain": [
       "3.141592653589793"
      ]
     },
     "execution_count": 22,
     "metadata": {},
     "output_type": "execute_result"
    }
   ],
   "source": [
    "#usando el modulo matematico math con el alias m\n",
    "import math as m\n",
    "m.pi"
   ]
  },
  {
   "cell_type": "code",
   "execution_count": 23,
   "metadata": {},
   "outputs": [
    {
     "data": {
      "text/plain": [
       "3.141592653589793"
      ]
     },
     "execution_count": 23,
     "metadata": {},
     "output_type": "execute_result"
    }
   ],
   "source": [
    "#importando solamente la funcion pi del modulo math\n",
    "from math import pi\n",
    "pi"
   ]
  },
  {
   "cell_type": "code",
   "execution_count": 24,
   "metadata": {},
   "outputs": [
    {
     "name": "stdout",
     "output_type": "stream",
     "text": [
      "<class 'pandas.core.frame.DataFrame'>\n",
      "RangeIndex: 65 entries, 0 to 64\n",
      "Data columns (total 3 columns):\n",
      "Specie    65 non-null object\n",
      "body      65 non-null float64\n",
      "brain     65 non-null float64\n",
      "dtypes: float64(2), object(1)\n",
      "memory usage: 1.6+ KB\n"
     ]
    }
   ],
   "source": [
    "#Leyendo un archivo de datos de la internet\n",
    "import pandas as pd\n",
    "df=pd.read_csv(\"http://academic.uprm.edu/eacuna/Animals2.csv\")\n",
    "df.info()"
   ]
  },
  {
   "cell_type": "code",
   "execution_count": 27,
   "metadata": {},
   "outputs": [],
   "source": [
    "#Leyendo un archivo de dato almacenado en mi PC\n",
    "#df=pd.read_csv(\"c:\\esma3016\\Animals2.csv\")"
   ]
  },
  {
   "cell_type": "code",
   "execution_count": 36,
   "metadata": {},
   "outputs": [],
   "source": [
    "File=open(\"c://PW-PR/Animals2.csv\").read()"
   ]
  },
  {
   "cell_type": "code",
   "execution_count": 38,
   "metadata": {},
   "outputs": [
    {
     "name": "stdout",
     "output_type": "stream",
     "text": [
      "Specie,body,brain\n",
      "Lesser short-tailed shrew,0.005,0.14\n",
      "Little brown bat,0.01,0.25\n",
      "Big brown bat,0.023,0.3\n",
      "Mouse,0.023,0.4\n",
      "Musk shrew,0.048,0.33\n",
      "Star-nosed mole,0.06,1\n",
      "E. American mole,0.075,1.2\n",
      "Ground squirrel,0.101,4\n",
      "Tree shrew,0.104,2.5\n",
      "Golden hamster,0.12,1\n",
      "Mole,0.122,3\n",
      "Galago,0.2,5\n",
      "Rat,0.28,1.9\n",
      "Chinchilla,0.425,6.4\n",
      "Owl monkey,0.48,15.5\n",
      "Desert hedgehog,0.55,2.4\n",
      "Rock hyrax-a,0.75,12.3\n",
      "European hedgehog,0.785,3.5\n",
      "Tenrec,0.9,2.6\n",
      "Artic ground squirrel,0.92,5.7\n",
      "African giant pouched rat,1,6.6\n",
      "Guinea pig,1.04,5.5\n",
      "Mountain beaver,1.35,8.1\n",
      "Slow loris,1.4,12.5\n",
      "Genet,1.41,17.5\n",
      "Phalanger,1.62,11.4\n",
      "N.A. opossum,1.7,6.3\n",
      "Tree hyrax,2,12.3\n",
      "Rabbit,2.5,12.1\n",
      "Echidna,3,25\n",
      "Cat,3.3,25.6\n",
      "Artic fox,3.385,44.5\n",
      "Water opossum,3.5,3.9\n",
      "Nine-banded armadillo,3.5,10.8\n",
      "Rock hyrax-b,3.6,21\n",
      "Yellow-bellied marmot,4.05,17\n",
      "Verbet,4.19,58\n",
      "Red fox,4.235,50.4\n",
      "Raccoon,4.288,39.2\n",
      "Rhesus monkey,6.8,179\n",
      "Potar monkey,10,115\n",
      "Baboon,10.55,179.5\n",
      "Roe deer,14.83,98.2\n",
      "Goat,27.66,115\n",
      "Kangaroo,35,56\n",
      "Grey wolf,36.33,119.5\n",
      "Chimpanzee,52.16,440\n",
      "Sheep,55.5,175\n",
      "Giant armadillo,60,81\n",
      "Human,62,1320\n",
      "Grey seal,85,325\n",
      "Jaguar,100,157\n",
      "Brazilian tapir,160,169\n",
      "Donkey,187.1,419\n",
      "Pig,192,180\n",
      "Gorilla,207,406\n",
      "Okapi,250,490\n",
      "Cow,465,423\n",
      "Horse,521,655\n",
      "Giraffe,529,680\n",
      "Asian elephant,2547,4603\n",
      "African elephant,6654,5712\n",
      "Triceratops,9400,70\n",
      "Dipliodocus,11700,50\n",
      "Brachiosaurus,87000,154.5\n",
      "\n"
     ]
    }
   ],
   "source": [
    "print(File)"
   ]
  },
  {
   "cell_type": "code",
   "execution_count": 45,
   "metadata": {},
   "outputs": [
    {
     "name": "stdout",
     "output_type": "stream",
     "text": [
      "__name__\n",
      "__doc__\n",
      "__package__\n",
      "__loader__\n",
      "__spec__\n",
      "__build_class__\n",
      "__import__\n",
      "abs\n",
      "all\n",
      "any\n",
      "ascii\n",
      "bin\n",
      "callable\n",
      "chr\n",
      "compile\n",
      "delattr\n",
      "dir\n",
      "divmod\n",
      "eval\n",
      "exec\n",
      "format\n",
      "getattr\n",
      "globals\n",
      "hasattr\n",
      "hash\n",
      "hex\n",
      "id\n",
      "input\n",
      "isinstance\n",
      "issubclass\n",
      "iter\n",
      "len\n",
      "locals\n",
      "max\n",
      "min\n",
      "next\n",
      "oct\n",
      "ord\n",
      "pow\n",
      "print\n",
      "repr\n",
      "round\n",
      "setattr\n",
      "sorted\n",
      "sum\n",
      "vars\n",
      "None\n",
      "Ellipsis\n",
      "NotImplemented\n",
      "False\n",
      "True\n",
      "bool\n",
      "memoryview\n",
      "bytearray\n",
      "bytes\n",
      "classmethod\n",
      "complex\n",
      "dict\n",
      "enumerate\n",
      "filter\n",
      "float\n",
      "frozenset\n",
      "property\n",
      "int\n",
      "list\n",
      "map\n",
      "object\n",
      "range\n",
      "reversed\n",
      "set\n",
      "slice\n",
      "staticmethod\n",
      "str\n",
      "super\n",
      "tuple\n",
      "type\n",
      "zip\n",
      "__debug__\n",
      "BaseException\n",
      "Exception\n",
      "TypeError\n",
      "StopAsyncIteration\n",
      "StopIteration\n",
      "GeneratorExit\n",
      "SystemExit\n",
      "KeyboardInterrupt\n",
      "ImportError\n",
      "ModuleNotFoundError\n",
      "OSError\n",
      "EnvironmentError\n",
      "IOError\n",
      "WindowsError\n",
      "EOFError\n",
      "RuntimeError\n",
      "RecursionError\n",
      "NotImplementedError\n",
      "NameError\n",
      "UnboundLocalError\n",
      "AttributeError\n",
      "SyntaxError\n",
      "IndentationError\n",
      "TabError\n",
      "LookupError\n",
      "IndexError\n",
      "KeyError\n",
      "ValueError\n",
      "UnicodeError\n",
      "UnicodeEncodeError\n",
      "UnicodeDecodeError\n",
      "UnicodeTranslateError\n",
      "AssertionError\n",
      "ArithmeticError\n",
      "FloatingPointError\n",
      "OverflowError\n",
      "ZeroDivisionError\n",
      "SystemError\n",
      "ReferenceError\n",
      "BufferError\n",
      "MemoryError\n",
      "Warning\n",
      "UserWarning\n",
      "DeprecationWarning\n",
      "PendingDeprecationWarning\n",
      "SyntaxWarning\n",
      "RuntimeWarning\n",
      "FutureWarning\n",
      "ImportWarning\n",
      "UnicodeWarning\n",
      "BytesWarning\n",
      "ResourceWarning\n",
      "ConnectionError\n",
      "BlockingIOError\n",
      "BrokenPipeError\n",
      "ChildProcessError\n",
      "ConnectionAbortedError\n",
      "ConnectionRefusedError\n",
      "ConnectionResetError\n",
      "FileExistsError\n",
      "FileNotFoundError\n",
      "IsADirectoryError\n",
      "NotADirectoryError\n",
      "InterruptedError\n",
      "PermissionError\n",
      "ProcessLookupError\n",
      "TimeoutError\n",
      "open\n",
      "copyright\n",
      "credits\n",
      "license\n",
      "help\n",
      "__IPYTHON__\n",
      "display\n",
      "get_ipython\n"
     ]
    }
   ],
   "source": [
    "for e in __builtins__.__dict__:\n",
    "    print(e)"
   ]
  },
  {
   "cell_type": "code",
   "execution_count": null,
   "metadata": {},
   "outputs": [],
   "source": []
  }
 ],
 "metadata": {
  "kernelspec": {
   "display_name": "Python 3",
   "language": "python",
   "name": "python3"
  },
  "language_info": {
   "codemirror_mode": {
    "name": "ipython",
    "version": 3
   },
   "file_extension": ".py",
   "mimetype": "text/x-python",
   "name": "python",
   "nbconvert_exporter": "python",
   "pygments_lexer": "ipython3",
   "version": "3.6.2"
  }
 },
 "nbformat": 4,
 "nbformat_minor": 2
}
