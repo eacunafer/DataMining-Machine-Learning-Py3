{
 "cells": [
  {
   "cell_type": "markdown",
   "metadata": {},
   "source": [
    "## Data Mining and Machine Learning\n",
    "##  Multiple Regression and Feature selection\n",
    "### Edgar   Acuna\n",
    "#### febrero 2019"
   ]
  },
  {
   "cell_type": "code",
   "execution_count": 1,
   "metadata": {},
   "outputs": [],
   "source": [
    "import pandas as pd\n",
    "import numpy as np\n",
    "import seaborn as sns\n",
    "from math import log,pi\n",
    "import statsmodels.formula.api as smf\n",
    "%matplotlib inline"
   ]
  },
  {
   "cell_type": "code",
   "execution_count": 2,
   "metadata": {},
   "outputs": [
    {
     "data": {
      "text/html": [
       "<div>\n",
       "<style scoped>\n",
       "    .dataframe tbody tr th:only-of-type {\n",
       "        vertical-align: middle;\n",
       "    }\n",
       "\n",
       "    .dataframe tbody tr th {\n",
       "        vertical-align: top;\n",
       "    }\n",
       "\n",
       "    .dataframe thead th {\n",
       "        text-align: right;\n",
       "    }\n",
       "</style>\n",
       "<table border=\"1\" class=\"dataframe\">\n",
       "  <thead>\n",
       "    <tr style=\"text-align: right;\">\n",
       "      <th></th>\n",
       "      <th>mpg</th>\n",
       "      <th>sp</th>\n",
       "      <th>wt</th>\n",
       "      <th>vol</th>\n",
       "      <th>hp</th>\n",
       "    </tr>\n",
       "  </thead>\n",
       "  <tbody>\n",
       "    <tr>\n",
       "      <th>0</th>\n",
       "      <td>65.4</td>\n",
       "      <td>96</td>\n",
       "      <td>17.5</td>\n",
       "      <td>89</td>\n",
       "      <td>49</td>\n",
       "    </tr>\n",
       "    <tr>\n",
       "      <th>1</th>\n",
       "      <td>56.0</td>\n",
       "      <td>97</td>\n",
       "      <td>20.0</td>\n",
       "      <td>92</td>\n",
       "      <td>55</td>\n",
       "    </tr>\n",
       "    <tr>\n",
       "      <th>2</th>\n",
       "      <td>55.9</td>\n",
       "      <td>97</td>\n",
       "      <td>20.0</td>\n",
       "      <td>92</td>\n",
       "      <td>55</td>\n",
       "    </tr>\n",
       "    <tr>\n",
       "      <th>3</th>\n",
       "      <td>49.0</td>\n",
       "      <td>105</td>\n",
       "      <td>20.0</td>\n",
       "      <td>92</td>\n",
       "      <td>70</td>\n",
       "    </tr>\n",
       "    <tr>\n",
       "      <th>4</th>\n",
       "      <td>46.5</td>\n",
       "      <td>96</td>\n",
       "      <td>20.0</td>\n",
       "      <td>92</td>\n",
       "      <td>53</td>\n",
       "    </tr>\n",
       "  </tbody>\n",
       "</table>\n",
       "</div>"
      ],
      "text/plain": [
       "    mpg   sp    wt  vol  hp\n",
       "0  65.4   96  17.5   89  49\n",
       "1  56.0   97  20.0   92  55\n",
       "2  55.9   97  20.0   92  55\n",
       "3  49.0  105  20.0   92  70\n",
       "4  46.5   96  20.0   92  53"
      ]
     },
     "execution_count": 2,
     "metadata": {},
     "output_type": "execute_result"
    }
   ],
   "source": [
    "#Ejemplo 1: Variable de respuesta mpg: millaje por galon, variables predictoras: wt, vol,sp y hp\n",
    "data1=pd.read_csv(\"http://academic.uprm.edu/eacuna/millaje.txt\",sep=\"\\s+\")\n",
    "data1.head()"
   ]
  },
  {
   "cell_type": "code",
   "execution_count": 3,
   "metadata": {},
   "outputs": [
    {
     "name": "stderr",
     "output_type": "stream",
     "text": [
      "C:\\Users\\edgar2017\\Anaconda2\\envs\\ipykernel_py2\\lib\\site-packages\\scipy\\stats\\stats.py:1713: FutureWarning: Using a non-tuple sequence for multidimensional indexing is deprecated; use `arr[tuple(seq)]` instead of `arr[seq]`. In the future this will be interpreted as an array index, `arr[np.array(seq)]`, which will result either in an error or a different result.\n",
      "  return np.add.reduce(sorted[indexer] * weights, axis=axis) / sumval\n"
     ]
    },
    {
     "data": {
      "text/plain": [
       "<seaborn.axisgrid.PairGrid at 0xb077cf8>"
      ]
     },
     "execution_count": 3,
     "metadata": {},
     "output_type": "execute_result"
    },
    {
     "data": {
      "image/png": "[encoded data removed]",
      "text/plain": [
       "<matplotlib.figure.Figure at 0x5e36da0>"
      ]
     },
     "metadata": {},
     "output_type": "display_data"
    }
   ],
   "source": [
    "#Haciendo el sactterplot matricial usando seaborn\n",
    "sns.pairplot(data1,kind=\"reg\")"
   ]
  },
  {
   "cell_type": "code",
   "execution_count": 4,
   "metadata": {
    "scrolled": true
   },
   "outputs": [
    {
     "data": {
      "text/html": [
       "<div>\n",
       "<style scoped>\n",
       "    .dataframe tbody tr th:only-of-type {\n",
       "        vertical-align: middle;\n",
       "    }\n",
       "\n",
       "    .dataframe tbody tr th {\n",
       "        vertical-align: top;\n",
       "    }\n",
       "\n",
       "    .dataframe thead th {\n",
       "        text-align: right;\n",
       "    }\n",
       "</style>\n",
       "<table border=\"1\" class=\"dataframe\">\n",
       "  <thead>\n",
       "    <tr style=\"text-align: right;\">\n",
       "      <th></th>\n",
       "      <th>mpg</th>\n",
       "      <th>sp</th>\n",
       "      <th>wt</th>\n",
       "      <th>vol</th>\n",
       "      <th>hp</th>\n",
       "    </tr>\n",
       "  </thead>\n",
       "  <tbody>\n",
       "    <tr>\n",
       "      <th>mpg</th>\n",
       "      <td>1.000000</td>\n",
       "      <td>-0.688446</td>\n",
       "      <td>-0.905085</td>\n",
       "      <td>-0.368614</td>\n",
       "      <td>-0.789856</td>\n",
       "    </tr>\n",
       "    <tr>\n",
       "      <th>sp</th>\n",
       "      <td>-0.688446</td>\n",
       "      <td>1.000000</td>\n",
       "      <td>0.678534</td>\n",
       "      <td>-0.043062</td>\n",
       "      <td>0.966545</td>\n",
       "    </tr>\n",
       "    <tr>\n",
       "      <th>wt</th>\n",
       "      <td>-0.905085</td>\n",
       "      <td>0.678534</td>\n",
       "      <td>1.000000</td>\n",
       "      <td>0.384954</td>\n",
       "      <td>0.832220</td>\n",
       "    </tr>\n",
       "    <tr>\n",
       "      <th>vol</th>\n",
       "      <td>-0.368614</td>\n",
       "      <td>-0.043062</td>\n",
       "      <td>0.384954</td>\n",
       "      <td>1.000000</td>\n",
       "      <td>0.076479</td>\n",
       "    </tr>\n",
       "    <tr>\n",
       "      <th>hp</th>\n",
       "      <td>-0.789856</td>\n",
       "      <td>0.966545</td>\n",
       "      <td>0.832220</td>\n",
       "      <td>0.076479</td>\n",
       "      <td>1.000000</td>\n",
       "    </tr>\n",
       "  </tbody>\n",
       "</table>\n",
       "</div>"
      ],
      "text/plain": [
       "          mpg        sp        wt       vol        hp\n",
       "mpg  1.000000 -0.688446 -0.905085 -0.368614 -0.789856\n",
       "sp  -0.688446  1.000000  0.678534 -0.043062  0.966545\n",
       "wt  -0.905085  0.678534  1.000000  0.384954  0.832220\n",
       "vol -0.368614 -0.043062  0.384954  1.000000  0.076479\n",
       "hp  -0.789856  0.966545  0.832220  0.076479  1.000000"
      ]
     },
     "execution_count": 4,
     "metadata": {},
     "output_type": "execute_result"
    }
   ],
   "source": [
    "data1.corr()"
   ]
  },
  {
   "cell_type": "markdown",
   "metadata": {},
   "source": [
    "Comentario: La variable predictora mas correlacionada con la variable de espuesta mpg es wt y la menos correlacionada es vol "
   ]
  },
  {
   "cell_type": "code",
   "execution_count": 5,
   "metadata": {},
   "outputs": [
    {
     "name": "stdout",
     "output_type": "stream",
     "text": [
      "                            OLS Regression Results                            \n",
      "==============================================================================\n",
      "Dep. Variable:                    mpg   R-squared:                       0.873\n",
      "Model:                            OLS   Adj. R-squared:                  0.867\n",
      "Method:                 Least Squares   F-statistic:                     132.7\n",
      "Date:                Tue, 05 Feb 2019   Prob (F-statistic):           9.98e-34\n",
      "Time:                        12:29:11   Log-Likelihood:                -220.00\n",
      "No. Observations:                  82   AIC:                             450.0\n",
      "Df Residuals:                      77   BIC:                             462.0\n",
      "Df Model:                           4                                         \n",
      "Covariance Type:            nonrobust                                         \n",
      "==============================================================================\n",
      "                 coef    std err          t      P>|t|      [0.025      0.975]\n",
      "------------------------------------------------------------------------------\n",
      "Intercept    192.4378     23.532      8.178      0.000     145.580     239.295\n",
      "sp            -1.2948      0.245     -5.290      0.000      -1.782      -0.807\n",
      "wt            -1.8598      0.213     -8.717      0.000      -2.285      -1.435\n",
      "vol           -0.0156      0.023     -0.685      0.495      -0.061       0.030\n",
      "hp             0.3922      0.081      4.818      0.000       0.230       0.554\n",
      "==============================================================================\n",
      "Omnibus:                       14.205   Durbin-Watson:                   1.148\n",
      "Prob(Omnibus):                  0.001   Jarque-Bera (JB):               18.605\n",
      "Skew:                           0.784   Prob(JB):                     9.12e-05\n",
      "Kurtosis:                       4.729   Cond. No.                     1.16e+04\n",
      "==============================================================================\n",
      "\n",
      "Warnings:\n",
      "[1] Standard Errors assume that the covariance matrix of the errors is correctly specified.\n",
      "[2] The condition number is large, 1.16e+04. This might indicate that there are\n",
      "strong multicollinearity or other numerical problems.\n"
     ]
    }
   ],
   "source": [
    "#haciendo la regresion de mpg con las 4 variables predictoras\n",
    "regall=smf.ols(formula='mpg~sp+wt+vol+hp',data=data1).fit()\n",
    "print regall.summary()"
   ]
  },
  {
   "cell_type": "markdown",
   "metadata": {},
   "source": [
    "Comentario: \n",
    "\n",
    "Interpretacion de los coeficientes:\n",
    "\n",
    "B1=-1.2948 significa que si la velocidad maxima aumenta en una unidad(m/h)se espera que el rendimiento en millas por galon baje en 1.29 asumiendo que las otras variables permanecen constante.\n",
    "\n",
    "B2=-1.85 significa que si el peso del carro aumenta en una unidad (100 lb)se espera que el rendimiento en millas por galon disminuya en 1.85 asumiendo que las otras variables permanecen constante.\n",
    "\n",
    "B3=-.01 significa que si el volumen interior del carro aumenta en una unidad (pie cubico) se espera que el rendimiento en millas por galon disminuya en .01 asumiendo que las otras variables permanecen constante.\n",
    "\n",
    "B4=0.39 significa que si la potencia del motor aumenta en una unidad se espera que que el rendimiento en millas por galon aumente  en .39 asumiendo que las otras variables permanecen constante.\n",
    "\n",
    "Notar que el p-value de la prueba de t para la variable vol es mayor que .05 lo cual indica que dicha\n",
    "    variable no es importante para predecir el mpg"
   ]
  },
  {
   "cell_type": "code",
   "execution_count": 6,
   "metadata": {
    "scrolled": true
   },
   "outputs": [
    {
     "name": "stdout",
     "output_type": "stream",
     "text": [
      "                            OLS Regression Results                            \n",
      "==============================================================================\n",
      "Dep. Variable:                    mpg   R-squared:                       0.873\n",
      "Model:                            OLS   Adj. R-squared:                  0.868\n",
      "Method:                 Least Squares   F-statistic:                     177.9\n",
      "Date:                Tue, 05 Feb 2019   Prob (F-statistic):           8.66e-35\n",
      "Time:                        12:29:11   Log-Likelihood:                -220.25\n",
      "No. Observations:                  82   AIC:                             448.5\n",
      "Df Residuals:                      78   BIC:                             458.1\n",
      "Df Model:                           3                                         \n",
      "Covariance Type:            nonrobust                                         \n",
      "==============================================================================\n",
      "                 coef    std err          t      P>|t|      [0.025      0.975]\n",
      "------------------------------------------------------------------------------\n",
      "Intercept    194.1296     23.322      8.324      0.000     147.699     240.560\n",
      "sp            -1.3200      0.241     -5.473      0.000      -1.800      -0.840\n",
      "wt            -1.9221      0.192     -9.991      0.000      -2.305      -1.539\n",
      "hp             0.4052      0.079      5.135      0.000       0.248       0.562\n",
      "==============================================================================\n",
      "Omnibus:                       15.437   Durbin-Watson:                   1.185\n",
      "Prob(Omnibus):                  0.000   Jarque-Bera (JB):               21.758\n",
      "Skew:                           0.808   Prob(JB):                     1.88e-05\n",
      "Kurtosis:                       4.938   Cond. No.                     1.00e+04\n",
      "==============================================================================\n",
      "\n",
      "Warnings:\n",
      "[1] Standard Errors assume that the covariance matrix of the errors is correctly specified.\n",
      "[2] The condition number is large,  1e+04. This might indicate that there are\n",
      "strong multicollinearity or other numerical problems.\n"
     ]
    }
   ],
   "source": [
    "reg3=smf.ols(formula='mpg~sp+wt+hp',data=data1).fit()\n",
    "print reg3.summary()"
   ]
  },
  {
   "cell_type": "code",
   "execution_count": 7,
   "metadata": {},
   "outputs": [
    {
     "name": "stdout",
     "output_type": "stream",
     "text": [
      "El mpg predicho es: 43.805945646470754\n"
     ]
    }
   ],
   "source": [
    "#Prediccion usando el modelo de regresion\n",
    "pred=regall.predict(pd.DataFrame({'sp': [100], 'wt':[20], 'vol': [100], 'hp': [50]}))\n",
    "print \"El mpg predicho es:\",pred[0]"
   ]
  },
  {
   "cell_type": "code",
   "execution_count": 8,
   "metadata": {},
   "outputs": [
    {
     "name": "stdout",
     "output_type": "stream",
     "text": [
      "450.164899161\n"
     ]
    }
   ],
   "source": [
    "#calculo del criterio de Akaike usando todas las predictoras para seleccion de variables\n",
    "sse=regall.ssr\n",
    "akaike=82*(log(2*pi*sse/77)+1)+5\n",
    "print akaike"
   ]
  },
  {
   "cell_type": "code",
   "execution_count": 9,
   "metadata": {},
   "outputs": [
    {
     "name": "stdout",
     "output_type": "stream",
     "text": [
      "504.298793532117\n"
     ]
    }
   ],
   "source": [
    "#Hallando el AIC del modelo de regresion sin incluir la variable wt\n",
    "regall=smf.ols(formula='mpg~sp+vol+hp',data=data1).fit().aic\n",
    "print regall"
   ]
  },
  {
   "cell_type": "code",
   "execution_count": 10,
   "metadata": {},
   "outputs": [
    {
     "name": "stdout",
     "output_type": "stream",
     "text": [
      "473.4251275963891\n"
     ]
    }
   ],
   "source": [
    "#Hallando el AIC del modelo de regresion sin incluir la variable sp\n",
    "regall=smf.ols(formula='mpg~wt+vol+hp',data=data1).fit().aic\n",
    "print regall"
   ]
  },
  {
   "cell_type": "code",
   "execution_count": 11,
   "metadata": {},
   "outputs": [
    {
     "name": "stdout",
     "output_type": "stream",
     "text": [
      "469.6093107206202\n"
     ]
    }
   ],
   "source": [
    "#Hallando el AIC del modelo de regresion sin incluir la variable hp\n",
    "regall=smf.ols(formula='mpg~sp+wt+vol',data=data1).fit().aic\n",
    "print regall"
   ]
  },
  {
   "cell_type": "code",
   "execution_count": 12,
   "metadata": {},
   "outputs": [
    {
     "name": "stdout",
     "output_type": "stream",
     "text": [
      "448.50475981531577\n"
     ]
    }
   ],
   "source": [
    "#Hallando el AIC del modelo de regresion sin incluir la variable Vol\n",
    "regall=smf.ols(formula='mpg~sp+wt+hp',data=data1).fit().aic\n",
    "print regall"
   ]
  },
  {
   "cell_type": "code",
   "execution_count": 13,
   "metadata": {},
   "outputs": [
    {
     "name": "stdout",
     "output_type": "stream",
     "text": [
      "470.38102242040526\n"
     ]
    }
   ],
   "source": [
    "#Hallando el AIC del modelo de regresion sin incluir las variables Vol y hp\n",
    "regall=smf.ols(formula='mpg~sp+wt',data=data1).fit().aic\n",
    "print regall"
   ]
  },
  {
   "cell_type": "code",
   "execution_count": 14,
   "metadata": {},
   "outputs": [
    {
     "name": "stdout",
     "output_type": "stream",
     "text": [
      "473.1558270224401\n"
     ]
    }
   ],
   "source": [
    "#Hallando el AIC del modelo de regresion sin incluir la variable Vol y sp\n",
    "regall=smf.ols(formula='mpg~wt+hp',data=data1).fit().aic\n",
    "print regall"
   ]
  },
  {
   "cell_type": "code",
   "execution_count": 15,
   "metadata": {},
   "outputs": [
    {
     "name": "stdout",
     "output_type": "stream",
     "text": [
      "514.0802316649641\n"
     ]
    }
   ],
   "source": [
    "#Hallando el AIC del modelo de regresion sin incluir la variable Vol y wt\n",
    "regall=smf.ols(formula='mpg~sp+hp',data=data1).fit().aic\n",
    "print regall"
   ]
  },
  {
   "cell_type": "markdown",
   "metadata": {},
   "source": [
    "Comentario: Segun el criterio AIC de Akaike el mejor modelo es aquel que incluye a las variables wt, sp y hp, porque tiene el AIC menor de todos los modelos "
   ]
  },
  {
   "cell_type": "code",
   "execution_count": 16,
   "metadata": {},
   "outputs": [],
   "source": [
    "#Funcion auxiliar que para generar una formula excluyendo una variable\n",
    "def ols_formula(df, dependent_var, excluded_cols):\n",
    "    '''\n",
    "    Generates the R style formula for statsmodels (patsy) given\n",
    "    the dataframe, dependent variable and optional excluded columns\n",
    "    as strings\n",
    "    '''\n",
    "    df_columns = list(df.columns.values)\n",
    "    df_columns.remove(dependent_var)\n",
    "    for col in excluded_cols:\n",
    "        df_columns.remove(col)\n",
    "    return dependent_var + ' ~ ' + ' + '.join(df_columns)"
   ]
  },
  {
   "cell_type": "code",
   "execution_count": 17,
   "metadata": {},
   "outputs": [],
   "source": [
    "def back1(data,best_candidate,response,remaining,current_score):\n",
    "        scores_with_candidates=[]\n",
    "        #step 2\n",
    "        data1=data.drop(best_candidate,axis=1)\n",
    "        for candidate in remaining:\n",
    "            formula=ols_formula(data1,response,[candidate])\n",
    "            score = smf.ols(formula, data1).fit().aic\n",
    "            scores_with_candidates.append((score,candidate))\n",
    "        scores_with_candidates.sort(reverse=True)\n",
    "        worst_new_score, best_candidate = scores_with_candidates.pop()\n",
    "        print \"Feature considered for elimination in this step:\",best_candidate \n",
    "        if current_score>worst_new_score:\n",
    "            remaining.remove(best_candidate)\n",
    "            current_score = worst_new_score\n",
    "        return remaining, current_score"
   ]
  },
  {
   "cell_type": "code",
   "execution_count": 18,
   "metadata": {},
   "outputs": [],
   "source": [
    "#Funcion para hacer backward selection \n",
    "def backward_elimination(data,response):\n",
    "    #Step 0\n",
    "    formula=ols_formula(data,response,\"\")\n",
    "    result = smf.ols(formula, data).fit().aic\n",
    "    remaining = list(data.columns)\n",
    "    remaining.remove(response)\n",
    "    current_score, worst_new_score = result, result\n",
    "    print 'AIC including all the features\\n', current_score\n",
    "    scores_with_candidates = []\n",
    "    #Step 1\n",
    "    for candidate in remaining:\n",
    "        formula=ols_formula(data,response,[candidate])\n",
    "        score = smf.ols(formula, data).fit().aic\n",
    "        scores_with_candidates.append((score,candidate))\n",
    "    scores_with_candidates.sort(reverse=True)\n",
    "    worst_new_score, best_candidate = scores_with_candidates.pop()\n",
    "    print \"Feature considered for elimination in this step:\",best_candidate, \"\\nAIC\",worst_new_score,\"\\n\"   \n",
    "    if current_score<worst_new_score:\n",
    "        print \" Ended at step 1: all the features are important\"\n",
    "    else:\n",
    "        remaining.remove(best_candidate)\n",
    "        current_score = worst_new_score\n",
    "        aic1=current_score\n",
    "        #print \"ac1\", aic1\n",
    "        for step in range (0,8):\n",
    "            back1(data,best_candidate,response,remaining,current_score)\n",
    "            formula = \"{} ~ {} + 1\".format(response, ' + '.join(remaining))\n",
    "            aic2=smf.ols(formula, data).fit().aic\n",
    "            #print \"aic2\", aic2\n",
    "            if aic2>=aic1:\n",
    "                break\n",
    "            else:\n",
    "                aic1=aic2\n",
    "                print \"AIC=\",aic1\n",
    "    print \"best AIC:\", aic1, \"\\n\",\"Best Features:\", remaining\n",
    "    formula = \"{} ~ {} + 1\".format(response, ' + '.join(remaining))\n",
    "    print formula\n",
    "    model = smf.ols(formula, data).fit()\n",
    "    return model"
   ]
  },
  {
   "cell_type": "code",
   "execution_count": 19,
   "metadata": {},
   "outputs": [
    {
     "name": "stdout",
     "output_type": "stream",
     "text": [
      "AIC including all the features\n",
      "450.0059654772008\n",
      "Feature considered for elimination in this step: vol \n",
      "AIC 448.50475981531577 \n",
      "\n",
      "Feature considered for elimination in this step: hp\n",
      "best AIC: 448.50475981531577 \n",
      "Best Features: ['sp', 'wt', 'hp']\n",
      "mpg ~ sp + wt + hp + 1\n"
     ]
    },
    {
     "data": {
      "text/plain": [
       "<statsmodels.regression.linear_model.RegressionResultsWrapper at 0xe86be10>"
      ]
     },
     "execution_count": 19,
     "metadata": {},
     "output_type": "execute_result"
    }
   ],
   "source": [
    "backward_elimination(data1,'mpg')"
   ]
  },
  {
   "cell_type": "code",
   "execution_count": 20,
   "metadata": {},
   "outputs": [
    {
     "data": {
      "text/html": [
       "<div>\n",
       "<style scoped>\n",
       "    .dataframe tbody tr th:only-of-type {\n",
       "        vertical-align: middle;\n",
       "    }\n",
       "\n",
       "    .dataframe tbody tr th {\n",
       "        vertical-align: top;\n",
       "    }\n",
       "\n",
       "    .dataframe thead th {\n",
       "        text-align: right;\n",
       "    }\n",
       "</style>\n",
       "<table border=\"1\" class=\"dataframe\">\n",
       "  <thead>\n",
       "    <tr style=\"text-align: right;\">\n",
       "      <th></th>\n",
       "      <th>grasa</th>\n",
       "      <th>edad</th>\n",
       "      <th>peso</th>\n",
       "      <th>altura</th>\n",
       "      <th>cuello</th>\n",
       "      <th>pecho</th>\n",
       "      <th>abdomen</th>\n",
       "      <th>cadera</th>\n",
       "      <th>muslo</th>\n",
       "      <th>rodilla</th>\n",
       "      <th>tobillo</th>\n",
       "      <th>biceps</th>\n",
       "      <th>antebrazo</th>\n",
       "      <th>muneca</th>\n",
       "    </tr>\n",
       "  </thead>\n",
       "  <tbody>\n",
       "    <tr>\n",
       "      <th>0</th>\n",
       "      <td>12.3</td>\n",
       "      <td>23</td>\n",
       "      <td>154.25</td>\n",
       "      <td>67.75</td>\n",
       "      <td>36.2</td>\n",
       "      <td>93.1</td>\n",
       "      <td>85.2</td>\n",
       "      <td>94.5</td>\n",
       "      <td>59.0</td>\n",
       "      <td>37.3</td>\n",
       "      <td>21.9</td>\n",
       "      <td>32.0</td>\n",
       "      <td>27.4</td>\n",
       "      <td>17.1</td>\n",
       "    </tr>\n",
       "    <tr>\n",
       "      <th>1</th>\n",
       "      <td>6.1</td>\n",
       "      <td>22</td>\n",
       "      <td>173.25</td>\n",
       "      <td>72.25</td>\n",
       "      <td>38.5</td>\n",
       "      <td>93.6</td>\n",
       "      <td>83.0</td>\n",
       "      <td>98.7</td>\n",
       "      <td>58.7</td>\n",
       "      <td>37.3</td>\n",
       "      <td>23.4</td>\n",
       "      <td>30.5</td>\n",
       "      <td>28.9</td>\n",
       "      <td>18.2</td>\n",
       "    </tr>\n",
       "    <tr>\n",
       "      <th>2</th>\n",
       "      <td>25.3</td>\n",
       "      <td>22</td>\n",
       "      <td>154.00</td>\n",
       "      <td>66.25</td>\n",
       "      <td>34.0</td>\n",
       "      <td>95.8</td>\n",
       "      <td>87.9</td>\n",
       "      <td>99.2</td>\n",
       "      <td>59.6</td>\n",
       "      <td>38.9</td>\n",
       "      <td>24.0</td>\n",
       "      <td>28.8</td>\n",
       "      <td>25.2</td>\n",
       "      <td>16.6</td>\n",
       "    </tr>\n",
       "    <tr>\n",
       "      <th>3</th>\n",
       "      <td>10.4</td>\n",
       "      <td>26</td>\n",
       "      <td>184.75</td>\n",
       "      <td>72.25</td>\n",
       "      <td>37.4</td>\n",
       "      <td>101.8</td>\n",
       "      <td>86.4</td>\n",
       "      <td>101.2</td>\n",
       "      <td>60.1</td>\n",
       "      <td>37.3</td>\n",
       "      <td>22.8</td>\n",
       "      <td>32.4</td>\n",
       "      <td>29.4</td>\n",
       "      <td>18.2</td>\n",
       "    </tr>\n",
       "    <tr>\n",
       "      <th>4</th>\n",
       "      <td>28.7</td>\n",
       "      <td>24</td>\n",
       "      <td>184.25</td>\n",
       "      <td>71.25</td>\n",
       "      <td>34.4</td>\n",
       "      <td>97.3</td>\n",
       "      <td>100.0</td>\n",
       "      <td>101.9</td>\n",
       "      <td>63.2</td>\n",
       "      <td>42.2</td>\n",
       "      <td>24.0</td>\n",
       "      <td>32.2</td>\n",
       "      <td>27.7</td>\n",
       "      <td>17.7</td>\n",
       "    </tr>\n",
       "  </tbody>\n",
       "</table>\n",
       "</div>"
      ],
      "text/plain": [
       "   grasa  edad    peso  altura  cuello  pecho  abdomen  cadera  muslo  \\\n",
       "0   12.3    23  154.25   67.75    36.2   93.1     85.2    94.5   59.0   \n",
       "1    6.1    22  173.25   72.25    38.5   93.6     83.0    98.7   58.7   \n",
       "2   25.3    22  154.00   66.25    34.0   95.8     87.9    99.2   59.6   \n",
       "3   10.4    26  184.75   72.25    37.4  101.8     86.4   101.2   60.1   \n",
       "4   28.7    24  184.25   71.25    34.4   97.3    100.0   101.9   63.2   \n",
       "\n",
       "   rodilla  tobillo  biceps  antebrazo  muneca  \n",
       "0     37.3     21.9    32.0       27.4    17.1  \n",
       "1     37.3     23.4    30.5       28.9    18.2  \n",
       "2     38.9     24.0    28.8       25.2    16.6  \n",
       "3     37.3     22.8    32.4       29.4    18.2  \n",
       "4     42.2     24.0    32.2       27.7    17.7  "
      ]
     },
     "execution_count": 20,
     "metadata": {},
     "output_type": "execute_result"
    }
   ],
   "source": [
    "#Ejemplo 2: variable de respuesta grasa: porcentaje de grasa en el cuerpo, variable predictoras: edad, peso,\n",
    "#altura y circunferencias de cuello, pecho, cadera,abdomen, biceps, muslo,rodilla,tobillo,antebrazo y muneca \n",
    "data2=pd.read_csv(\"http://academic.uprm.edu/eacuna/grasa.txt\",sep=\"\\s+\")\n",
    "data2.head()"
   ]
  },
  {
   "cell_type": "code",
   "execution_count": 21,
   "metadata": {},
   "outputs": [
    {
     "name": "stdout",
     "output_type": "stream",
     "text": [
      "AIC including all the features\n",
      "1464.502374462249\n",
      "Feature considered for elimination in this step: rodilla \n",
      "AIC 1462.506597124295 \n",
      "\n",
      "Feature considered for elimination in this step: pecho\n",
      "AIC= 1460.5713060353653\n",
      "Feature considered for elimination in this step: altura\n",
      "AIC= 1459.0662610790037\n",
      "Feature considered for elimination in this step: tobillo\n",
      "AIC= 1457.8221707488633\n",
      "Feature considered for elimination in this step: biceps\n",
      "AIC= 1456.9963819805987\n",
      "Feature considered for elimination in this step: cadera\n",
      "best AIC: 1456.9963819805987 \n",
      "Best Features: ['edad', 'peso', 'cuello', 'abdomen', 'cadera', 'muslo', 'antebrazo', 'muneca']\n",
      "grasa ~ edad + peso + cuello + abdomen + cadera + muslo + antebrazo + muneca + 1\n",
      "<statsmodels.regression.linear_model.RegressionResultsWrapper object at 0x000000000E9914E0>\n"
     ]
    }
   ],
   "source": [
    "model=backward_elimination(data2,\"grasa\")\n",
    "print model"
   ]
  },
  {
   "cell_type": "code",
   "execution_count": 22,
   "metadata": {},
   "outputs": [
    {
     "name": "stdout",
     "output_type": "stream",
     "text": [
      "Intercept   -22.656373\n",
      "edad          0.065780\n",
      "peso         -0.089853\n",
      "cuello       -0.466558\n",
      "abdomen       0.944815\n",
      "cadera       -0.195435\n",
      "muslo         0.302392\n",
      "antebrazo     0.515721\n",
      "muneca       -1.536652\n",
      "dtype: float64\n"
     ]
    }
   ],
   "source": [
    "backbest=smf.ols(formula='grasa ~ edad + peso + cuello + abdomen + cadera + muslo + antebrazo + muneca',data=data2).fit()\n",
    "print backbest.params"
   ]
  },
  {
   "cell_type": "code",
   "execution_count": 23,
   "metadata": {},
   "outputs": [
    {
     "name": "stdout",
     "output_type": "stream",
     "text": [
      "R2= 0.7465540223833473\n"
     ]
    }
   ],
   "source": [
    "print 'R2=', backbest.rsquared"
   ]
  },
  {
   "cell_type": "code",
   "execution_count": 24,
   "metadata": {
    "scrolled": true
   },
   "outputs": [],
   "source": [
    "#Haciendo backward elimination usando el modulo mlxtend y scikit-learn\n",
    "from sklearn.linear_model import LinearRegression\n",
    "import numpy as np\n",
    "import itertools\n",
    "import mlxtend\n",
    "from mlxtend.feature_selection import SequentialFeatureSelector as SFS\n",
    "X=np.asarray(data1[['sp','wt','vol','hp']])\n",
    "y=np.asarray(data1['mpg'])\n",
    "X1=np.asarray(data2[['edad','peso','altura','cuello','pecho','abdomen','cadera','muslo','rodilla','tobillo','biceps','antebrazo','muneca']])\n",
    "y1=np.asarray(data2['grasa'])\n",
    "lr = LinearRegression()"
   ]
  },
  {
   "cell_type": "code",
   "execution_count": 25,
   "metadata": {},
   "outputs": [
    {
     "data": {
      "text/plain": [
       "{3: {'avg_score': 0.8725063568724144,\n",
       "  'cv_scores': array([0.87250636]),\n",
       "  'feature_idx': (0, 1, 3)},\n",
       " 4: {'avg_score': 0.8732795286406809,\n",
       "  'cv_scores': array([0.87327953]),\n",
       "  'feature_idx': (0, 1, 2, 3)}}"
      ]
     },
     "execution_count": 25,
     "metadata": {},
     "output_type": "execute_result"
    }
   ],
   "source": [
    "#Aplicandolo a millaje\n",
    "a=SFS(lr, k_features=3, forward=False, floating=False, verbose=0, cv=None)\n",
    "a.fit(X,y)\n",
    "a.subsets_"
   ]
  },
  {
   "cell_type": "markdown",
   "metadata": {},
   "source": [
    "Comentario: Las 3 variables que quedarian serian: sp(0), wt(1) y hp(3). La  variable eliminada es la variable  vol (2) "
   ]
  },
  {
   "cell_type": "code",
   "execution_count": 26,
   "metadata": {},
   "outputs": [
    {
     "data": {
      "text/plain": [
       "{5: {'avg_score': 0.7371934537698606,\n",
       "  'cv_scores': array([0.73719345]),\n",
       "  'feature_idx': (0, 1, 5, 11, 12)},\n",
       " 6: {'avg_score': 0.7409680552099627,\n",
       "  'cv_scores': array([0.74096806]),\n",
       "  'feature_idx': (0, 1, 5, 7, 11, 12)},\n",
       " 7: {'avg_score': 0.7444762951356896,\n",
       "  'cv_scores': array([0.7444763]),\n",
       "  'feature_idx': (0, 1, 3, 5, 7, 11, 12)},\n",
       " 8: {'avg_score': 0.7465540223833473,\n",
       "  'cv_scores': array([0.74655402]),\n",
       "  'feature_idx': (0, 1, 3, 5, 6, 7, 11, 12)},\n",
       " 9: {'avg_score': 0.747732224159076,\n",
       "  'cv_scores': array([0.74773222]),\n",
       "  'feature_idx': (0, 1, 3, 5, 6, 7, 10, 11, 12)},\n",
       " 10: {'avg_score': 0.7484878032606921,\n",
       "  'cv_scores': array([0.7484878]),\n",
       "  'feature_idx': (0, 1, 3, 5, 6, 7, 9, 10, 11, 12)},\n",
       " 11: {'avg_score': 0.7489813153923306,\n",
       "  'cv_scores': array([0.74898132]),\n",
       "  'feature_idx': (0, 1, 2, 3, 5, 6, 7, 9, 10, 11, 12)},\n",
       " 12: {'avg_score': 0.7490457640449057,\n",
       "  'cv_scores': array([0.74904576]),\n",
       "  'feature_idx': (0, 1, 2, 3, 4, 5, 6, 7, 9, 10, 11, 12)},\n",
       " 13: {'avg_score': 0.7490499691482749,\n",
       "  'cv_scores': array([0.74904997]),\n",
       "  'feature_idx': (0, 1, 2, 3, 4, 5, 6, 7, 8, 9, 10, 11, 12)}}"
      ]
     },
     "execution_count": 26,
     "metadata": {},
     "output_type": "execute_result"
    }
   ],
   "source": [
    "#Aplicandolo a grasa\n",
    "a1=SFS(lr, k_features=5, forward=False, floating=False, verbose=0, cv=None)\n",
    "a1.fit(X1,y1)\n",
    "a1.subsets_"
   ]
  },
  {
   "cell_type": "markdown",
   "metadata": {},
   "source": [
    "Comentario: las 5 variables que quedarian serian: edad(0), peso(1), abdomen(5), antebrazo(11) y muneca(12)"
   ]
  },
  {
   "cell_type": "code",
   "execution_count": 27,
   "metadata": {},
   "outputs": [
    {
     "name": "stdout",
     "output_type": "stream",
     "text": [
      "                            OLS Regression Results                            \n",
      "==============================================================================\n",
      "Dep. Variable:                    mpg   R-squared:                       0.819\n",
      "Model:                            OLS   Adj. R-squared:                  0.817\n",
      "Method:                 Least Squares   F-statistic:                     362.4\n",
      "Date:                Tue, 05 Feb 2019   Prob (F-statistic):           1.91e-31\n",
      "Time:                        12:29:21   Log-Likelihood:                -234.58\n",
      "No. Observations:                  82   AIC:                             473.2\n",
      "Df Residuals:                      80   BIC:                             478.0\n",
      "Df Model:                           1                                         \n",
      "Covariance Type:            nonrobust                                         \n",
      "==============================================================================\n",
      "                 coef    std err          t      P>|t|      [0.025      0.975]\n",
      "------------------------------------------------------------------------------\n",
      "Intercept     68.1655      1.867     36.512      0.000      64.450      71.881\n",
      "wt            -1.1122      0.058    -19.037      0.000      -1.228      -0.996\n",
      "==============================================================================\n",
      "Omnibus:                       43.529   Durbin-Watson:                   0.921\n",
      "Prob(Omnibus):                  0.000   Jarque-Bera (JB):              121.249\n",
      "Skew:                           1.806   Prob(JB):                     4.69e-27\n",
      "Kurtosis:                       7.737   Cond. No.                         126.\n",
      "==============================================================================\n",
      "\n",
      "Warnings:\n",
      "[1] Standard Errors assume that the covariance matrix of the errors is correctly specified.\n"
     ]
    }
   ],
   "source": [
    "#Eligiendo la predictora mejor correlacionada con mpg y haciendo la regresion\n",
    "reg1=smf.ols(formula='mpg~wt', data=data1).fit()\n",
    "print reg1.summary()"
   ]
  },
  {
   "cell_type": "code",
   "execution_count": 28,
   "metadata": {},
   "outputs": [
    {
     "name": "stdout",
     "output_type": "stream",
     "text": [
      "0.8250952146841881\n"
     ]
    }
   ],
   "source": [
    "#Considerando la segunda mejor variable junto con la primera\n",
    "reg2_r2a=smf.ols(formula='mpg~wt+sp', data=data1).fit().rsquared_adj\n",
    "print reg2_r2a"
   ]
  },
  {
   "cell_type": "code",
   "execution_count": 29,
   "metadata": {
    "scrolled": true
   },
   "outputs": [
    {
     "name": "stdout",
     "output_type": "stream",
     "text": [
      "0.8676027552136609\n"
     ]
    }
   ],
   "source": [
    "#Considerando la tercera mejor variable\n",
    "reg3_r2a=smf.ols(formula='mpg~sp+wt+hp', data=data1).fit().rsquared_adj\n",
    "print reg3_r2a"
   ]
  },
  {
   "cell_type": "code",
   "execution_count": 30,
   "metadata": {},
   "outputs": [
    {
     "name": "stdout",
     "output_type": "stream",
     "text": [
      "0.8666966470116255\n"
     ]
    }
   ],
   "source": [
    "#Considerando la tercera mejor variable\n",
    "reg3_r2a=smf.ols(formula='mpg~sp+wt+hp+vol', data=data1).fit().rsquared_adj\n",
    "print reg3_r2a"
   ]
  },
  {
   "cell_type": "code",
   "execution_count": 31,
   "metadata": {},
   "outputs": [],
   "source": [
    "# Haciendo una funcion que seleccione las mejores variables usando Forward pero con el AIC\n",
    "def forward_aic_selection(data, response):\n",
    "    \"\"\"Linear model designed by forward selection.\n",
    "\n",
    "    Parameters:\n",
    "    -----------\n",
    "    data : pandas DataFrame with all possible predictors and response\n",
    "\n",
    "    response: string, name of response column in data\n",
    "\n",
    "    Returns:\n",
    "    --------\n",
    "    model: an \"optimal\" fitted statsmodels linear model\n",
    "           with an intercept\n",
    "           selected by forward selection\n",
    "           evaluated by adjusted R-squared\n",
    "    \"\"\"\n",
    "    remaining = set(data.columns)\n",
    "    remaining.remove(response)\n",
    "    selected = []\n",
    "    current_score, best_new_score = 10000.0, 10000.0\n",
    "    while remaining and current_score == best_new_score:\n",
    "        scores_with_candidates = []\n",
    "        for candidate in remaining:\n",
    "            formula = \"{} ~ {} + 1\".format(response,\n",
    "                                           ' + '.join(selected + [candidate]))\n",
    "            score = smf.ols(formula, data).fit().aic\n",
    "            scores_with_candidates.append((score, candidate))\n",
    "        scores_with_candidates.sort(reverse=True)\n",
    "        best_new_score, best_candidate = scores_with_candidates.pop()\n",
    "        print best_new_score, best_candidate\n",
    "        if current_score > best_new_score:\n",
    "            remaining.remove(best_candidate)\n",
    "            selected.append(best_candidate)\n",
    "            current_score = best_new_score\n",
    "    formula = \"{} ~ {} + 1\".format(response,\n",
    "                                   ' + '.join(selected))\n",
    "    model = smf.ols(formula, data).fit()\n",
    "    return model"
   ]
  },
  {
   "cell_type": "code",
   "execution_count": 32,
   "metadata": {},
   "outputs": [
    {
     "name": "stdout",
     "output_type": "stream",
     "text": [
      "473.15904859478167 wt\n",
      "470.38102242040526 sp\n",
      "448.50475981531577 hp\n",
      "450.0059654772008 vol\n",
      "mpg ~ wt + sp + hp + 1\n",
      "448.50475981531577\n"
     ]
    }
   ],
   "source": [
    "#Aplicando el methodo forward con AIC al dataset millaje\n",
    "model=forward_aic_selection(data1,\"mpg\")\n",
    "print model.model.formula\n",
    "print model.aic"
   ]
  },
  {
   "cell_type": "markdown",
   "metadata": {},
   "source": [
    "Comentario: La ultima variable vol no es incluida"
   ]
  },
  {
   "cell_type": "code",
   "execution_count": 33,
   "metadata": {
    "scrolled": true
   },
   "outputs": [
    {
     "name": "stdout",
     "output_type": "stream",
     "text": [
      "1515.7903374661466 abdomen\n",
      "1471.184777690264 peso\n",
      "1465.0412133797465 muneca\n",
      "1460.219690998677 antebrazo\n",
      "1459.4418616084486 cuello\n",
      "1458.8062531638259 edad\n",
      "1457.0538333098527 muslo\n",
      "1456.9963819805985 cadera\n",
      "1457.8221707488635 biceps\n",
      "grasa ~ abdomen + peso + muneca + antebrazo + cuello + edad + muslo + cadera + 1\n",
      "1456.9963819805985\n"
     ]
    }
   ],
   "source": [
    "model=forward_aic_selection(data2,\"grasa\")\n",
    "print model.model.formula\n",
    "print model.aic"
   ]
  },
  {
   "cell_type": "code",
   "execution_count": 34,
   "metadata": {},
   "outputs": [],
   "source": [
    "#Aplicando el metodo forward con el criterio de r2-ajustado\n",
    "import statsmodels.formula.api as smf\n",
    "\n",
    "def forward_selection(data, response):\n",
    "    \"\"\"Linear model designed by forward selection.\n",
    "\n",
    "    Parameters:\n",
    "    -----------\n",
    "    data : pandas DataFrame with all possible predictors and response\n",
    "\n",
    "    response: string, name of response column in data\n",
    "\n",
    "    Returns:\n",
    "    --------\n",
    "    model: an \"optimal\" fitted statsmodels linear model\n",
    "           with an intercept\n",
    "           selected by forward selection\n",
    "           evaluated by adjusted R-squared\n",
    "    \"\"\"\n",
    "    remaining = set(data.columns)\n",
    "    remaining.remove(response)\n",
    "    selected = []\n",
    "    current_score, best_new_score = 0.0, 0.0\n",
    "    while remaining and current_score == best_new_score:\n",
    "        scores_with_candidates = []\n",
    "        for candidate in remaining:\n",
    "            formula = \"{} ~ {} + 1\".format(response,\n",
    "                                           ' + '.join(selected + [candidate]))\n",
    "            score = smf.ols(formula, data).fit().rsquared_adj\n",
    "            scores_with_candidates.append((score, candidate))\n",
    "        scores_with_candidates.sort()\n",
    "        best_new_score, best_candidate = scores_with_candidates.pop()\n",
    "        print best_new_score, best_candidate\n",
    "        if current_score < best_new_score:\n",
    "            remaining.remove(best_candidate)\n",
    "            selected.append(best_candidate)\n",
    "            current_score = best_new_score\n",
    "    formula = \"{} ~ {} + 1\".format(response,\n",
    "                                   ' + '.join(selected))\n",
    "    model = smf.ols(formula, data).fit()\n",
    "    return model"
   ]
  },
  {
   "cell_type": "code",
   "execution_count": 35,
   "metadata": {},
   "outputs": [
    {
     "name": "stdout",
     "output_type": "stream",
     "text": [
      "0.816918470206999 wt\n",
      "0.8250952146841881 sp\n",
      "0.8676027552136609 hp\n",
      "0.8666966470116256 vol\n",
      "mpg ~ wt + sp + hp + 1\n",
      "0.8676027552136609\n"
     ]
    }
   ],
   "source": [
    "model=forward_selection(data1,\"mpg\")\n",
    "print model.model.formula\n",
    "print model.rsquared_adj"
   ]
  },
  {
   "cell_type": "code",
   "execution_count": 36,
   "metadata": {},
   "outputs": [
    {
     "name": "stdout",
     "output_type": "stream",
     "text": [
      "0.6603187702518141 abdomen\n",
      "0.7165394550766493 peso\n",
      "0.7244466215390198 muneca\n",
      "0.7307198635069285 antebrazo\n",
      "0.7325892393799861 cuello\n",
      "0.7342913341936386 edad\n",
      "0.7371456970453198 muslo\n",
      "0.7382101218856798 cadera\n",
      "0.7383503647269756 biceps\n",
      "0.738051612524621 tobillo\n",
      "grasa ~ abdomen + peso + muneca + antebrazo + cuello + edad + muslo + cadera + biceps + 1\n",
      "0.747732224159076\n"
     ]
    }
   ],
   "source": [
    "model=forward_selection(data2,\"grasa\")\n",
    "print model.model.formula\n",
    "print model.rsquared"
   ]
  }
 ],
 "metadata": {
  "kernelspec": {
   "display_name": "Python 2",
   "language": "python",
   "name": "python2"
  },
  "language_info": {
   "codemirror_mode": {
    "name": "ipython",
    "version": 2
   },
   "file_extension": ".py",
   "mimetype": "text/x-python",
   "name": "python",
   "nbconvert_exporter": "python",
   "pygments_lexer": "ipython2",
   "version": "2.7.13"
  }
 },
 "nbformat": 4,
 "nbformat_minor": 2
}
