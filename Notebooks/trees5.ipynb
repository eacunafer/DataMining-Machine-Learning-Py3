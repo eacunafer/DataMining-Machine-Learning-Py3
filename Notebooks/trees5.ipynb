{
 "cells": [
  {
   "cell_type": "markdown",
   "metadata": {},
   "source": [
    "### Data MIning\n",
    "### Decision Trees with missing values\n",
    "#### Edgar Acuna\n",
    "### April 2019"
   ]
  },
  {
   "cell_type": "code",
   "execution_count": 13,
   "metadata": {
    "scrolled": true
   },
   "outputs": [
    {
     "name": "stdout",
     "output_type": "stream",
     "text": [
      "Checking whether there is an H2O instance running at http://localhost:54323. connected.\n"
     ]
    },
    {
     "data": {
      "text/html": [
       "<div style=\"overflow:auto\"><table style=\"width:50%\"><tr><td>H2O cluster uptime:</td>\n",
       "<td>19 mins 05 secs</td></tr>\n",
       "<tr><td>H2O cluster timezone:</td>\n",
       "<td>America/La_Paz</td></tr>\n",
       "<tr><td>H2O data parsing timezone:</td>\n",
       "<td>UTC</td></tr>\n",
       "<tr><td>H2O cluster version:</td>\n",
       "<td>3.22.1.2</td></tr>\n",
       "<tr><td>H2O cluster version age:</td>\n",
       "<td>2 months and 13 days </td></tr>\n",
       "<tr><td>H2O cluster name:</td>\n",
       "<td>H2O_from_python_edgar2017_qawd4x</td></tr>\n",
       "<tr><td>H2O cluster total nodes:</td>\n",
       "<td>1</td></tr>\n",
       "<tr><td>H2O cluster free memory:</td>\n",
       "<td>1.737 Gb</td></tr>\n",
       "<tr><td>H2O cluster total cores:</td>\n",
       "<td>4</td></tr>\n",
       "<tr><td>H2O cluster allowed cores:</td>\n",
       "<td>4</td></tr>\n",
       "<tr><td>H2O cluster status:</td>\n",
       "<td>locked, healthy</td></tr>\n",
       "<tr><td>H2O connection url:</td>\n",
       "<td>http://localhost:54323</td></tr>\n",
       "<tr><td>H2O connection proxy:</td>\n",
       "<td>None</td></tr>\n",
       "<tr><td>H2O internal security:</td>\n",
       "<td>False</td></tr>\n",
       "<tr><td>H2O API Extensions:</td>\n",
       "<td>Algos, AutoML, Core V3, Core V4</td></tr>\n",
       "<tr><td>Python version:</td>\n",
       "<td>3.5.5 final</td></tr></table></div>"
      ],
      "text/plain": [
       "--------------------------  --------------------------------\n",
       "H2O cluster uptime:         19 mins 05 secs\n",
       "H2O cluster timezone:       America/La_Paz\n",
       "H2O data parsing timezone:  UTC\n",
       "H2O cluster version:        3.22.1.2\n",
       "H2O cluster version age:    2 months and 13 days\n",
       "H2O cluster name:           H2O_from_python_edgar2017_qawd4x\n",
       "H2O cluster total nodes:    1\n",
       "H2O cluster free memory:    1.737 Gb\n",
       "H2O cluster total cores:    4\n",
       "H2O cluster allowed cores:  4\n",
       "H2O cluster status:         locked, healthy\n",
       "H2O connection url:         http://localhost:54323\n",
       "H2O connection proxy:\n",
       "H2O internal security:      False\n",
       "H2O API Extensions:         Algos, AutoML, Core V3, Core V4\n",
       "Python version:             3.5.5 final\n",
       "--------------------------  --------------------------------"
      ]
     },
     "metadata": {},
     "output_type": "display_data"
    }
   ],
   "source": [
    "import h2o\n",
    "import numpy as np\n",
    "import pandas as pd\n",
    "from sklearn.linear_model import LogisticRegression\n",
    "from sklearn.model_selection import train_test_split\n",
    "from sklearn.preprocessing import StandardScaler\n",
    "from sklearn.preprocessing import LabelEncoder\n",
    "from sklearn.preprocessing import OneHotEncoder\n",
    "from sklearn.metrics import roc_auc_score\n",
    "from sklearn import tree\n",
    "from sklearn import metrics\n",
    "from sklearn.tree import DecisionTreeClassifier\n",
    "from sklearn.metrics import classification_report\n",
    "import graphviz\n",
    "from h2o.estimators.random_forest import H2ORandomForestEstimator\n",
    "from h2o.estimators.gbm import H2OGradientBoostingEstimator\n",
    "#h2o.connect()\n",
    "#h2o.no_progress()\n",
    "h2o.init(ip=\"localhost\", port=54323)"
   ]
  },
  {
   "cell_type": "markdown",
   "metadata": {},
   "source": [
    "### I Decision Trees para Diabetes usando scikit learn"
   ]
  },
  {
   "cell_type": "code",
   "execution_count": 2,
   "metadata": {},
   "outputs": [
    {
     "name": "stdout",
     "output_type": "stream",
     "text": [
      "Parse progress: |█████████████████████████████████████████████████████████| 100%\n"
     ]
    }
   ],
   "source": [
    "df=h2o.import_file(\"c://PW-PR//eje1disna.csv\",na_strings=[''])"
   ]
  },
  {
   "cell_type": "code",
   "execution_count": 3,
   "metadata": {},
   "outputs": [
    {
     "data": {
      "text/html": [
       "<table>\n",
       "<thead>\n",
       "<tr><th style=\"text-align: right;\">  E1</th><th style=\"text-align: right;\">  E2</th><th style=\"text-align: right;\">  PF</th><th>Nota  </th></tr>\n",
       "</thead>\n",
       "<tbody>\n",
       "<tr><td style=\"text-align: right;\">  96</td><td style=\"text-align: right;\"> 100</td><td style=\"text-align: right;\"> 100</td><td>p     </td></tr>\n",
       "<tr><td style=\"text-align: right;\">  96</td><td style=\"text-align: right;\">  94</td><td style=\"text-align: right;\">  99</td><td>p     </td></tr>\n",
       "<tr><td style=\"text-align: right;\"> 100</td><td style=\"text-align: right;\">  91</td><td style=\"text-align: right;\">  97</td><td>p     </td></tr>\n",
       "<tr><td style=\"text-align: right;\">  93</td><td style=\"text-align: right;\">  96</td><td style=\"text-align: right;\">  97</td><td>p     </td></tr>\n",
       "<tr><td style=\"text-align: right;\">  90</td><td style=\"text-align: right;\">  94</td><td style=\"text-align: right;\">  95</td><td>p     </td></tr>\n",
       "<tr><td style=\"text-align: right;\">  75</td><td style=\"text-align: right;\">  83</td><td style=\"text-align: right;\">  94</td><td>p     </td></tr>\n",
       "<tr><td style=\"text-align: right;\">  75</td><td style=\"text-align: right;\">  99</td><td style=\"text-align: right;\">  94</td><td>p     </td></tr>\n",
       "<tr><td style=\"text-align: right;\">  64</td><td style=\"text-align: right;\">  93</td><td style=\"text-align: right;\">  94</td><td>p     </td></tr>\n",
       "<tr><td style=\"text-align: right;\">  89</td><td style=\"text-align: right;\">  55</td><td style=\"text-align: right;\">  93</td><td>p     </td></tr>\n",
       "<tr><td style=\"text-align: right;\">  57</td><td style=\"text-align: right;\">  94</td><td style=\"text-align: right;\">  92</td><td>p     </td></tr>\n",
       "<tr><td style=\"text-align: right;\">  70</td><td style=\"text-align: right;\">  84</td><td style=\"text-align: right;\">  90</td><td>p     </td></tr>\n",
       "<tr><td style=\"text-align: right;\">  44</td><td style=\"text-align: right;\">  89</td><td style=\"text-align: right;\">  87</td><td>p     </td></tr>\n",
       "<tr><td style=\"text-align: right;\">  62</td><td style=\"text-align: right;\">  63</td><td style=\"text-align: right;\">  85</td><td>p     </td></tr>\n",
       "<tr><td style=\"text-align: right;\">  76</td><td style=\"text-align: right;\"> nan</td><td style=\"text-align: right;\">  84</td><td>p     </td></tr>\n",
       "<tr><td style=\"text-align: right;\">  73</td><td style=\"text-align: right;\">  90</td><td style=\"text-align: right;\">  82</td><td>p     </td></tr>\n",
       "</tbody>\n",
       "</table>"
      ]
     },
     "metadata": {},
     "output_type": "display_data"
    },
    {
     "data": {
      "text/plain": []
     },
     "execution_count": 3,
     "metadata": {},
     "output_type": "execute_result"
    }
   ],
   "source": [
    "df.head(15)"
   ]
  },
  {
   "cell_type": "code",
   "execution_count": 4,
   "metadata": {},
   "outputs": [],
   "source": [
    "myx=['E1','E2']\n",
    "df['Nota']=df['Nota'].asfactor()\n",
    "myy='Nota'"
   ]
  },
  {
   "cell_type": "code",
   "execution_count": 7,
   "metadata": {},
   "outputs": [
    {
     "name": "stdout",
     "output_type": "stream",
     "text": [
      "gbm Model Build progress: |███████████████████████████████████████████████| 100%\n",
      "gbm prediction progress: |████████████████████████████████████████████████| 100%\n",
      "0.25\n",
      "\n",
      "ModelMetricsBinomial: gbm\n",
      "** Reported on test data. **\n",
      "\n",
      "MSE: 0.16731169195153112\n",
      "RMSE: 0.4090375190022684\n",
      "LogLoss: 0.5095972545039459\n",
      "Mean Per-Class Error: 0.08333333333333326\n",
      "AUC: 0.9166666666666666\n",
      "pr_auc: 0.14583333333333331\n",
      "Gini: 0.8333333333333333\n",
      "Confusion Matrix (Act/Pred) for max f1 @ threshold = 0.7741589234136044: \n"
     ]
    },
    {
     "data": {
      "text/html": [
       "<div style=\"overflow:auto\"><table style=\"width:50%\"><tr><td><b></b></td>\n",
       "<td><b>f</b></td>\n",
       "<td><b>p</b></td>\n",
       "<td><b>Error</b></td>\n",
       "<td><b>Rate</b></td></tr>\n",
       "<tr><td>f</td>\n",
       "<td>8.0</td>\n",
       "<td>0.0</td>\n",
       "<td>0.0</td>\n",
       "<td> (0.0/8.0)</td></tr>\n",
       "<tr><td>p</td>\n",
       "<td>4.0</td>\n",
       "<td>20.0</td>\n",
       "<td>0.1667</td>\n",
       "<td> (4.0/24.0)</td></tr>\n",
       "<tr><td>Total</td>\n",
       "<td>12.0</td>\n",
       "<td>20.0</td>\n",
       "<td>0.125</td>\n",
       "<td> (4.0/32.0)</td></tr></table></div>"
      ],
      "text/plain": [
       "       f    p    Error    Rate\n",
       "-----  ---  ---  -------  ----------\n",
       "f      8    0    0        (0.0/8.0)\n",
       "p      4    20   0.1667   (4.0/24.0)\n",
       "Total  12   20   0.125    (4.0/32.0)"
      ]
     },
     "metadata": {},
     "output_type": "display_data"
    },
    {
     "name": "stdout",
     "output_type": "stream",
     "text": [
      "Maximum Metrics: Maximum metrics at their respective thresholds\n",
      "\n"
     ]
    },
    {
     "data": {
      "text/html": [
       "<div style=\"overflow:auto\"><table style=\"width:50%\"><tr><td><b>metric</b></td>\n",
       "<td><b>threshold</b></td>\n",
       "<td><b>value</b></td>\n",
       "<td><b>idx</b></td></tr>\n",
       "<tr><td>max f1</td>\n",
       "<td>0.7741589</td>\n",
       "<td>0.9090909</td>\n",
       "<td>0.0</td></tr>\n",
       "<tr><td>max f2</td>\n",
       "<td>0.7060736</td>\n",
       "<td>0.9375</td>\n",
       "<td>1.0</td></tr>\n",
       "<tr><td>max f0point5</td>\n",
       "<td>0.7741589</td>\n",
       "<td>0.9615385</td>\n",
       "<td>0.0</td></tr>\n",
       "<tr><td>max accuracy</td>\n",
       "<td>0.7741589</td>\n",
       "<td>0.875</td>\n",
       "<td>0.0</td></tr>\n",
       "<tr><td>max precision</td>\n",
       "<td>0.7741589</td>\n",
       "<td>1.0</td>\n",
       "<td>0.0</td></tr>\n",
       "<tr><td>max recall</td>\n",
       "<td>0.7060736</td>\n",
       "<td>1.0</td>\n",
       "<td>1.0</td></tr>\n",
       "<tr><td>max specificity</td>\n",
       "<td>0.7741589</td>\n",
       "<td>1.0</td>\n",
       "<td>0.0</td></tr>\n",
       "<tr><td>max absolute_mcc</td>\n",
       "<td>0.7741589</td>\n",
       "<td>0.7453560</td>\n",
       "<td>0.0</td></tr>\n",
       "<tr><td>max min_per_class_accuracy</td>\n",
       "<td>0.7741589</td>\n",
       "<td>0.8333333</td>\n",
       "<td>0.0</td></tr>\n",
       "<tr><td>max mean_per_class_accuracy</td>\n",
       "<td>0.7741589</td>\n",
       "<td>0.9166667</td>\n",
       "<td>0.0</td></tr></table></div>"
      ],
      "text/plain": [
       "metric                       threshold    value     idx\n",
       "---------------------------  -----------  --------  -----\n",
       "max f1                       0.774159     0.909091  0\n",
       "max f2                       0.706074     0.9375    1\n",
       "max f0point5                 0.774159     0.961538  0\n",
       "max accuracy                 0.774159     0.875     0\n",
       "max precision                0.774159     1         0\n",
       "max recall                   0.706074     1         1\n",
       "max specificity              0.774159     1         0\n",
       "max absolute_mcc             0.774159     0.745356  0\n",
       "max min_per_class_accuracy   0.774159     0.833333  0\n",
       "max mean_per_class_accuracy  0.774159     0.916667  0"
      ]
     },
     "metadata": {},
     "output_type": "display_data"
    },
    {
     "name": "stdout",
     "output_type": "stream",
     "text": [
      "Gains/Lift Table: Avg response rate: 75.00 %, avg score: 74.86 %\n",
      "\n"
     ]
    },
    {
     "data": {
      "text/html": [
       "<div style=\"overflow:auto\"><table style=\"width:50%\"><tr><td><b></b></td>\n",
       "<td><b>group</b></td>\n",
       "<td><b>cumulative_data_fraction</b></td>\n",
       "<td><b>lower_threshold</b></td>\n",
       "<td><b>lift</b></td>\n",
       "<td><b>cumulative_lift</b></td>\n",
       "<td><b>response_rate</b></td>\n",
       "<td><b>score</b></td>\n",
       "<td><b>cumulative_response_rate</b></td>\n",
       "<td><b>cumulative_score</b></td>\n",
       "<td><b>capture_rate</b></td>\n",
       "<td><b>cumulative_capture_rate</b></td>\n",
       "<td><b>gain</b></td>\n",
       "<td><b>cumulative_gain</b></td></tr>\n",
       "<tr><td></td>\n",
       "<td>1</td>\n",
       "<td>0.625</td>\n",
       "<td>0.7741589</td>\n",
       "<td>1.3333333</td>\n",
       "<td>1.3333333</td>\n",
       "<td>1.0</td>\n",
       "<td>0.7741589</td>\n",
       "<td>1.0</td>\n",
       "<td>0.7741589</td>\n",
       "<td>0.8333333</td>\n",
       "<td>0.8333333</td>\n",
       "<td>33.3333333</td>\n",
       "<td>33.3333333</td></tr>\n",
       "<tr><td></td>\n",
       "<td>2</td>\n",
       "<td>1.0</td>\n",
       "<td>0.7060736</td>\n",
       "<td>0.4444444</td>\n",
       "<td>1.0</td>\n",
       "<td>0.3333333</td>\n",
       "<td>0.7060736</td>\n",
       "<td>0.75</td>\n",
       "<td>0.7486269</td>\n",
       "<td>0.1666667</td>\n",
       "<td>1.0</td>\n",
       "<td>-55.5555556</td>\n",
       "<td>0.0</td></tr></table></div>"
      ],
      "text/plain": [
       "    group    cumulative_data_fraction    lower_threshold    lift      cumulative_lift    response_rate    score     cumulative_response_rate    cumulative_score    capture_rate    cumulative_capture_rate    gain      cumulative_gain\n",
       "--  -------  --------------------------  -----------------  --------  -----------------  ---------------  --------  --------------------------  ------------------  --------------  -------------------------  --------  -----------------\n",
       "    1        0.625                       0.774159           1.33333   1.33333            1                0.774159  1                           0.774159            0.833333        0.833333                   33.3333   33.3333\n",
       "    2        1                           0.706074           0.444444  1                  0.333333         0.706074  0.75                        0.748627            0.166667        1                          -55.5556  0"
      ]
     },
     "metadata": {},
     "output_type": "display_data"
    },
    {
     "name": "stdout",
     "output_type": "stream",
     "text": [
      "\n"
     ]
    },
    {
     "data": {
      "text/plain": []
     },
     "execution_count": 7,
     "metadata": {},
     "output_type": "execute_result"
    }
   ],
   "source": [
    "gbm1 = H2OGradientBoostingEstimator(model_id=\"gbm_covType_v1\",ntrees = 1, max_depth=2,sample_rate = 1,col_sample_rate = 1,seed=2000000\n",
    ")\n",
    "gbm1.train(myx, myy, training_frame=df)\n",
    "y_pred=gbm1.predict(df)\n",
    "print((y_pred['predict']==df['Nota']).sum()/float(len(df)))\n",
    "gbm1.model_performance(df)"
   ]
  },
  {
   "cell_type": "code",
   "execution_count": 10,
   "metadata": {},
   "outputs": [
    {
     "name": "stdout",
     "output_type": "stream",
     "text": [
      "drf Model Build progress: |███████████████████████████████████████████████| 100%\n",
      "drf prediction progress: |████████████████████████████████████████████████| 100%\n",
      "0.90625\n",
      "\n",
      "ModelMetricsBinomial: drf\n",
      "** Reported on test data. **\n",
      "\n",
      "MSE: 0.09375\n",
      "RMSE: 0.30618621784789724\n",
      "LogLoss: 3.2380102870228766\n",
      "Mean Per-Class Error: 0.10416666666666674\n",
      "AUC: 0.8958333333333334\n",
      "pr_auc: 0.07110507246376815\n",
      "Gini: 0.7916666666666667\n",
      "Confusion Matrix (Act/Pred) for max f1 @ threshold = 1.0: \n"
     ]
    },
    {
     "data": {
      "text/html": [
       "<div style=\"overflow:auto\"><table style=\"width:50%\"><tr><td><b></b></td>\n",
       "<td><b>f</b></td>\n",
       "<td><b>p</b></td>\n",
       "<td><b>Error</b></td>\n",
       "<td><b>Rate</b></td></tr>\n",
       "<tr><td>f</td>\n",
       "<td>7.0</td>\n",
       "<td>1.0</td>\n",
       "<td>0.125</td>\n",
       "<td> (1.0/8.0)</td></tr>\n",
       "<tr><td>p</td>\n",
       "<td>2.0</td>\n",
       "<td>22.0</td>\n",
       "<td>0.0833</td>\n",
       "<td> (2.0/24.0)</td></tr>\n",
       "<tr><td>Total</td>\n",
       "<td>9.0</td>\n",
       "<td>23.0</td>\n",
       "<td>0.0938</td>\n",
       "<td> (3.0/32.0)</td></tr></table></div>"
      ],
      "text/plain": [
       "       f    p    Error    Rate\n",
       "-----  ---  ---  -------  ----------\n",
       "f      7    1    0.125    (1.0/8.0)\n",
       "p      2    22   0.0833   (2.0/24.0)\n",
       "Total  9    23   0.0938   (3.0/32.0)"
      ]
     },
     "metadata": {},
     "output_type": "display_data"
    },
    {
     "name": "stdout",
     "output_type": "stream",
     "text": [
      "Maximum Metrics: Maximum metrics at their respective thresholds\n",
      "\n"
     ]
    },
    {
     "data": {
      "text/html": [
       "<div style=\"overflow:auto\"><table style=\"width:50%\"><tr><td><b>metric</b></td>\n",
       "<td><b>threshold</b></td>\n",
       "<td><b>value</b></td>\n",
       "<td><b>idx</b></td></tr>\n",
       "<tr><td>max f1</td>\n",
       "<td>1.0</td>\n",
       "<td>0.9361702</td>\n",
       "<td>0.0</td></tr>\n",
       "<tr><td>max f2</td>\n",
       "<td>0.0</td>\n",
       "<td>0.9375</td>\n",
       "<td>1.0</td></tr>\n",
       "<tr><td>max f0point5</td>\n",
       "<td>1.0</td>\n",
       "<td>0.9482759</td>\n",
       "<td>0.0</td></tr>\n",
       "<tr><td>max accuracy</td>\n",
       "<td>1.0</td>\n",
       "<td>0.90625</td>\n",
       "<td>0.0</td></tr>\n",
       "<tr><td>max precision</td>\n",
       "<td>1.0</td>\n",
       "<td>0.9565217</td>\n",
       "<td>0.0</td></tr>\n",
       "<tr><td>max recall</td>\n",
       "<td>0.0</td>\n",
       "<td>1.0</td>\n",
       "<td>1.0</td></tr>\n",
       "<tr><td>max specificity</td>\n",
       "<td>1.0</td>\n",
       "<td>0.875</td>\n",
       "<td>0.0</td></tr>\n",
       "<tr><td>max absolute_mcc</td>\n",
       "<td>1.0</td>\n",
       "<td>0.7624437</td>\n",
       "<td>0.0</td></tr>\n",
       "<tr><td>max min_per_class_accuracy</td>\n",
       "<td>1.0</td>\n",
       "<td>0.875</td>\n",
       "<td>0.0</td></tr>\n",
       "<tr><td>max mean_per_class_accuracy</td>\n",
       "<td>1.0</td>\n",
       "<td>0.8958333</td>\n",
       "<td>0.0</td></tr></table></div>"
      ],
      "text/plain": [
       "metric                       threshold    value     idx\n",
       "---------------------------  -----------  --------  -----\n",
       "max f1                       1            0.93617   0\n",
       "max f2                       0            0.9375    1\n",
       "max f0point5                 1            0.948276  0\n",
       "max accuracy                 1            0.90625   0\n",
       "max precision                1            0.956522  0\n",
       "max recall                   0            1         1\n",
       "max specificity              1            0.875     0\n",
       "max absolute_mcc             1            0.762444  0\n",
       "max min_per_class_accuracy   1            0.875     0\n",
       "max mean_per_class_accuracy  1            0.895833  0"
      ]
     },
     "metadata": {},
     "output_type": "display_data"
    },
    {
     "name": "stdout",
     "output_type": "stream",
     "text": [
      "Gains/Lift Table: Avg response rate: 75.00 %, avg score: 71.88 %\n",
      "\n"
     ]
    },
    {
     "data": {
      "text/html": [
       "<div style=\"overflow:auto\"><table style=\"width:50%\"><tr><td><b></b></td>\n",
       "<td><b>group</b></td>\n",
       "<td><b>cumulative_data_fraction</b></td>\n",
       "<td><b>lower_threshold</b></td>\n",
       "<td><b>lift</b></td>\n",
       "<td><b>cumulative_lift</b></td>\n",
       "<td><b>response_rate</b></td>\n",
       "<td><b>score</b></td>\n",
       "<td><b>cumulative_response_rate</b></td>\n",
       "<td><b>cumulative_score</b></td>\n",
       "<td><b>capture_rate</b></td>\n",
       "<td><b>cumulative_capture_rate</b></td>\n",
       "<td><b>gain</b></td>\n",
       "<td><b>cumulative_gain</b></td></tr>\n",
       "<tr><td></td>\n",
       "<td>1</td>\n",
       "<td>0.71875</td>\n",
       "<td>1.0</td>\n",
       "<td>1.2753623</td>\n",
       "<td>1.2753623</td>\n",
       "<td>0.9565217</td>\n",
       "<td>1.0</td>\n",
       "<td>0.9565217</td>\n",
       "<td>1.0</td>\n",
       "<td>0.9166667</td>\n",
       "<td>0.9166667</td>\n",
       "<td>27.5362319</td>\n",
       "<td>27.5362319</td></tr>\n",
       "<tr><td></td>\n",
       "<td>2</td>\n",
       "<td>1.0</td>\n",
       "<td>0.0</td>\n",
       "<td>0.2962963</td>\n",
       "<td>1.0</td>\n",
       "<td>0.2222222</td>\n",
       "<td>0.0</td>\n",
       "<td>0.75</td>\n",
       "<td>0.71875</td>\n",
       "<td>0.0833333</td>\n",
       "<td>1.0</td>\n",
       "<td>-70.3703704</td>\n",
       "<td>0.0</td></tr></table></div>"
      ],
      "text/plain": [
       "    group    cumulative_data_fraction    lower_threshold    lift      cumulative_lift    response_rate    score    cumulative_response_rate    cumulative_score    capture_rate    cumulative_capture_rate    gain      cumulative_gain\n",
       "--  -------  --------------------------  -----------------  --------  -----------------  ---------------  -------  --------------------------  ------------------  --------------  -------------------------  --------  -----------------\n",
       "    1        0.71875                     1                  1.27536   1.27536            0.956522         1        0.956522                    1                   0.916667        0.916667                   27.5362   27.5362\n",
       "    2        1                           0                  0.296296  1                  0.222222         0        0.75                        0.71875             0.0833333       1                          -70.3704  0"
      ]
     },
     "metadata": {},
     "output_type": "display_data"
    },
    {
     "name": "stdout",
     "output_type": "stream",
     "text": [
      "\n"
     ]
    },
    {
     "data": {
      "text/plain": []
     },
     "execution_count": 10,
     "metadata": {},
     "output_type": "execute_result"
    }
   ],
   "source": [
    "model=H2ORandomForestEstimator(ntrees=1)\n",
    "model.train(myx, myy, training_frame = df)\n",
    "y_pred=model.predict(df)\n",
    "print((y_pred['predict']==df['Nota']).sum()/float(len(df)))\n",
    "model.model_performance(df)"
   ]
  },
  {
   "cell_type": "markdown",
   "metadata": {},
   "source": [
    "### V. Applying Decision trees to a dataset (adult) containing missing values (using h2o)"
   ]
  },
  {
   "cell_type": "code",
   "execution_count": 12,
   "metadata": {
    "scrolled": true
   },
   "outputs": [
    {
     "name": "stdout",
     "output_type": "stream",
     "text": [
      "Parse progress: |█████████████████████████████████████████████████████████| 100%\n",
      "drf Model Build progress: |███████████████████████████████████████████████| 100%\n",
      "drf prediction progress: |████████████████████████████████████████████████| 100%\n",
      "0.8445993673412979\n",
      "\n",
      "ModelMetricsBinomial: drf\n",
      "** Reported on test data. **\n",
      "\n",
      "MSE: 0.11339590192848059\n",
      "RMSE: 0.33674308000088227\n",
      "LogLoss: 0.3559405149152143\n",
      "Mean Per-Class Error: 0.21962523046025184\n",
      "AUC: 0.8621853033531734\n",
      "pr_auc: 0.659144958338928\n",
      "Gini: 0.7243706067063469\n",
      "Confusion Matrix (Act/Pred) for max f1 @ threshold = 0.6744805574417114: \n"
     ]
    },
    {
     "data": {
      "text/html": [
       "<div style=\"overflow:auto\"><table style=\"width:50%\"><tr><td><b></b></td>\n",
       "<td><b><=50K</b></td>\n",
       "<td><b>>50K</b></td>\n",
       "<td><b>Error</b></td>\n",
       "<td><b>Rate</b></td></tr>\n",
       "<tr><td><=50K</td>\n",
       "<td>23477.0</td>\n",
       "<td>1243.0</td>\n",
       "<td>0.0503</td>\n",
       "<td> (1243.0/24720.0)</td></tr>\n",
       "<tr><td>>50K</td>\n",
       "<td>3817.0</td>\n",
       "<td>4024.0</td>\n",
       "<td>0.4868</td>\n",
       "<td> (3817.0/7841.0)</td></tr>\n",
       "<tr><td>Total</td>\n",
       "<td>27294.0</td>\n",
       "<td>5267.0</td>\n",
       "<td>0.1554</td>\n",
       "<td> (5060.0/32561.0)</td></tr></table></div>"
      ],
      "text/plain": [
       "       <=50K    >50K    Error    Rate\n",
       "-----  -------  ------  -------  ----------------\n",
       "<=50K  23477    1243    0.0503   (1243.0/24720.0)\n",
       ">50K   3817     4024    0.4868   (3817.0/7841.0)\n",
       "Total  27294    5267    0.1554   (5060.0/32561.0)"
      ]
     },
     "metadata": {},
     "output_type": "display_data"
    },
    {
     "name": "stdout",
     "output_type": "stream",
     "text": [
      "Maximum Metrics: Maximum metrics at their respective thresholds\n",
      "\n"
     ]
    },
    {
     "data": {
      "text/html": [
       "<div style=\"overflow:auto\"><table style=\"width:50%\"><tr><td><b>metric</b></td>\n",
       "<td><b>threshold</b></td>\n",
       "<td><b>value</b></td>\n",
       "<td><b>idx</b></td></tr>\n",
       "<tr><td>max f1</td>\n",
       "<td>0.6744806</td>\n",
       "<td>0.6139762</td>\n",
       "<td>3.0</td></tr>\n",
       "<tr><td>max f2</td>\n",
       "<td>0.2000000</td>\n",
       "<td>0.7502745</td>\n",
       "<td>5.0</td></tr>\n",
       "<tr><td>max f0point5</td>\n",
       "<td>0.6744806</td>\n",
       "<td>0.6959770</td>\n",
       "<td>3.0</td></tr>\n",
       "<tr><td>max accuracy</td>\n",
       "<td>0.6744806</td>\n",
       "<td>0.8445994</td>\n",
       "<td>3.0</td></tr>\n",
       "<tr><td>max precision</td>\n",
       "<td>0.9955752</td>\n",
       "<td>0.9955752</td>\n",
       "<td>0.0</td></tr>\n",
       "<tr><td>max recall</td>\n",
       "<td>0.0255771</td>\n",
       "<td>1.0</td>\n",
       "<td>7.0</td></tr>\n",
       "<tr><td>max specificity</td>\n",
       "<td>0.9955752</td>\n",
       "<td>0.9998786</td>\n",
       "<td>0.0</td></tr>\n",
       "<tr><td>max absolute_mcc</td>\n",
       "<td>0.6744806</td>\n",
       "<td>0.5375236</td>\n",
       "<td>3.0</td></tr>\n",
       "<tr><td>max min_per_class_accuracy</td>\n",
       "<td>0.3001937</td>\n",
       "<td>0.6720874</td>\n",
       "<td>4.0</td></tr>\n",
       "<tr><td>max mean_per_class_accuracy</td>\n",
       "<td>0.3001937</td>\n",
       "<td>0.7803748</td>\n",
       "<td>4.0</td></tr></table></div>"
      ],
      "text/plain": [
       "metric                       threshold    value     idx\n",
       "---------------------------  -----------  --------  -----\n",
       "max f1                       0.674481     0.613976  3\n",
       "max f2                       0.2          0.750275  5\n",
       "max f0point5                 0.674481     0.695977  3\n",
       "max accuracy                 0.674481     0.844599  3\n",
       "max precision                0.995575     0.995575  0\n",
       "max recall                   0.0255771    1         7\n",
       "max specificity              0.995575     0.999879  0\n",
       "max absolute_mcc             0.674481     0.537524  3\n",
       "max min_per_class_accuracy   0.300194     0.672087  4\n",
       "max mean_per_class_accuracy  0.300194     0.780375  4"
      ]
     },
     "metadata": {},
     "output_type": "display_data"
    },
    {
     "name": "stdout",
     "output_type": "stream",
     "text": [
      "Gains/Lift Table: Avg response rate: 24.08 %, avg score: 24.08 %\n",
      "\n"
     ]
    },
    {
     "data": {
      "text/html": [
       "<div style=\"overflow:auto\"><table style=\"width:50%\"><tr><td><b></b></td>\n",
       "<td><b>group</b></td>\n",
       "<td><b>cumulative_data_fraction</b></td>\n",
       "<td><b>lower_threshold</b></td>\n",
       "<td><b>lift</b></td>\n",
       "<td><b>cumulative_lift</b></td>\n",
       "<td><b>response_rate</b></td>\n",
       "<td><b>score</b></td>\n",
       "<td><b>cumulative_response_rate</b></td>\n",
       "<td><b>cumulative_score</b></td>\n",
       "<td><b>capture_rate</b></td>\n",
       "<td><b>cumulative_capture_rate</b></td>\n",
       "<td><b>gain</b></td>\n",
       "<td><b>cumulative_gain</b></td></tr>\n",
       "<tr><td></td>\n",
       "<td>1</td>\n",
       "<td>0.0208225</td>\n",
       "<td>0.9955752</td>\n",
       "<td>4.1342845</td>\n",
       "<td>4.1342845</td>\n",
       "<td>0.9955752</td>\n",
       "<td>0.9955752</td>\n",
       "<td>0.9955752</td>\n",
       "<td>0.9955752</td>\n",
       "<td>0.0860860</td>\n",
       "<td>0.0860860</td>\n",
       "<td>313.4284502</td>\n",
       "<td>313.4284502</td></tr>\n",
       "<tr><td></td>\n",
       "<td>2</td>\n",
       "<td>0.0368539</td>\n",
       "<td>0.9808429</td>\n",
       "<td>4.0731062</td>\n",
       "<td>4.1076720</td>\n",
       "<td>0.9808429</td>\n",
       "<td>0.9808429</td>\n",
       "<td>0.9891667</td>\n",
       "<td>0.9891667</td>\n",
       "<td>0.0652978</td>\n",
       "<td>0.1513838</td>\n",
       "<td>307.3106243</td>\n",
       "<td>310.7671959</td></tr>\n",
       "<tr><td></td>\n",
       "<td>3</td>\n",
       "<td>0.0464666</td>\n",
       "<td>0.9744409</td>\n",
       "<td>4.0465208</td>\n",
       "<td>4.0950214</td>\n",
       "<td>0.9744409</td>\n",
       "<td>0.9744409</td>\n",
       "<td>0.9861203</td>\n",
       "<td>0.9861203</td>\n",
       "<td>0.0388981</td>\n",
       "<td>0.1902819</td>\n",
       "<td>304.6520848</td>\n",
       "<td>309.5021399</td></tr>\n",
       "<tr><td></td>\n",
       "<td>4</td>\n",
       "<td>0.1617579</td>\n",
       "<td>0.6744806</td>\n",
       "<td>2.8008878</td>\n",
       "<td>3.1726410</td>\n",
       "<td>0.6744806</td>\n",
       "<td>0.6744806</td>\n",
       "<td>0.7640023</td>\n",
       "<td>0.7640023</td>\n",
       "<td>0.3229180</td>\n",
       "<td>0.5131998</td>\n",
       "<td>180.0887810</td>\n",
       "<td>217.2641013</td></tr>\n",
       "<tr><td></td>\n",
       "<td>5</td>\n",
       "<td>0.4629465</td>\n",
       "<td>0.3001937</td>\n",
       "<td>1.2466023</td>\n",
       "<td>1.9195787</td>\n",
       "<td>0.3001937</td>\n",
       "<td>0.3001937</td>\n",
       "<td>0.4622529</td>\n",
       "<td>0.4622529</td>\n",
       "<td>0.3754623</td>\n",
       "<td>0.8886622</td>\n",
       "<td>24.6602263</td>\n",
       "<td>91.9578652</td></tr>\n",
       "<tr><td></td>\n",
       "<td>6</td>\n",
       "<td>0.5689322</td>\n",
       "<td>0.1488683</td>\n",
       "<td>0.6185067</td>\n",
       "<td>1.6772035</td>\n",
       "<td>0.1489423</td>\n",
       "<td>0.1489423</td>\n",
       "<td>0.4038866</td>\n",
       "<td>0.4038866</td>\n",
       "<td>0.0655529</td>\n",
       "<td>0.9542150</td>\n",
       "<td>-38.1493255</td>\n",
       "<td>67.7203529</td></tr>\n",
       "<tr><td></td>\n",
       "<td>7</td>\n",
       "<td>1.0</td>\n",
       "<td>0.0255771</td>\n",
       "<td>0.1062129</td>\n",
       "<td>1.0</td>\n",
       "<td>0.0255771</td>\n",
       "<td>0.0255771</td>\n",
       "<td>0.2408096</td>\n",
       "<td>0.2408095</td>\n",
       "<td>0.0457850</td>\n",
       "<td>1.0</td>\n",
       "<td>-89.3787075</td>\n",
       "<td>0.0</td></tr></table></div>"
      ],
      "text/plain": [
       "    group    cumulative_data_fraction    lower_threshold    lift      cumulative_lift    response_rate    score      cumulative_response_rate    cumulative_score    capture_rate    cumulative_capture_rate    gain      cumulative_gain\n",
       "--  -------  --------------------------  -----------------  --------  -----------------  ---------------  ---------  --------------------------  ------------------  --------------  -------------------------  --------  -----------------\n",
       "    1        0.0208225                   0.995575           4.13428   4.13428            0.995575         0.995575   0.995575                    0.995575            0.086086        0.086086                   313.428   313.428\n",
       "    2        0.0368539                   0.980843           4.07311   4.10767            0.980843         0.980843   0.989167                    0.989167            0.0652978       0.151384                   307.311   310.767\n",
       "    3        0.0464666                   0.974441           4.04652   4.09502            0.974441         0.974441   0.98612                     0.98612             0.0388981       0.190282                   304.652   309.502\n",
       "    4        0.161758                    0.674481           2.80089   3.17264            0.674481         0.674481   0.764002                    0.764002            0.322918        0.5132                     180.089   217.264\n",
       "    5        0.462946                    0.300194           1.2466    1.91958            0.300194         0.300194   0.462253                    0.462253            0.375462        0.888662                   24.6602   91.9579\n",
       "    6        0.568932                    0.148868           0.618507  1.6772             0.148942         0.148942   0.403887                    0.403887            0.0655529       0.954215                   -38.1493  67.7204\n",
       "    7        1                           0.0255771          0.106213  1                  0.0255771        0.0255771  0.24081                     0.24081             0.045785        1                          -89.3787  0"
      ]
     },
     "metadata": {},
     "output_type": "display_data"
    },
    {
     "name": "stdout",
     "output_type": "stream",
     "text": [
      "\n"
     ]
    },
    {
     "data": {
      "text/plain": []
     },
     "execution_count": 12,
     "metadata": {},
     "output_type": "execute_result"
    }
   ],
   "source": [
    "#Leyendo los datos\n",
    "datos= h2o.import_file(\"https://archive.ics.uci.edu/ml/machine-learning-databases/adult/adult.data\",na_strings=[' ?'])\n",
    "myx=['C1', 'C2', 'C3', 'C4', 'C5','C6','C7','C8','C9','C10','C11', 'C12','C13','C14']\n",
    "datos['C15']=datos['C15'].asfactor()\n",
    "myy=\"C15\"\n",
    "model=H2ORandomForestEstimator(ntrees=1,mtries=14,max_depth=3,sample_rate=1)\n",
    "model.train(myx, myy, training_frame = datos)\n",
    "y_pred=model.predict(datos)\n",
    "print ((y_pred['predict']==datos['C15']).sum()/float(len(datos)))\n",
    "model.model_performance(datos)"
   ]
  },
  {
   "cell_type": "code",
   "execution_count": null,
   "metadata": {},
   "outputs": [],
   "source": []
  }
 ],
 "metadata": {
  "kernelspec": {
   "display_name": "Python 3",
   "language": "python",
   "name": "python3"
  },
  "language_info": {
   "codemirror_mode": {
    "name": "ipython",
    "version": 3
   },
   "file_extension": ".py",
   "mimetype": "text/x-python",
   "name": "python",
   "nbconvert_exporter": "python",
   "pygments_lexer": "ipython3",
   "version": "3.5.5"
  }
 },
 "nbformat": 4,
 "nbformat_minor": 2
}
