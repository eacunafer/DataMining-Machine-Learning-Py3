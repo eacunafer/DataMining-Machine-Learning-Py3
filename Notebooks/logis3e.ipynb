{
 "cells": [
  {
   "cell_type": "markdown",
   "metadata": {},
   "source": [
    "## Data Mining and Machine Learning\n",
    "### Multiclass Logistic Regression\n",
    "#### Libraries: H20  and scikit-learn \n",
    "#### Edgar Acuna"
   ]
  },
  {
   "cell_type": "code",
   "execution_count": 1,
   "metadata": {
    "scrolled": true
   },
   "outputs": [
    {
     "name": "stderr",
     "output_type": "stream",
     "text": [
      "C:\\Users\\edgar2017\\Anaconda2\\envs\\ipykernel_py2\\lib\\site-packages\\sklearn\\utils\\fixes.py:313: FutureWarning: numpy not_equal will not check object identity in the future. The comparison did not return the same result as suggested by the identity (`is`)) and will change.\n",
      "  _nan_object_mask = _nan_object_array != _nan_object_array\n"
     ]
    },
    {
     "name": "stdout",
     "output_type": "stream",
     "text": [
      "Connecting to H2O server at http://localhost:54321... successful.\n"
     ]
    },
    {
     "data": {
      "text/html": [
       "<div style=\"overflow:auto\"><table style=\"width:50%\"><tr><td>H2O cluster uptime:</td>\n",
       "<td>9 days 4 hours 32 mins</td></tr>\n",
       "<tr><td>H2O cluster timezone:</td>\n",
       "<td>America/La_Paz</td></tr>\n",
       "<tr><td>H2O data parsing timezone:</td>\n",
       "<td>UTC</td></tr>\n",
       "<tr><td>H2O cluster version:</td>\n",
       "<td>3.20.0.8</td></tr>\n",
       "<tr><td>H2O cluster version age:</td>\n",
       "<td>1 month and 10 days </td></tr>\n",
       "<tr><td>H2O cluster name:</td>\n",
       "<td>H2O_started_from_R_edgar2017_gsn168</td></tr>\n",
       "<tr><td>H2O cluster total nodes:</td>\n",
       "<td>1</td></tr>\n",
       "<tr><td>H2O cluster free memory:</td>\n",
       "<td>1.578 Gb</td></tr>\n",
       "<tr><td>H2O cluster total cores:</td>\n",
       "<td>4</td></tr>\n",
       "<tr><td>H2O cluster allowed cores:</td>\n",
       "<td>4</td></tr>\n",
       "<tr><td>H2O cluster status:</td>\n",
       "<td>locked, healthy</td></tr>\n",
       "<tr><td>H2O connection url:</td>\n",
       "<td>http://localhost:54321</td></tr>\n",
       "<tr><td>H2O connection proxy:</td>\n",
       "<td>None</td></tr>\n",
       "<tr><td>H2O internal security:</td>\n",
       "<td>False</td></tr>\n",
       "<tr><td>H2O API Extensions:</td>\n",
       "<td>Algos, AutoML, Core V3, Core V4</td></tr>\n",
       "<tr><td>Python version:</td>\n",
       "<td>2.7.13 final</td></tr></table></div>"
      ],
      "text/plain": [
       "--------------------------  -----------------------------------\n",
       "H2O cluster uptime:         9 days 4 hours 32 mins\n",
       "H2O cluster timezone:       America/La_Paz\n",
       "H2O data parsing timezone:  UTC\n",
       "H2O cluster version:        3.20.0.8\n",
       "H2O cluster version age:    1 month and 10 days\n",
       "H2O cluster name:           H2O_started_from_R_edgar2017_gsn168\n",
       "H2O cluster total nodes:    1\n",
       "H2O cluster free memory:    1.578 Gb\n",
       "H2O cluster total cores:    4\n",
       "H2O cluster allowed cores:  4\n",
       "H2O cluster status:         locked, healthy\n",
       "H2O connection url:         http://localhost:54321\n",
       "H2O connection proxy:\n",
       "H2O internal security:      False\n",
       "H2O API Extensions:         Algos, AutoML, Core V3, Core V4\n",
       "Python version:             2.7.13 final\n",
       "--------------------------  -----------------------------------"
      ]
     },
     "metadata": {},
     "output_type": "display_data"
    }
   ],
   "source": [
    "import h2o\n",
    "import numpy as np\n",
    "import pandas as pd\n",
    "from sklearn.linear_model import LogisticRegression\n",
    "from sklearn.model_selection import train_test_split\n",
    "from sklearn.preprocessing import StandardScaler\n",
    "from sklearn.preprocessing import LabelEncoder\n",
    "from sklearn.metrics import roc_auc_score\n",
    "from sklearn.tree import DecisionTreeClassifier\n",
    "from sklearn.metrics import classification_report\n",
    "from h2o.estimators.random_forest import H2ORandomForestEstimator\n",
    "from h2o.estimators.naive_bayes import H2ONaiveBayesEstimator\n",
    "from h2o.estimators.glm   import H2OGeneralizedLinearEstimator\n",
    "\n",
    "h2o.connect()\n",
    "h2o.no_progress()\n"
   ]
  },
  {
   "cell_type": "markdown",
   "metadata": {},
   "source": [
    "### I- Applying Logistic Regression to   Vehicle dataset  using  h20"
   ]
  },
  {
   "cell_type": "code",
   "execution_count": 2,
   "metadata": {},
   "outputs": [
    {
     "name": "stderr",
     "output_type": "stream",
     "text": [
      "C:\\Users\\edgar2017\\Anaconda2\\envs\\ipykernel_py2\\lib\\site-packages\\h2o\\job.py:69: UserWarning: Reached maximum number of iterations 50!\n",
      "  warnings.warn(w)\n"
     ]
    },
    {
     "name": "stdout",
     "output_type": "stream",
     "text": [
      "Confusion Matrix: Row labels: Actual class; Column labels: Predicted class\n",
      "\n"
     ]
    },
    {
     "data": {
      "text/html": [
       "<div style=\"overflow:auto\"><table style=\"width:50%\"><tr><td><b>1</b></td>\n",
       "<td><b>2</b></td>\n",
       "<td><b>3</b></td>\n",
       "<td><b>4</b></td>\n",
       "<td><b>Error</b></td>\n",
       "<td><b>Rate</b></td></tr>\n",
       "<tr><td>214.0</td>\n",
       "<td>1.0</td>\n",
       "<td>2.0</td>\n",
       "<td>1.0</td>\n",
       "<td>0.0183486</td>\n",
       "<td>4 / 218</td></tr>\n",
       "<tr><td>1.0</td>\n",
       "<td>142.0</td>\n",
       "<td>67.0</td>\n",
       "<td>2.0</td>\n",
       "<td>0.3301887</td>\n",
       "<td>70 / 212</td></tr>\n",
       "<tr><td>4.0</td>\n",
       "<td>57.0</td>\n",
       "<td>154.0</td>\n",
       "<td>2.0</td>\n",
       "<td>0.2903226</td>\n",
       "<td>63 / 217</td></tr>\n",
       "<tr><td>1.0</td>\n",
       "<td>2.0</td>\n",
       "<td>0.0</td>\n",
       "<td>196.0</td>\n",
       "<td>0.0150754</td>\n",
       "<td>3 / 199</td></tr>\n",
       "<tr><td>220.0</td>\n",
       "<td>202.0</td>\n",
       "<td>223.0</td>\n",
       "<td>201.0</td>\n",
       "<td>0.1654846</td>\n",
       "<td>140 / 846</td></tr></table></div>"
      ],
      "text/plain": [
       "1    2    3    4    Error      Rate\n",
       "---  ---  ---  ---  ---------  ---------\n",
       "214  1    2    1    0.0183486  4 / 218\n",
       "1    142  67   2    0.330189   70 / 212\n",
       "4    57   154  2    0.290323   63 / 217\n",
       "1    2    0    196  0.0150754  3 / 199\n",
       "220  202  223  201  0.165485   140 / 846"
      ]
     },
     "metadata": {},
     "output_type": "display_data"
    },
    {
     "data": {
      "text/plain": []
     },
     "execution_count": 2,
     "metadata": {},
     "output_type": "execute_result"
    }
   ],
   "source": [
    "vehicle = h2o.import_file(\"https://academic.uprm.edu/eacuna/vehicle.csv\")\n",
    "predictors=['V1','V2','V3','V4','V5','V6','V7','V8','V9','V10','V11','V12','V13','V14','V15','V16','V17','V18']\n",
    "vehicle['class']=vehicle['class'].asfactor()\n",
    "response_col=\"class\"\n",
    "# Create test/train split\n",
    "#train, test = vehicle.split_frame(ratios=[0.75], seed=1)\n",
    "glm_model = H2OGeneralizedLinearEstimator(family= \"multinomial\", lambda_ = 0)\n",
    "glm_model.train(predictors, response_col, training_frame= vehicle)\n",
    "glm_model\n",
    "glm_model.confusion_matrix(vehicle)"
   ]
  },
  {
   "cell_type": "code",
   "execution_count": 3,
   "metadata": {},
   "outputs": [
    {
     "name": "stdout",
     "output_type": "stream",
     "text": [
      "0.83451536643\n"
     ]
    }
   ],
   "source": [
    "#Hallando la tasa de prediccion\n",
    "y_pred=glm_model.predict(vehicle)\n",
    "print (y_pred['predict']==vehicle['class']).sum()/float(len(vehicle))"
   ]
  },
  {
   "cell_type": "markdown",
   "metadata": {},
   "source": [
    "### II Logistic regression for vehicle using scikit learn"
   ]
  },
  {
   "cell_type": "code",
   "execution_count": 4,
   "metadata": {
    "scrolled": true
   },
   "outputs": [
    {
     "name": "stderr",
     "output_type": "stream",
     "text": [
      "C:\\Users\\edgar2017\\Anaconda2\\envs\\ipykernel_py2\\lib\\site-packages\\sklearn\\linear_model\\logistic.py:459: FutureWarning: Default multi_class will be changed to 'auto' in 0.22. Specify the multi_class option to silence this warning.\n",
      "  \"this warning.\", FutureWarning)\n",
      "C:\\Users\\edgar2017\\Anaconda2\\envs\\ipykernel_py2\\lib\\site-packages\\sklearn\\linear_model\\logistic.py:757: ConvergenceWarning: lbfgs failed to converge. Increase the number of iterations.\n",
      "  \"of iterations.\", ConvergenceWarning)\n"
     ]
    },
    {
     "data": {
      "text/plain": [
       "0.81560283687943258"
      ]
     },
     "execution_count": 4,
     "metadata": {},
     "output_type": "execute_result"
    }
   ],
   "source": [
    "df1=pd.read_csv(\"http://academic.uprm.edu/eacuna/vehicle.csv\")\n",
    "#Convirtiendo en matriz la tabla de predictoras y la columna de clases\n",
    "y=df1['class']\n",
    "X=df1.iloc[:,0:18]\n",
    "#Haciendo la regresion logistica y calculando su precision\n",
    "model = LogisticRegression(solver=\"lbfgs\",max_iter=1000)\n",
    "model.fit(X,y)\n",
    "model.score(X,y)"
   ]
  },
  {
   "cell_type": "code",
   "execution_count": 5,
   "metadata": {},
   "outputs": [
    {
     "name": "stdout",
     "output_type": "stream",
     "text": [
      "              precision    recall  f1-score   support\n",
      "\n",
      "           1       0.93      0.97      0.95       218\n",
      "           2       0.70      0.61      0.65       212\n",
      "           3       0.67      0.71      0.69       217\n",
      "           4       0.96      0.97      0.97       199\n",
      "\n",
      "   micro avg       0.82      0.82      0.82       846\n",
      "   macro avg       0.81      0.82      0.82       846\n",
      "weighted avg       0.81      0.82      0.81       846\n",
      "\n"
     ]
    }
   ],
   "source": [
    "predictions = model.predict(X)\n",
    "print(classification_report(y, predictions))"
   ]
  },
  {
   "cell_type": "markdown",
   "metadata": {},
   "source": [
    "### III. Logistic Regression for Landsat using scikit-learn"
   ]
  },
  {
   "cell_type": "code",
   "execution_count": 6,
   "metadata": {},
   "outputs": [
    {
     "data": {
      "text/plain": [
       "0.85028184892897407"
      ]
     },
     "execution_count": 6,
     "metadata": {},
     "output_type": "execute_result"
    }
   ],
   "source": [
    "url='http://academic.uprm.edu/eacuna/landsat.txt'\n",
    "data = pd.read_table(url, header=None,delim_whitespace=True)\n",
    "y=data.iloc[:,36]\n",
    "X=data.iloc[:,0:36]\n",
    "#Haciendo la regresion logistica y calculando su precision\n",
    "model = LogisticRegression(solver=\"lbfgs\", max_iter=1000)\n",
    "model = model.fit(X, y)\n",
    "model.score(X,y)"
   ]
  },
  {
   "cell_type": "code",
   "execution_count": 7,
   "metadata": {},
   "outputs": [
    {
     "name": "stdout",
     "output_type": "stream",
     "text": [
      "              precision    recall  f1-score   support\n",
      "\n",
      "           1       0.95      0.98      0.97      1072\n",
      "           2       0.92      0.97      0.95       479\n",
      "           3       0.83      0.96      0.89       961\n",
      "           4       0.51      0.13      0.21       415\n",
      "           5       0.92      0.69      0.79       470\n",
      "           6       0.76      0.92      0.83      1038\n",
      "\n",
      "   micro avg       0.85      0.85      0.85      4435\n",
      "   macro avg       0.82      0.78      0.77      4435\n",
      "weighted avg       0.83      0.85      0.83      4435\n",
      "\n"
     ]
    }
   ],
   "source": [
    "predictions = model.predict(X)\n",
    "print(classification_report(y, predictions))"
   ]
  },
  {
   "cell_type": "markdown",
   "metadata": {},
   "source": [
    "### IV Logistic Regression for  Landsat using h20"
   ]
  },
  {
   "cell_type": "code",
   "execution_count": 8,
   "metadata": {},
   "outputs": [],
   "source": [
    "landsat = h2o.import_file(\"https://academic.uprm.edu/eacuna/landsat.txt\")\n",
    "predictors=['C1','C2','C3','C4','C5','C6','C7','C8','C9','C10','C11','C12','C13',\n",
    "            'C14','C15','C16','C17','C18','C19','C20','C21','C22','C23','C24','C25','C26','C27',\n",
    "           'C28','C29', 'C30','C31','C32','C33','C34','C35',\"C36\"]\n",
    "landsat['C37']=landsat['C37'].asfactor()\n",
    "response_col=\"C37\"\n"
   ]
  },
  {
   "cell_type": "code",
   "execution_count": 9,
   "metadata": {},
   "outputs": [
    {
     "name": "stdout",
     "output_type": "stream",
     "text": [
      "Confusion Matrix: Row labels: Actual class; Column labels: Predicted class\n",
      "\n"
     ]
    },
    {
     "data": {
      "text/html": [
       "<div style=\"overflow:auto\"><table style=\"width:50%\"><tr><td><b>1</b></td>\n",
       "<td><b>2</b></td>\n",
       "<td><b>3</b></td>\n",
       "<td><b>4</b></td>\n",
       "<td><b>5</b></td>\n",
       "<td><b>6</b></td>\n",
       "<td><b>Error</b></td>\n",
       "<td><b>Rate</b></td></tr>\n",
       "<tr><td>1049.0</td>\n",
       "<td>0.0</td>\n",
       "<td>14.0</td>\n",
       "<td>2.0</td>\n",
       "<td>7.0</td>\n",
       "<td>0.0</td>\n",
       "<td>0.0214552</td>\n",
       "<td>23 / 1,072</td></tr>\n",
       "<tr><td>0.0</td>\n",
       "<td>462.0</td>\n",
       "<td>0.0</td>\n",
       "<td>0.0</td>\n",
       "<td>17.0</td>\n",
       "<td>0.0</td>\n",
       "<td>0.0354906</td>\n",
       "<td>17 / 479</td></tr>\n",
       "<tr><td>5.0</td>\n",
       "<td>0.0</td>\n",
       "<td>905.0</td>\n",
       "<td>49.0</td>\n",
       "<td>0.0</td>\n",
       "<td>2.0</td>\n",
       "<td>0.0582726</td>\n",
       "<td>56 / 961</td></tr>\n",
       "<tr><td>6.0</td>\n",
       "<td>2.0</td>\n",
       "<td>90.0</td>\n",
       "<td>172.0</td>\n",
       "<td>8.0</td>\n",
       "<td>137.0</td>\n",
       "<td>0.5855422</td>\n",
       "<td>243 / 415</td></tr>\n",
       "<tr><td>15.0</td>\n",
       "<td>11.0</td>\n",
       "<td>0.0</td>\n",
       "<td>4.0</td>\n",
       "<td>392.0</td>\n",
       "<td>48.0</td>\n",
       "<td>0.1659574</td>\n",
       "<td>78 / 470</td></tr>\n",
       "<tr><td>0.0</td>\n",
       "<td>0.0</td>\n",
       "<td>13.0</td>\n",
       "<td>69.0</td>\n",
       "<td>30.0</td>\n",
       "<td>926.0</td>\n",
       "<td>0.1078998</td>\n",
       "<td>112 / 1,038</td></tr>\n",
       "<tr><td>1075.0</td>\n",
       "<td>475.0</td>\n",
       "<td>1022.0</td>\n",
       "<td>296.0</td>\n",
       "<td>454.0</td>\n",
       "<td>1113.0</td>\n",
       "<td>0.1192785</td>\n",
       "<td>529 / 4,435</td></tr></table></div>"
      ],
      "text/plain": [
       "1     2    3     4    5    6     Error      Rate\n",
       "----  ---  ----  ---  ---  ----  ---------  -----------\n",
       "1049  0    14    2    7    0     0.0214552  23 / 1,072\n",
       "0     462  0     0    17   0     0.0354906  17 / 479\n",
       "5     0    905   49   0    2     0.0582726  56 / 961\n",
       "6     2    90    172  8    137   0.585542   243 / 415\n",
       "15    11   0     4    392  48    0.165957   78 / 470\n",
       "0     0    13    69   30   926   0.1079     112 / 1,038\n",
       "1075  475  1022  296  454  1113  0.119278   529 / 4,435"
      ]
     },
     "metadata": {},
     "output_type": "display_data"
    },
    {
     "data": {
      "text/plain": []
     },
     "execution_count": 9,
     "metadata": {},
     "output_type": "execute_result"
    }
   ],
   "source": [
    "glm_model = H2OGeneralizedLinearEstimator(family= \"multinomial\", lambda_ = 0)\n",
    "glm_model.train(predictors, response_col, training_frame= landsat)\n",
    "glm_model\n",
    "glm_model.confusion_matrix(landsat)"
   ]
  },
  {
   "cell_type": "code",
   "execution_count": 10,
   "metadata": {},
   "outputs": [
    {
     "name": "stdout",
     "output_type": "stream",
     "text": [
      "0.880721533258\n"
     ]
    }
   ],
   "source": [
    "#Hallando la tasa de prediccion\n",
    "y_pred=glm_model.predict(landsat)\n",
    "print (y_pred['predict']==landsat['C37']).sum()/float(len(landsat))"
   ]
  },
  {
   "cell_type": "code",
   "execution_count": null,
   "metadata": {},
   "outputs": [],
   "source": []
  }
 ],
 "metadata": {
  "kernelspec": {
   "display_name": "Python 2",
   "language": "python",
   "name": "python2"
  },
  "language_info": {
   "codemirror_mode": {
    "name": "ipython",
    "version": 2
   },
   "file_extension": ".py",
   "mimetype": "text/x-python",
   "name": "python",
   "nbconvert_exporter": "python",
   "pygments_lexer": "ipython2",
   "version": "2.7.13"
  }
 },
 "nbformat": 4,
 "nbformat_minor": 2
}
