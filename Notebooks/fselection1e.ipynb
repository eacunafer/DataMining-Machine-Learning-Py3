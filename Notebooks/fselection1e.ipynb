{
 "cells": [
  {
   "cell_type": "markdown",
   "metadata": {},
   "source": [
    "### Data Mining and Machine Learning\n",
    "\n",
    "### Feature Selection in Supervised Classification\n",
    "#### Edgar Acuna\n",
    "\n",
    "#### Febrero 2019\n",
    "\n",
    "##### Use of modules: feature_selection from scikit-learn, feature selection from Arizona State University , skrebate and Orange \n"
   ]
  },
  {
   "cell_type": "code",
   "execution_count": 118,
   "metadata": {},
   "outputs": [],
   "source": [
    "import warnings\n",
    "warnings.filterwarnings(\"ignore\")\n",
    "import pandas as pd\n",
    "import numpy as np\n",
    "import math as m\n",
    "from sklearn.model_selection import train_test_split\n",
    "from sklearn.feature_selection import SelectKBest\n",
    "from sklearn.feature_selection import chi2, SelectPercentile, f_classif, mutual_info_classif\n",
    "import matplotlib.pyplot as plt\n",
    "import seaborn as sns\n",
    "%matplotlib inline"
   ]
  },
  {
   "cell_type": "markdown",
   "metadata": {},
   "source": [
    "#### Example 1: Diabetes dataset"
   ]
  },
  {
   "cell_type": "code",
   "execution_count": 119,
   "metadata": {},
   "outputs": [],
   "source": [
    "url= \"http://academic.uprm.edu/eacuna/diabetes.dat\"\n",
    "names = ['preg', 'plas', 'pres', 'skin', 'test', 'mass', 'pedi', 'age', 'class']\n",
    "data = pd.read_table(url, names=names,header=None)\n",
    "y=data['class']\n",
    "X=data.iloc[:,0:8]"
   ]
  },
  {
   "cell_type": "markdown",
   "metadata": {},
   "source": [
    "### I. Feature Selection by Visualization using boxplots"
   ]
  },
  {
   "cell_type": "code",
   "execution_count": 120,
   "metadata": {},
   "outputs": [
    {
     "name": "stdout",
     "output_type": "stream",
     "text": [
      "(768, 9)\n"
     ]
    }
   ],
   "source": [
    "print(data.shape)\n",
    "data.head()\n",
    "#normalizando los datos\n",
    "data1=data.drop('class',axis=1)\n",
    "data1_norm=(data1 - data1.min()) / (data1.max() - data1.min())\n",
    "data1_norm['class']=data['class']"
   ]
  },
  {
   "cell_type": "code",
   "execution_count": 121,
   "metadata": {},
   "outputs": [
    {
     "data": {
      "text/plain": [
       "<seaborn.axisgrid.FacetGrid at 0x2828e5cc828>"
      ]
     },
     "execution_count": 121,
     "metadata": {},
     "output_type": "execute_result"
    },
    {
     "data": {
      "text/plain": [
       "<Figure size 720x3600 with 0 Axes>"
      ]
     },
     "metadata": {},
     "output_type": "display_data"
    },
    {
     "data": {
      "image/png": "[encoded data removed]",
      "text/plain": [
       "<Figure size 402.375x360 with 1 Axes>"
      ]
     },
     "metadata": {},
     "output_type": "display_data"
    }
   ],
   "source": [
    "plt.figure(figsize=(10,50))\n",
    "df_long = pd.melt(data1_norm, \"class\", var_name=\"a\", value_name=\"c\")\n",
    "sns.factorplot(\"a\", hue=\"class\", y=\"c\", data=df_long, kind=\"box\")"
   ]
  },
  {
   "cell_type": "markdown",
   "metadata": {},
   "source": [
    "Comment: From the boxplots we can see  that features: plas, age,preg,press and mass have boxplot not so overlaped"
   ]
  },
  {
   "cell_type": "markdown",
   "metadata": {},
   "source": [
    "### II-Using the Chi-Square test  for choosing the best features\n",
    "It is desirable to have discretizaed attributes and two classes. I do not recommend \n",
    "to use this method because the Chi-Square test is approximated and it is not robust."
   ]
  },
  {
   "cell_type": "code",
   "execution_count": 122,
   "metadata": {},
   "outputs": [],
   "source": [
    "y=data['class']\n",
    "X=data.iloc[:,0:8]"
   ]
  },
  {
   "cell_type": "code",
   "execution_count": 123,
   "metadata": {},
   "outputs": [],
   "source": [
    "# Funcion auxiliar para discretizar cualquier columna de un dataframe\n",
    "def disc_col_ew(df,str,k,out):\n",
    "    df1=df[str]\n",
    "    bins=np.linspace(df1.min(), df1.max(),k)\n",
    "    if out==\"num\":\n",
    "        df1=pd.cut(df1,bins=bins,include_lowest=True, right=True,labels=False)\n",
    "    else:\n",
    "        bins[0]=float('-inf')\n",
    "        bins[k-1]=float('inf')\n",
    "        df1=pd.cut(df1,bins=bins,include_lowest=True, right=True)  \n",
    "    return df1\n",
    "# funcion auxiliar para determinar el numero optimo de intervalos segun la formula de scott\n",
    "def nclass_scott(x):\n",
    "    h=3.5*(np.var(x,ddof=1)**.5)*len(x)**(-.3333)\n",
    "    intervals=m.ceil((max(x)-min(x))/h)\n",
    "    return int(intervals)"
   ]
  },
  {
   "cell_type": "code",
   "execution_count": 124,
   "metadata": {},
   "outputs": [],
   "source": [
    "#Funcion para discretizar todas las colunmnas de un dataframe\n",
    "def disc_ew(df,out):\n",
    "    name=df.columns.tolist()\n",
    "    disc=pd.DataFrame()\n",
    "    for name in df.columns.tolist():\n",
    "        k=nclass_scott(df[name])\n",
    "        disc[name]=disc_col_ew(df,name,k,out)\n",
    "    return disc"
   ]
  },
  {
   "cell_type": "code",
   "execution_count": 125,
   "metadata": {},
   "outputs": [],
   "source": [
    "#discretizando las columnas de la matriz predictora X de diabetes\n",
    "diab_disc=disc_ew(X,out=\"num\")"
   ]
  },
  {
   "cell_type": "code",
   "execution_count": 126,
   "metadata": {},
   "outputs": [
    {
     "name": "stdout",
     "output_type": "stream",
     "text": [
      "[105.387 120.206   2.87   10.086  59.232  42.746  62.639 115.924]\n",
      "[[ 4 11  6]\n",
      " [ 0  6  2]\n",
      " [ 6 14  2]\n",
      " ...\n",
      " [ 3  9  1]\n",
      " [ 0 10  5]\n",
      " [ 0  7  0]]\n"
     ]
    }
   ],
   "source": [
    "#choosing the best featires with Chi-square and scikit-learn\n",
    "y1=y.as_matrix()\n",
    "X1=diab_disc.as_matrix()\n",
    "test = SelectKBest(score_func=chi2, k=3)\n",
    "fit = test.fit(X1, y1)\n",
    "# summarize scores\n",
    "np.set_printoptions(precision=3)\n",
    "print(fit.scores_)\n",
    "features= fit.transform(X1)\n",
    "# Imprime los datos de las tres mejores features\n",
    "print(features)"
   ]
  },
  {
   "cell_type": "markdown",
   "metadata": {},
   "source": [
    "Comentario: Las tres mejores variables con la prueba de Chi-square son plas, age y preg por tener el Chi-Square mas alto."
   ]
  },
  {
   "cell_type": "markdown",
   "metadata": {},
   "source": [
    "### III-Using the F test to find the best features  \n",
    "\n",
    "Se puede usar la libreria sciki-learn o la libreria de la ASU"
   ]
  },
  {
   "cell_type": "code",
   "execution_count": 127,
   "metadata": {},
   "outputs": [
    {
     "name": "stdout",
     "output_type": "stream",
     "text": [
      "[0.221 1.    0.027 0.034 0.084 0.378 0.14  0.253]\n",
      "[[148.   33.6  50. ]\n",
      " [ 85.   26.6  31. ]\n",
      " [183.   23.3  32. ]\n",
      " ...\n",
      " [121.   26.2  30. ]\n",
      " [126.   30.1  47. ]\n",
      " [ 93.   30.4  23. ]]\n"
     ]
    }
   ],
   "source": [
    "# Selecion  de Features usando los p-values de la F-test como score\n",
    "# Aqui usamos scikit-learn y se selecciona el 30% de deatures con el mas alto score\n",
    "selector = SelectPercentile(f_classif, percentile=30)\n",
    "fit=selector.fit(X, y)\n",
    "scores = -np.log10(selector.pvalues_)\n",
    "scores /= scores.max()\n",
    "print(scores)\n",
    "features= fit.transform(X)\n",
    "# Imprime los datos de las tres mejores features\n",
    "print(features)"
   ]
  },
  {
   "cell_type": "markdown",
   "metadata": {},
   "source": [
    "Comentario: Las tres, mejores variables con la prueba de F son plas,mass y age"
   ]
  },
  {
   "cell_type": "code",
   "execution_count": 128,
   "metadata": {
    "scrolled": true
   },
   "outputs": [
    {
     "name": "stdout",
     "output_type": "stream",
     "text": [
      "[ 39.67  213.162   3.257   4.304  13.281  71.772  23.871  46.141] [1 5 7 0 6 4 3 2]\n"
     ]
    }
   ],
   "source": [
    "#Usando la libreria Feature selection de la ASU\n",
    "#features, labels = X.values, data['class'].values\n",
    "#X_train, X_test, y_train, y_test = train_test_split(features, labels)\n",
    "from skfeature.function.statistical_based import f_score\n",
    "scoref = f_score.f_score(X, y)\n",
    "idx = f_score.feature_ranking(scoref)\n",
    "print(scoref,idx)"
   ]
  },
  {
   "cell_type": "markdown",
   "metadata": {},
   "source": [
    "Comentario: las tres variables mas importantes con la prueba de F son: plas,mass y age"
   ]
  },
  {
   "cell_type": "markdown",
   "metadata": {},
   "source": [
    "### IV- Usando Mutual Information (Entropia)\n",
    "\n",
    "Libreria scikit-learn\n"
   ]
  },
  {
   "cell_type": "code",
   "execution_count": 129,
   "metadata": {},
   "outputs": [
    {
     "name": "stdout",
     "output_type": "stream",
     "text": [
      "[0.269 1.    0.134 0.335 0.28  0.746 0.073 0.471]\n"
     ]
    }
   ],
   "source": [
    "# Univariate feature selection with Mutual Information\n",
    "scores = mutual_info_classif(X,y)\n",
    "scores /= scores.max()\n",
    "print(scores)"
   ]
  },
  {
   "cell_type": "markdown",
   "metadata": {},
   "source": [
    "\n",
    "Comentario: Las tres variables usando el criterio de Mutual Information son: plas, mass y age\n",
    "\n",
    "### V-Using ReliefF to select the best features \n",
    "\n",
    "Module: skrebate "
   ]
  },
  {
   "cell_type": "code",
   "execution_count": 130,
   "metadata": {},
   "outputs": [],
   "source": [
    "from skrebate import ReliefF\n",
    "from sklearn.model_selection import train_test_split\n",
    "\n",
    "df=data.drop('class',axis=1)\n",
    "#Normalizando las predictoras\n",
    "df_norm=(df - df.min()) / (df.max() - df.min())\n",
    "features, labels = df_norm.values, data['class'].values"
   ]
  },
  {
   "cell_type": "code",
   "execution_count": 131,
   "metadata": {},
   "outputs": [
    {
     "name": "stdout",
     "output_type": "stream",
     "text": [
      "(768, 8)\n",
      "preg 0.011557904411764679\n",
      "plas 0.027526957705192593\n",
      "pres 0.005626707650273222\n",
      "skin 0.012511837121212118\n",
      "test 0.004258551270685579\n",
      "mass 0.015538065076999513\n",
      "pedi 0.007962389695417026\n",
      "age 0.009900173611111106\n"
     ]
    }
   ],
   "source": [
    "#X_train, X_test, y_train, y_test = train_test_split(features, labels)\n",
    "\n",
    "fs = ReliefF(n_neighbors=10)\n",
    "fs.fit(features, labels)\n",
    "print(features.shape)\n",
    "for feature_name, feature_score in zip(df.columns,fs.feature_importances_):\n",
    "    print (feature_name, feature_score)"
   ]
  },
  {
   "cell_type": "markdown",
   "metadata": {},
   "source": [
    "Comentario: las tres variables mas importantes con el ReliefF son: plas,mass y skin\n",
    "\n",
    "ReliefF using the feature selection module form the ASU"
   ]
  },
  {
   "cell_type": "code",
   "execution_count": 133,
   "metadata": {},
   "outputs": [
    {
     "name": "stdout",
     "output_type": "stream",
     "text": [
      "[ 230.6   2752.6    521.8    875.4   1389.8    674.06    20.236  891.6  ] [1 4 7 3 5 2 0 6]\n"
     ]
    }
   ],
   "source": [
    "from skfeature.function.similarity_based import reliefF\n",
    "y1=y.as_matrix()\n",
    "X1=X.as_matrix()\n",
    "score_relief=reliefF.reliefF(X1,y1)\n",
    "feat=reliefF.feature_ranking(score_relief)\n",
    "print(score_relief,feat)"
   ]
  },
  {
   "cell_type": "markdown",
   "metadata": {},
   "source": [
    " Comentario: las tres variables mas importantes con el RelieF son: plas, test y age\n",
    " "
   ]
  },
  {
   "cell_type": "markdown",
   "metadata": {},
   "source": [
    "Usando el Relief de Orange"
   ]
  },
  {
   "cell_type": "code",
   "execution_count": 134,
   "metadata": {},
   "outputs": [
    {
     "name": "stdout",
     "output_type": "stream",
     "text": [
      "Feature scores for best  features (scored individually):\n",
      "0.013 preg\n",
      "0.030 plas\n",
      "0.006 pres\n",
      "0.016 skin\n",
      "0.004 test\n",
      "0.020 mass\n",
      "0.011 pedi\n",
      "0.007 age\n"
     ]
    }
   ],
   "source": [
    "import Orange\n",
    "df = Orange.data.Table(\"c://PW-PR/diabetes.tab\")\n",
    "#ReliefF usando 10 vecinos mas cercanos y  una muestrd m=100 para updating de los pesos\n",
    "print('Feature scores for best  features (scored individually):')\n",
    "meas =Orange.preprocess.score.ReliefF(n_iterations=400,k_nearest=10)\n",
    "scores = meas(df)\n",
    "for attr, score in zip(df.domain.attributes, scores):\n",
    "    print('%.3f' % score, attr.name)"
   ]
  },
  {
   "cell_type": "markdown",
   "metadata": {},
   "source": [
    "The best features are: plas, mass and skin."
   ]
  },
  {
   "cell_type": "markdown",
   "metadata": {},
   "source": [
    "#### Example 2:  Bupa dataset"
   ]
  },
  {
   "cell_type": "code",
   "execution_count": 135,
   "metadata": {},
   "outputs": [],
   "source": [
    "# Usando el reliefF de la ASU\n",
    "#load data\n",
    "url= \"http://academic.uprm.edu/eacuna/bupa.dat\"\n",
    "names = ['mcv', 'alkphos', 'sgpt', 'aspar', 'gammagt', 'drinks', 'class']\n",
    "data = pd.read_table(url, names=names,header=None)\n",
    "y=data['class']\n",
    "X=data.iloc[:,0:6]\n",
    "y1=y.as_matrix()\n",
    "X1=X.as_matrix()\n",
    "features, labels = X.values, data['class'].values"
   ]
  },
  {
   "cell_type": "code",
   "execution_count": 137,
   "metadata": {},
   "outputs": [
    {
     "name": "stdout",
     "output_type": "stream",
     "text": [
      "[ 48.4  78.2 276.2 142.2 209.6  90.5] [2 4 3 5 1 0]\n"
     ]
    }
   ],
   "source": [
    "#X_train, X_test, y_train, y_test = train_test_split(features, labels)\n",
    "score_relief=reliefF.reliefF(X1,y1)\n",
    "feat=reliefF.feature_ranking(score_relief)\n",
    "print(score_relief,feat)"
   ]
  },
  {
   "cell_type": "markdown",
   "metadata": {},
   "source": [
    "El Relief de ASU recomienda sgpt, gammagt,aspar  como las mejores predictoras"
   ]
  },
  {
   "cell_type": "code",
   "execution_count": 138,
   "metadata": {},
   "outputs": [
    {
     "name": "stdout",
     "output_type": "stream",
     "text": [
      "mcv 0.0010403916768665868\n",
      "alkphos -0.000802157061004381\n",
      "sgpt 0.0038503003234252268\n",
      "aspar 0.004706533776301219\n",
      "gammagt 0.006291598152063266\n",
      "drinks 0.0029263565891472897\n"
     ]
    }
   ],
   "source": [
    "fs = ReliefF(n_neighbors=10)\n",
    "fs.fit(X_train, y_train)\n",
    "\n",
    "for feature_name, feature_score in zip(data.columns,fs.feature_importances_):\n",
    "    print (feature_name, feature_score)"
   ]
  },
  {
   "cell_type": "markdown",
   "metadata": {},
   "source": [
    "El relielf de skrebate recomienda gammagt, aspar and sgpt "
   ]
  },
  {
   "cell_type": "markdown",
   "metadata": {},
   "source": [
    "### Example 3: Breast-cancer-Wisconsin"
   ]
  },
  {
   "cell_type": "code",
   "execution_count": 139,
   "metadata": {},
   "outputs": [],
   "source": [
    "data = pd.read_table(\"c://PW-PR/breast-cancer-wisconsin.data\", header=None,sep=\",\",na_values=\"?\")\n",
    "data=data.fillna(data.mean())\n",
    "y=data.iloc[:,10]\n",
    "X=data.iloc[:,1:10]\n",
    "y1=y.as_matrix()\n",
    "X1=X.as_matrix()\n",
    "features, labels = X.values, y.values\n",
    "X_train, X_test, y_train, y_test = train_test_split(features, labels)"
   ]
  },
  {
   "cell_type": "code",
   "execution_count": 140,
   "metadata": {},
   "outputs": [
    {
     "name": "stdout",
     "output_type": "stream",
     "text": [
      "[1338.2    806.4    789.6    677.2    404.2   1558.917  695.6    831.\n",
      "  317.8  ] [5 0 7 1 2 6 3 4 8]\n"
     ]
    }
   ],
   "source": [
    "#usando Relief de la ASU\n",
    "score_relief=reliefF.reliefF(X1,y1)\n",
    "feat=reliefF.feature_ranking(score_relief)\n",
    "print(score_relief,feat)"
   ]
  },
  {
   "cell_type": "markdown",
   "metadata": {},
   "source": [
    "Comment:The best attributes are:6(Bare Nuclei),1 (Clump Thickness),8 (Normal. nucleoli),3 (Uniformity of Cell Shape),2  (Uniformity of Cell Size)"
   ]
  },
  {
   "cell_type": "code",
   "execution_count": 142,
   "metadata": {},
   "outputs": [
    {
     "name": "stdout",
     "output_type": "stream",
     "text": [
      "Feature scores for best ten features (scored individually):\n",
      "0.606 Clump Thickness\n",
      "0.192 Uniformity of Cell Size\n",
      "0.178 Uniformity of Cell Shape\n",
      "0.190 Marginal Adhesion\n",
      "0.154 Single Epithelial Cell Size\n",
      "0.602 Bare Nuclei\n",
      "0.528 Bland Chromatin\n",
      "0.364 Normal Nucleoli\n",
      "0.074 Mitoses\n"
     ]
    }
   ],
   "source": [
    "#Usando el Relief de Orange\n",
    "import Orange\n",
    "df = Orange.data.Table(\"breast-cancer-wisconsin-disc.tab\")\n",
    "#ReliefF usando 10 vecinos mas cercanos y  una muestrd m=400 para updating de los pesos\n",
    "print('Feature scores for best ten features (scored individually):')\n",
    "meas =Orange.preprocess.score.ReliefF(n_iterations=500,k_nearest=1)\n",
    "scores = meas(df)\n",
    "for attr, score in zip(df.domain.attributes, scores):\n",
    "    print('%.3f' % score, attr.name)\n"
   ]
  },
  {
   "cell_type": "markdown",
   "metadata": {},
   "source": [
    "Comment:The best attributes are:6(Bare Nuclei),1 (Clump Thickness),7 (Bland Chromatin), 8 (Normal. nucleoli)"
   ]
  },
  {
   "cell_type": "markdown",
   "metadata": {},
   "source": [
    "#### Example 4: Landsat Dataset"
   ]
  },
  {
   "cell_type": "code",
   "execution_count": 143,
   "metadata": {},
   "outputs": [],
   "source": [
    "url='http://academic.uprm.edu/eacuna/landsat.txt'\n",
    "data = pd.read_table(url, header=None,delim_whitespace=True)\n",
    "y=data.iloc[:,36]\n",
    "X=data.iloc[:,0:36]\n",
    "y1=y.as_matrix()\n",
    "X1=X.as_matrix()\n",
    "features, labels = X.values, y.values\n",
    "X_train, X_test, y_train, y_test = train_test_split(features, labels)"
   ]
  },
  {
   "cell_type": "markdown",
   "metadata": {},
   "source": [
    "### Using Relief from skfeature (ASU)"
   ]
  },
  {
   "cell_type": "code",
   "execution_count": 144,
   "metadata": {
    "scrolled": true
   },
   "outputs": [
    {
     "name": "stdout",
     "output_type": "stream",
     "text": [
      "[ 976917.152 1292891.619  906229.487 1071693.564  909766.879 1157467.244\n",
      "  830073.224  994363.016  964984.972 1289774.198  859437.259 1148954.461\n",
      " 1041899.071 1372314.299  891134.2   1101441.225  974973.239 1271261.7\n",
      "  808720.221  976452.953 1011435.426 1346047.531  782803.463 1042118.782\n",
      " 1050978.736 1412031.808  911416.433 1125161.371  959316.257 1336772.086\n",
      "  822559.414  975436.07   985263.459 1371694.208  842477.69  1089131.571] [25 13 33 21 29  1  9 17  5 11 27 15 35  3 24 23 12 20  7 32  0 19 31 16\n",
      "  8 28 26  4  2 14 10 34  6 30 18 22]\n"
     ]
    }
   ],
   "source": [
    "#usando Relief de la ASU\n",
    "score_relief=reliefF.reliefF(X_train,y_train)\n",
    "feat=reliefF.feature_ranking(score_relief)\n",
    "print(score_relief,feat)"
   ]
  },
  {
   "cell_type": "code",
   "execution_count": null,
   "metadata": {},
   "outputs": [],
   "source": [
    "Comment:The best attributes are:26,14,34,22,30,2,10,18,6,28"
   ]
  },
  {
   "cell_type": "markdown",
   "metadata": {},
   "source": [
    "### Using Relief from Orange"
   ]
  },
  {
   "cell_type": "code",
   "execution_count": 148,
   "metadata": {
    "scrolled": true
   },
   "outputs": [
    {
     "name": "stdout",
     "output_type": "stream",
     "text": [
      "Feature scores for best ten features (scored individually):\n",
      "0.114 a1\n",
      "0.087 a2\n",
      "0.075 a3\n",
      "0.066 a4\n",
      "0.115 a5\n",
      "0.077 a6\n",
      "0.055 a7\n",
      "0.057 a8\n",
      "0.111 a9\n",
      "0.084 a10\n",
      "0.055 a11\n",
      "0.065 a12\n",
      "0.128 a13\n",
      "0.100 a14\n",
      "0.071 a15\n",
      "0.076 a16\n",
      "0.123 a17\n",
      "0.096 a18\n",
      "0.071 a19\n",
      "0.066 a20\n",
      "0.120 a21\n",
      "0.091 a22\n",
      "0.057 a23\n",
      "0.066 a24\n",
      "0.123 a25\n",
      "0.096 a26\n",
      "0.077 a27\n",
      "0.071 a28\n",
      "0.116 a29\n",
      "0.096 a30\n",
      "0.062 a31\n",
      "0.062 a32\n",
      "0.119 a33\n",
      "0.090 a34\n",
      "0.061 a35\n",
      "0.064 a36\n"
     ]
    }
   ],
   "source": [
    "#Usando el Relief de Orange\n",
    "import Orange\n",
    "df = Orange.data.Table(\"c://PW-PR/landsat.tab\")\n",
    "print('Feature scores for best ten features (scored individually):')\n",
    "#ReliefF usando 10 vecinos mas cercanos y  una muestrd m=2000 para updating de los pesos\n",
    "meas =Orange.preprocess.score.ReliefF(n_iterations=2000,k_nearest=10)\n",
    "scores = meas(df)\n",
    "for attr, score in zip(df.domain.attributes, scores):\n",
    "    print('%.3f' % score, attr.name)\n"
   ]
  },
  {
   "cell_type": "markdown",
   "metadata": {},
   "source": [
    "Comment:The best attributes are:a13,a1,a17,a21,a25,a29,a33,a5,a9"
   ]
  },
  {
   "cell_type": "code",
   "execution_count": null,
   "metadata": {},
   "outputs": [],
   "source": []
  }
 ],
 "metadata": {
  "kernelspec": {
   "display_name": "Python 3",
   "language": "python",
   "name": "python3"
  },
  "language_info": {
   "codemirror_mode": {
    "name": "ipython",
    "version": 3
   },
   "file_extension": ".py",
   "mimetype": "text/x-python",
   "name": "python",
   "nbconvert_exporter": "python",
   "pygments_lexer": "ipython3",
   "version": "3.6.7"
  }
 },
 "nbformat": 4,
 "nbformat_minor": 2
}
