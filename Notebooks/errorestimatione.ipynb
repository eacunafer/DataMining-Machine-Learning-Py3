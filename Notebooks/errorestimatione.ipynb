{
 "cells": [
  {
   "cell_type": "markdown",
   "metadata": {},
   "source": [
    "## Data Mining and Machine Learning\n",
    "### Edgar Acuna\n",
    "### Error Estimation (Prediction Estimation)\n",
    "## October 2018"
   ]
  },
  {
   "cell_type": "markdown",
   "metadata": {},
   "source": [
    "### Error Estimation using Cross validation. Dataset Diabetes"
   ]
  },
  {
   "cell_type": "code",
   "execution_count": 91,
   "metadata": {},
   "outputs": [],
   "source": [
    "#Ejemplo de estimacion de la prediccion por Validacion Cruzada\n",
    "#usando el clasifidor LDA y la base de datos Diabetes\n",
    "import numpy as np\n",
    "import pandas as pd\n",
    "from sklearn.model_selection import train_test_split\n",
    "from sklearn.model_selection import ShuffleSplit\n",
    "from sklearn.metrics import recall_score, f1_score\n",
    "from sklearn.discriminant_analysis import LinearDiscriminantAnalysis\n",
    "from sklearn.model_selection import LeaveOneOut"
   ]
  },
  {
   "cell_type": "code",
   "execution_count": 92,
   "metadata": {},
   "outputs": [],
   "source": [
    "names= ['v1', 'v2', 'v3', 'v4', 'v5', 'v6', 'v7','V8','class']\n",
    "diab=pd.read_table(\"http://academic.uprm.edu/eacuna/diabetes.dat\",header=None,names=names)"
   ]
  },
  {
   "cell_type": "code",
   "execution_count": 93,
   "metadata": {},
   "outputs": [],
   "source": [
    "#Obteniendo el vector de clases y la matriz de predictoras\n",
    "y=diab[\"class\"]\n",
    "X=diab.iloc[:,0:8]\n",
    "y1=y.as_matrix()\n",
    "X1=X.as_matrix()"
   ]
  },
  {
   "cell_type": "markdown",
   "metadata": {},
   "source": [
    "#### Estimating the error by resubstitution "
   ]
  },
  {
   "cell_type": "code",
   "execution_count": 94,
   "metadata": {},
   "outputs": [
    {
     "data": {
      "text/plain": [
       "0.78385416666666663"
      ]
     },
     "execution_count": 94,
     "metadata": {},
     "output_type": "execute_result"
    }
   ],
   "source": [
    "#Haciendo el analisis discriminante y calculando el porcentaje de precision\n",
    "ldadis = LinearDiscriminantAnalysis().fit(X1,y1)\n",
    "#Tasa de precision\n",
    "ldadis.score(X1, y1)"
   ]
  },
  {
   "cell_type": "code",
   "execution_count": 95,
   "metadata": {},
   "outputs": [
    {
     "data": {
      "text/plain": [
       "0.89200000000000002"
      ]
     },
     "execution_count": 95,
     "metadata": {},
     "output_type": "execute_result"
    }
   ],
   "source": [
    "#Computing the recall\n",
    "pred=ldadis.predict(X1)\n",
    "recall_score(y1,pred)"
   ]
  },
  {
   "cell_type": "code",
   "execution_count": 96,
   "metadata": {},
   "outputs": [
    {
     "data": {
      "text/plain": [
       "0.84310018903591677"
      ]
     },
     "execution_count": 96,
     "metadata": {},
     "output_type": "execute_result"
    }
   ],
   "source": [
    "#computing f1 score\n",
    "f1_score(y1,pred)"
   ]
  },
  {
   "cell_type": "code",
   "execution_count": 97,
   "metadata": {},
   "outputs": [
    {
     "data": {
      "text/plain": [
       "array([ 0.74025974,  0.75324675,  0.80519481,  0.72727273,  0.72727273,\n",
       "        0.77922078,  0.80519481,  0.80519481,  0.76315789,  0.82894737])"
      ]
     },
     "execution_count": 97,
     "metadata": {},
     "output_type": "execute_result"
    }
   ],
   "source": [
    "#Estimando la precision  por validacion cruzada\n",
    "from sklearn.model_selection import cross_val_score\n",
    "clf = LinearDiscriminantAnalysis()\n",
    "scores = cross_val_score(clf, X1, y1, cv=10)\n",
    "scores   "
   ]
  },
  {
   "cell_type": "code",
   "execution_count": 98,
   "metadata": {},
   "outputs": [
    {
     "name": "stdout",
     "output_type": "stream",
     "text": [
      "CV Accuracy: 0.773 (+/- 0.069)\n"
     ]
    }
   ],
   "source": [
    "#Hallando la precision media y un intervalo de confianza \n",
    "print(\"CV Accuracy: %0.3f (+/- %0.3f)\" % (scores.mean(), scores.std() * 2))"
   ]
  },
  {
   "cell_type": "code",
   "execution_count": 99,
   "metadata": {},
   "outputs": [
    {
     "name": "stdout",
     "output_type": "stream",
     "text": [
      "Accuracy by cross validacion= 0.775088547816 +/- 0.0495902905372\n"
     ]
    }
   ],
   "source": [
    "#Tasa de precision usando validacion cruzada usando 10 repeticiones con 10 folds cada una\n",
    "clf = LinearDiscriminantAnalysis()\n",
    "pred1=[]\n",
    "for i in range (0,11):\n",
    "    cv = ShuffleSplit()\n",
    "    scores = cross_val_score(clf, X1,y1, cv=cv)\n",
    "    pred1.append(scores)\n",
    "print \"Accuracy by cross validacion=\", np.mean(pred1),\"+/-\",np.std(pred1)    "
   ]
  },
  {
   "cell_type": "markdown",
   "metadata": {},
   "source": [
    "### Error Estimation by the holdout method"
   ]
  },
  {
   "cell_type": "code",
   "execution_count": 100,
   "metadata": {},
   "outputs": [
    {
     "data": {
      "text/plain": [
       "0.77922077922077926"
      ]
     },
     "execution_count": 100,
     "metadata": {},
     "output_type": "execute_result"
    }
   ],
   "source": [
    "#Estimando el error por el metodo holdout\n",
    "X_train, X_test, y_train, y_test = train_test_split(X1, y1, test_size=0.3,random_state=0)\n",
    "X_train, y_train\n",
    "\n",
    "X_test, y_test\n",
    "\n",
    "ldadiab = LinearDiscriminantAnalysis().fit(X_train, y_train)\n",
    "ldadiab.score(X_test, y_test)"
   ]
  },
  {
   "cell_type": "code",
   "execution_count": 101,
   "metadata": {},
   "outputs": [
    {
     "name": "stdout",
     "output_type": "stream",
     "text": [
      "Accuracy by holdout: 0.770 (+/- 0.022)\n"
     ]
    }
   ],
   "source": [
    "#Estimando la precision por el metodo holdout con 50 muestras\n",
    "pred=[]\n",
    "for i in range(0,51):\n",
    "    X_train, X_test, y_train, y_test = train_test_split(X1, y1, test_size=0.33)\n",
    "    ldadiab = LinearDiscriminantAnalysis().fit(X_train, y_train)\n",
    "    pred.append(ldadiab.score(X_test, y_test))\n",
    "print(\"Accuracy by holdout: %0.3f (+/- %0.3f)\" % (np.mean(pred), np.std(pred)))"
   ]
  },
  {
   "cell_type": "markdown",
   "metadata": {},
   "source": [
    "### Error Estimation for the Vehicle dataset"
   ]
  },
  {
   "cell_type": "code",
   "execution_count": 102,
   "metadata": {
    "scrolled": true
   },
   "outputs": [
    {
     "name": "stdout",
     "output_type": "stream",
     "text": [
      "<class 'pandas.core.frame.DataFrame'>\n",
      "RangeIndex: 846 entries, 0 to 845\n",
      "Data columns (total 19 columns):\n",
      "COMPACTNESS                  846 non-null int64\n",
      "CIRCULARITY                  846 non-null int64\n",
      "DISTANCE_CIRCULARITY         846 non-null int64\n",
      "RADIUS_RATIO                 846 non-null int64\n",
      "PR.AXIS_ASPECT_RATIO         846 non-null int64\n",
      "MAX.LENGTH_ASPECT_RATIO      846 non-null int64\n",
      "SCATTER_RATIO                846 non-null int64\n",
      "ELONGATEDNESS                846 non-null int64\n",
      "PR.AXIS_RECTANGULARITY       846 non-null int64\n",
      "MAX.LENGTH_RECTANGULARITY    846 non-null int64\n",
      "SCALED_VARIANCE_MAJOR        846 non-null int64\n",
      "SCALED_VARIANCE_MINOR        846 non-null int64\n",
      "SCALED_RADIUS_OF_GYRATION    846 non-null int64\n",
      "SKEWNESS_ABOUT_MAJOR         846 non-null int64\n",
      "SKEWNESS_ABOUT_MINOR         846 non-null int64\n",
      "KURTOSIS_ABOUT_MAJOR         846 non-null int64\n",
      "KURTOSIS_ABOUT_MINOR         846 non-null int64\n",
      "HOLLOWS_RATIO                846 non-null int64\n",
      "Class                        846 non-null object\n",
      "dtypes: int64(18), object(1)\n",
      "memory usage: 125.6+ KB\n"
     ]
    }
   ],
   "source": [
    "#Ejemplo2. Leyendo los datos de vehiculos que tienen 4 clases y 18 predictoras\n",
    "df1=pd.read_csv(\"c://PW-PR/vehicle.csv\")\n",
    "df1.info()"
   ]
  },
  {
   "cell_type": "code",
   "execution_count": 103,
   "metadata": {},
   "outputs": [],
   "source": [
    "#Convirtiendo en matriz la tabla de predictoras y la columna de clases\n",
    "y=df1['Class']\n",
    "X=df1.iloc[:,0:18]\n",
    "y1=y.as_matrix()\n",
    "X1=X.as_matrix()"
   ]
  },
  {
   "cell_type": "code",
   "execution_count": 104,
   "metadata": {},
   "outputs": [
    {
     "data": {
      "text/plain": [
       "0.7978723404255319"
      ]
     },
     "execution_count": 104,
     "metadata": {},
     "output_type": "execute_result"
    }
   ],
   "source": [
    "#Haciendo el analisis discriminante y calculando el porcentaje de precision\n",
    "ldadis = LinearDiscriminantAnalysis().fit(X1,y1)\n",
    "#Tasa de precision\n",
    "ldadis.score(X1, y1)"
   ]
  },
  {
   "cell_type": "code",
   "execution_count": 105,
   "metadata": {},
   "outputs": [
    {
     "data": {
      "text/plain": [
       "array([ 0.79069767,  0.74418605,  0.72941176,  0.77647059,  0.76470588,\n",
       "        0.78823529,  0.82352941,  0.82142857,  0.73493976,  0.84146341])"
      ]
     },
     "execution_count": 105,
     "metadata": {},
     "output_type": "execute_result"
    }
   ],
   "source": [
    "#Estimando la precision  por validacion cruzada\n",
    "from sklearn.model_selection import cross_val_score\n",
    "clf = LinearDiscriminantAnalysis()\n",
    "scores = cross_val_score(clf, X1, y1, cv=10)\n",
    "scores   "
   ]
  },
  {
   "cell_type": "code",
   "execution_count": 106,
   "metadata": {},
   "outputs": [
    {
     "name": "stdout",
     "output_type": "stream",
     "text": [
      "Accuracy: 0.78 (+/- 0.07)\n"
     ]
    }
   ],
   "source": [
    "#Hallando la precision media y un intervalo de confianza \n",
    "print(\"Accuracy: %0.2f (+/- %0.2f)\" % (scores.mean(), scores.std() * 2))"
   ]
  },
  {
   "cell_type": "code",
   "execution_count": 1,
   "metadata": {},
   "outputs": [
    {
     "ename": "NameError",
     "evalue": "name 'train_test_split' is not defined",
     "output_type": "error",
     "traceback": [
      "\u001b[1;31m---------------------------------------------------------------------------\u001b[0m",
      "\u001b[1;31mNameError\u001b[0m                                 Traceback (most recent call last)",
      "\u001b[1;32m<ipython-input-1-7b2229ab1a25>\u001b[0m in \u001b[0;36m<module>\u001b[1;34m()\u001b[0m\n\u001b[0;32m      1\u001b[0m \u001b[1;31m#Estimando el error por el metodo holdout\u001b[0m\u001b[1;33m\u001b[0m\u001b[1;33m\u001b[0m\u001b[0m\n\u001b[1;32m----> 2\u001b[1;33m \u001b[0mX_train\u001b[0m\u001b[1;33m,\u001b[0m \u001b[0mX_test\u001b[0m\u001b[1;33m,\u001b[0m \u001b[0my_train\u001b[0m\u001b[1;33m,\u001b[0m \u001b[0my_test\u001b[0m \u001b[1;33m=\u001b[0m \u001b[0mtrain_test_split\u001b[0m\u001b[1;33m(\u001b[0m\u001b[0mX1\u001b[0m\u001b[1;33m,\u001b[0m \u001b[0my1\u001b[0m\u001b[1;33m,\u001b[0m \u001b[0mtest_size\u001b[0m\u001b[1;33m=\u001b[0m\u001b[1;36m0.3\u001b[0m\u001b[1;33m,\u001b[0m \u001b[0mrandom_state\u001b[0m\u001b[1;33m=\u001b[0m\u001b[1;36m0\u001b[0m\u001b[1;33m)\u001b[0m\u001b[1;33m\u001b[0m\u001b[0m\n\u001b[0m\u001b[0;32m      3\u001b[0m \u001b[0mX_train\u001b[0m\u001b[1;33m,\u001b[0m \u001b[0my_train\u001b[0m\u001b[1;33m\u001b[0m\u001b[0m\n\u001b[0;32m      4\u001b[0m \u001b[1;33m\u001b[0m\u001b[0m\n\u001b[0;32m      5\u001b[0m \u001b[0mX_test\u001b[0m\u001b[1;33m,\u001b[0m \u001b[0my_test\u001b[0m\u001b[1;33m\u001b[0m\u001b[0m\n",
      "\u001b[1;31mNameError\u001b[0m: name 'train_test_split' is not defined"
     ]
    }
   ],
   "source": [
    "#Estimando el error por el metodo holdout\n",
    "X_train, X_test, y_train, y_test = train_test_split(X1, y1, test_size=0.3, random_state=0)\n",
    "X_train, y_train\n",
    "\n",
    "X_test, y_test\n",
    "\n",
    "ldaveh = LinearDiscriminantAnalysis().fit(X_train, y_train)\n",
    "ldaveh.score(X_test, y_test)"
   ]
  }
 ],
 "metadata": {
  "kernelspec": {
   "display_name": "Python 2",
   "language": "python",
   "name": "python2"
  },
  "language_info": {
   "codemirror_mode": {
    "name": "ipython",
    "version": 2
   },
   "file_extension": ".py",
   "mimetype": "text/x-python",
   "name": "python",
   "nbconvert_exporter": "python",
   "pygments_lexer": "ipython2",
   "version": "2.7.13"
  }
 },
 "nbformat": 4,
 "nbformat_minor": 2
}
